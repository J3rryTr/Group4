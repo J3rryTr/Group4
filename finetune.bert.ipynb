{
 "cells": [
  {
   "cell_type": "code",
   "execution_count": null,
   "metadata": {
    "colab": {
     "base_uri": "https://localhost:8080/"
    },
    "id": "QkPH0RbVH5po",
    "outputId": "c05b4923-8164-4ff5-b87e-b09579ce57a5"
   },
   "outputs": [
    {
     "name": "stdout",
     "output_type": "stream",
     "text": [
      "Requirement already satisfied: sentencepiece in /usr/local/lib/python3.10/dist-packages (0.1.99)\n"
     ]
    }
   ],
   "source": [
    "!pip install sentencepiece"
   ]
  },
  {
   "cell_type": "code",
   "execution_count": null,
   "metadata": {
    "colab": {
     "base_uri": "https://localhost:8080/"
    },
    "id": "MOsHUjgdIrIW",
    "outputId": "cae2bfc2-6179-4280-98de-fe58429e8f42"
   },
   "outputs": [
    {
     "name": "stdout",
     "output_type": "stream",
     "text": [
      "Requirement already satisfied: datasets in /usr/local/lib/python3.10/dist-packages (2.18.0)\n",
      "Requirement already satisfied: transformers in /usr/local/lib/python3.10/dist-packages (4.30.0)\n",
      "Requirement already satisfied: seqeval in /usr/local/lib/python3.10/dist-packages (1.2.2)\n",
      "Requirement already satisfied: filelock in /usr/local/lib/python3.10/dist-packages (from datasets) (3.13.3)\n",
      "Requirement already satisfied: numpy>=1.17 in /usr/local/lib/python3.10/dist-packages (from datasets) (1.25.2)\n",
      "Requirement already satisfied: pyarrow>=12.0.0 in /usr/local/lib/python3.10/dist-packages (from datasets) (14.0.2)\n",
      "Requirement already satisfied: pyarrow-hotfix in /usr/local/lib/python3.10/dist-packages (from datasets) (0.6)\n",
      "Requirement already satisfied: dill<0.3.9,>=0.3.0 in /usr/local/lib/python3.10/dist-packages (from datasets) (0.3.8)\n",
      "Requirement already satisfied: pandas in /usr/local/lib/python3.10/dist-packages (from datasets) (1.5.3)\n",
      "Requirement already satisfied: requests>=2.19.0 in /usr/local/lib/python3.10/dist-packages (from datasets) (2.31.0)\n",
      "Requirement already satisfied: tqdm>=4.62.1 in /usr/local/lib/python3.10/dist-packages (from datasets) (4.66.2)\n",
      "Requirement already satisfied: xxhash in /usr/local/lib/python3.10/dist-packages (from datasets) (3.4.1)\n",
      "Requirement already satisfied: multiprocess in /usr/local/lib/python3.10/dist-packages (from datasets) (0.70.16)\n",
      "Requirement already satisfied: fsspec[http]<=2024.2.0,>=2023.1.0 in /usr/local/lib/python3.10/dist-packages (from datasets) (2023.6.0)\n",
      "Requirement already satisfied: aiohttp in /usr/local/lib/python3.10/dist-packages (from datasets) (3.9.3)\n",
      "Requirement already satisfied: huggingface-hub>=0.19.4 in /usr/local/lib/python3.10/dist-packages (from datasets) (0.20.3)\n",
      "Requirement already satisfied: packaging in /usr/local/lib/python3.10/dist-packages (from datasets) (24.0)\n",
      "Requirement already satisfied: pyyaml>=5.1 in /usr/local/lib/python3.10/dist-packages (from datasets) (6.0.1)\n",
      "Requirement already satisfied: regex!=2019.12.17 in /usr/local/lib/python3.10/dist-packages (from transformers) (2023.12.25)\n",
      "Requirement already satisfied: tokenizers!=0.11.3,<0.14,>=0.11.1 in /usr/local/lib/python3.10/dist-packages (from transformers) (0.13.3)\n",
      "Requirement already satisfied: safetensors>=0.3.1 in /usr/local/lib/python3.10/dist-packages (from transformers) (0.4.2)\n",
      "Requirement already satisfied: scikit-learn>=0.21.3 in /usr/local/lib/python3.10/dist-packages (from seqeval) (1.2.2)\n",
      "Requirement already satisfied: aiosignal>=1.1.2 in /usr/local/lib/python3.10/dist-packages (from aiohttp->datasets) (1.3.1)\n",
      "Requirement already satisfied: attrs>=17.3.0 in /usr/local/lib/python3.10/dist-packages (from aiohttp->datasets) (23.2.0)\n",
      "Requirement already satisfied: frozenlist>=1.1.1 in /usr/local/lib/python3.10/dist-packages (from aiohttp->datasets) (1.4.1)\n",
      "Requirement already satisfied: multidict<7.0,>=4.5 in /usr/local/lib/python3.10/dist-packages (from aiohttp->datasets) (6.0.5)\n",
      "Requirement already satisfied: yarl<2.0,>=1.0 in /usr/local/lib/python3.10/dist-packages (from aiohttp->datasets) (1.9.4)\n",
      "Requirement already satisfied: async-timeout<5.0,>=4.0 in /usr/local/lib/python3.10/dist-packages (from aiohttp->datasets) (4.0.3)\n",
      "Requirement already satisfied: typing-extensions>=3.7.4.3 in /usr/local/lib/python3.10/dist-packages (from huggingface-hub>=0.19.4->datasets) (4.10.0)\n",
      "Requirement already satisfied: charset-normalizer<4,>=2 in /usr/local/lib/python3.10/dist-packages (from requests>=2.19.0->datasets) (3.3.2)\n",
      "Requirement already satisfied: idna<4,>=2.5 in /usr/local/lib/python3.10/dist-packages (from requests>=2.19.0->datasets) (3.6)\n",
      "Requirement already satisfied: urllib3<3,>=1.21.1 in /usr/local/lib/python3.10/dist-packages (from requests>=2.19.0->datasets) (2.0.7)\n",
      "Requirement already satisfied: certifi>=2017.4.17 in /usr/local/lib/python3.10/dist-packages (from requests>=2.19.0->datasets) (2024.2.2)\n",
      "Requirement already satisfied: scipy>=1.3.2 in /usr/local/lib/python3.10/dist-packages (from scikit-learn>=0.21.3->seqeval) (1.11.4)\n",
      "Requirement already satisfied: joblib>=1.1.1 in /usr/local/lib/python3.10/dist-packages (from scikit-learn>=0.21.3->seqeval) (1.3.2)\n",
      "Requirement already satisfied: threadpoolctl>=2.0.0 in /usr/local/lib/python3.10/dist-packages (from scikit-learn>=0.21.3->seqeval) (3.4.0)\n",
      "Requirement already satisfied: python-dateutil>=2.8.1 in /usr/local/lib/python3.10/dist-packages (from pandas->datasets) (2.8.2)\n",
      "Requirement already satisfied: pytz>=2020.1 in /usr/local/lib/python3.10/dist-packages (from pandas->datasets) (2023.4)\n",
      "Requirement already satisfied: six>=1.5 in /usr/local/lib/python3.10/dist-packages (from python-dateutil>=2.8.1->pandas->datasets) (1.16.0)\n"
     ]
    }
   ],
   "source": [
    "! pip install datasets transformers seqeval"
   ]
  },
  {
   "cell_type": "code",
   "execution_count": null,
   "metadata": {
    "colab": {
     "base_uri": "https://localhost:8080/",
     "height": 113,
     "referenced_widgets": [
      "d46d2ba7264f49f8a394c8c2b24409b1",
      "01ea157f294f441d9878c7ae7e4ae0eb",
      "7594ba1d6bdc4ce3a02ddea99df12c33",
      "dbf7c9f3a72c431995530cf346790cea",
      "dbbc472a488f446e96b3a026971da391",
      "65474d8d88d14800b7304f326d4594b0",
      "08b15fb91d5a4b309e51d7f139ffd36b",
      "8c5cf660ca2b42569a360e4a19634c3f",
      "89a4c7da21a64f2ca4ed234f18c2b0c2",
      "3f7385fcbb8745c2aa10c3e79ed5f927",
      "e01fc619e2f64b8eb25615d7a630a006",
      "a780aef7bbb0472e8f0f51e2c71b3463",
      "b0a8dc6edec94085b1f5a2929351f1f0",
      "cf100cca6ccc440797b8b602c0c45b18",
      "d967bae7ced44bf1a5e6aece5028d0cd",
      "29feafd70b6e4a1a9a45762c6aa98baf",
      "89f5053da1974af4aa2f6363fa41d05d",
      "2f30234df9614a4cba9efeb72092c04a",
      "58cc42eba73a4fc6b724f4d2386c89a7",
      "69d195c931ac47769f5fccf47a9fdfdf",
      "ff473db6120a4dd996851d4628387a4a",
      "15199c50662a4994ad3544897e15b0a8",
      "55a908a2a09240a68dd3e39835a9f322",
      "c7833dd508b7410b81a69cc72daa9469",
      "e95b8fd69d5849adaf75145d6fb9ee42",
      "ef4d78721ac64ef48aeceb79e15e9db9",
      "f82e2ff6e5b048da9b01d0154b30b699",
      "b60b356523a6408899cc4cda9e130da2",
      "d557b2f457e94d64ae63c697bacf248e"
     ]
    },
    "id": "fEBht0XvzHfn",
    "outputId": "804d0548-1a7f-452f-c01f-cb5a0b99719f"
   },
   "outputs": [
    {
     "data": {
      "application/vnd.jupyter.widget-view+json": {
       "model_id": "d46d2ba7264f49f8a394c8c2b24409b1",
       "version_major": 2,
       "version_minor": 0
      },
      "text/plain": [
       "VBox(children=(HTML(value='<center> <img\\nsrc=https://huggingface.co/front/assets/huggingface_logo-noborder.sv…"
      ]
     },
     "metadata": {},
     "output_type": "display_data"
    }
   ],
   "source": [
    "from huggingface_hub import notebook_login\n",
    "\n",
    "notebook_login()"
   ]
  },
  {
   "cell_type": "code",
   "execution_count": null,
   "metadata": {
    "colab": {
     "base_uri": "https://localhost:8080/"
    },
    "id": "HR6-jWLizHfo",
    "outputId": "fe895814-d116-4162-de39-bda0a0d3624e"
   },
   "outputs": [
    {
     "name": "stdout",
     "output_type": "stream",
     "text": [
      "Reading package lists... Done\n",
      "Building dependency tree... Done\n",
      "Reading state information... Done\n",
      "git-lfs is already the newest version (3.0.2-1ubuntu0.2).\n",
      "0 upgraded, 0 newly installed, 0 to remove and 45 not upgraded.\n"
     ]
    }
   ],
   "source": [
    "!apt install git-lfs"
   ]
  },
  {
   "cell_type": "code",
   "execution_count": null,
   "metadata": {
    "colab": {
     "base_uri": "https://localhost:8080/"
    },
    "id": "Hdt28dgrzHfo",
    "outputId": "26167dd0-79dc-40e4-9fff-576eabceedfc"
   },
   "outputs": [
    {
     "name": "stdout",
     "output_type": "stream",
     "text": [
      "4.30.0\n"
     ]
    }
   ],
   "source": [
    "import transformers\n",
    "\n",
    "print(transformers.__version__)"
   ]
  },
  {
   "cell_type": "code",
   "execution_count": null,
   "metadata": {
    "id": "mO0ZMTbQzHfo"
   },
   "outputs": [],
   "source": [
    "from transformers.utils import send_example_telemetry\n",
    "\n",
    "send_example_telemetry(\"token_classification_notebook\", framework=\"pytorch\")"
   ]
  },
  {
   "cell_type": "code",
   "execution_count": null,
   "metadata": {
    "id": "zVvslsfMIrIh"
   },
   "outputs": [],
   "source": [
    "task = \"ner\" # Should be one of \"ner\", \"pos\" or \"chunk\"\n",
    "model_checkpoint = \"Clinical-AI-Apollo/Medical-NER\"\n",
    "batch_size = 4"
   ]
  },
  {
   "cell_type": "code",
   "execution_count": null,
   "metadata": {
    "id": "IreSlFmlIrIm"
   },
   "outputs": [],
   "source": [
    "from datasets import load_dataset, load_metric"
   ]
  },
  {
   "cell_type": "code",
   "execution_count": null,
   "metadata": {
    "colab": {
     "base_uri": "https://localhost:8080/"
    },
    "id": "s_AY1ATSIrIq",
    "outputId": "2ee99292-cbb9-4937-fc47-4a4f2243cea8"
   },
   "outputs": [
    {
     "name": "stderr",
     "output_type": "stream",
     "text": [
      "/usr/local/lib/python3.10/dist-packages/huggingface_hub/utils/_token.py:88: UserWarning: \n",
      "The secret `HF_TOKEN` does not exist in your Colab secrets.\n",
      "To authenticate with the Hugging Face Hub, create a token in your settings tab (https://huggingface.co/settings/tokens), set it as secret in your Google Colab and restart your session.\n",
      "You will be able to reuse this secret in all of your notebooks.\n",
      "Please note that authentication is recommended but still optional to access public models or datasets.\n",
      "  warnings.warn(\n"
     ]
    }
   ],
   "source": [
    "datasets = load_dataset(\"ktgiahieu/maccrobat2018_2020\")\n",
    "datasets = datasets['train'].train_test_split(test_size=0.1)"
   ]
  },
  {
   "cell_type": "code",
   "execution_count": null,
   "metadata": {
    "colab": {
     "base_uri": "https://localhost:8080/"
    },
    "id": "GWiVUF0jIrIv",
    "outputId": "a5234c1d-c51e-4ad7-b0f7-e290ff8c634d"
   },
   "outputs": [
    {
     "data": {
      "text/plain": [
       "DatasetDict({\n",
       "    train: Dataset({\n",
       "        features: ['tokens', 'tags'],\n",
       "        num_rows: 360\n",
       "    })\n",
       "    test: Dataset({\n",
       "        features: ['tokens', 'tags'],\n",
       "        num_rows: 40\n",
       "    })\n",
       "})"
      ]
     },
     "execution_count": 12,
     "metadata": {},
     "output_type": "execute_result"
    }
   ],
   "source": [
    "datasets"
   ]
  },
  {
   "cell_type": "code",
   "execution_count": null,
   "metadata": {
    "id": "_uqwjTDI2a5Q"
   },
   "outputs": [],
   "source": [
    "from datasets import Dataset, ClassLabel, Value, DatasetDict\n",
    "\n",
    "# Define the ClassLabel feature with the label names\n",
    "label_list = ['B-Activity', 'B-Administration', 'B-Age', 'B-Area', 'B-Biological_attribute', 'B-Biological_structure', 'B-Clinical_event', 'B-Color', 'B-Coreference', 'B-Date', 'B-Detailed_description', 'B-Diagnostic_procedure', 'B-Disease_disorder', 'B-Distance', 'B-Dosage', 'B-Duration', 'B-Family_history', 'B-Frequency', 'B-Height', 'B-History', 'B-Lab_value', 'B-Mass', 'B-Medication', 'B-Nonbiological_location', 'B-Occupation', 'B-Other_entity', 'B-Other_event', 'B-Outcome', 'B-Personal_background', 'B-Qualitative_concept', 'B-Quantitative_concept', 'B-Severity', 'B-Sex', 'B-Shape', 'B-Sign_symptom', 'B-Subject', 'B-Texture', 'B-Therapeutic_procedure', 'B-Time', 'B-Volume', 'B-Weight', 'I-Activity', 'I-Administration', 'I-Age', 'I-Area', 'I-Biological_attribute', 'I-Biological_structure', 'I-Clinical_event', 'I-Color', 'I-Coreference', 'I-Date', 'I-Detailed_description', 'I-Diagnostic_procedure', 'I-Disease_disorder', 'I-Distance', 'I-Dosage', 'I-Duration', 'I-Family_history', 'I-Frequency', 'I-Height', 'I-History', 'I-Lab_value', 'I-Mass', 'I-Medication', 'I-Nonbiological_location', 'I-Occupation', 'I-Other_entity', 'I-Other_event', 'I-Outcome', 'I-Personal_background', 'I-Qualitative_concept', 'I-Quantitative_concept', 'I-Severity', 'I-Shape', 'I-Sign_symptom', 'I-Subject', 'I-Texture', 'I-Therapeutic_procedure', 'I-Time', 'I-Volume', 'I-Weight', 'O']\n",
    "label = ClassLabel(names=label_list)\n",
    "# Define a new feature with the numeric labels\n",
    "numeric_labels_feature = Value(\"int32\")"
   ]
  },
  {
   "cell_type": "code",
   "execution_count": null,
   "metadata": {
    "colab": {
     "base_uri": "https://localhost:8080/",
     "height": 81,
     "referenced_widgets": [
      "7cd08ffb79e14fba85e2fc9966eb9bcc",
      "2b91f2384a844e14b89552efc1dc2914",
      "df73eafb812344a7b470123003a652fc",
      "7a6d36d7edd646d8b47fd8e7bb21a945",
      "09596ab02ce445ffbfb403847961bff0",
      "47a081c1b44e445b90c380d5a161740e",
      "8c9d750a514441dcbc8ec935005fbc91",
      "b73769c0d40444f297ae102dc4e67bb1",
      "2622e17875dd4c93a482ca165eda2e4d",
      "05dfc071056b47a78917dc2806a530ee",
      "1a05278708ec45619e25e70c77a05358",
      "a5ddbfc90f2f49deb523a8570ddbcbe4",
      "6d477a82d9524cadbd1e449af1cb30fa",
      "e0a67762551347699c91d17fac2d6e18",
      "8cb2007f327c47a7a14e9fa7607571f8",
      "28fd7a681557450ab8791256f56f5a9f",
      "88387d41042d497ebc4b5177909cbf22",
      "d06e2c119c1c445787bd84c131e5f6f6",
      "f8706aea70c74c9d971f0117d541f21c",
      "9e7c2008898e462a9d5668ee064f153f",
      "3569ad1535ed428c8165aa6521acafb5",
      "a469c7e29eef4385a7e39f20701ae3df"
     ]
    },
    "id": "FFzWOIEz7lSw",
    "outputId": "ee76cfc3-2ff9-42d8-db04-8413f12f627a"
   },
   "outputs": [
    {
     "data": {
      "application/vnd.jupyter.widget-view+json": {
       "model_id": "7cd08ffb79e14fba85e2fc9966eb9bcc",
       "version_major": 2,
       "version_minor": 0
      },
      "text/plain": [
       "Map:   0%|          | 0/360 [00:00<?, ? examples/s]"
      ]
     },
     "metadata": {},
     "output_type": "display_data"
    },
    {
     "data": {
      "application/vnd.jupyter.widget-view+json": {
       "model_id": "a5ddbfc90f2f49deb523a8570ddbcbe4",
       "version_major": 2,
       "version_minor": 0
      },
      "text/plain": [
       "Map:   0%|          | 0/40 [00:00<?, ? examples/s]"
      ]
     },
     "metadata": {},
     "output_type": "display_data"
    }
   ],
   "source": [
    "datasets = datasets.map(lambda example: {\"tokens\": example['tokens'],\n",
    "    \"tags\": example[\"tags\"],\n",
    "    \"numeric_tags\": [label.encode_example(x) for x in example[\"tags\"]],\n",
    "})"
   ]
  },
  {
   "cell_type": "code",
   "execution_count": null,
   "metadata": {
    "colab": {
     "base_uri": "https://localhost:8080/"
    },
    "id": "06DMUWn79CrA",
    "outputId": "120c33e3-e6ac-418d-caf6-a55b1fe288b2"
   },
   "outputs": [
    {
     "data": {
      "text/plain": [
       "DatasetDict({\n",
       "    train: Dataset({\n",
       "        features: ['tokens', 'tags', 'numeric_tags'],\n",
       "        num_rows: 360\n",
       "    })\n",
       "    test: Dataset({\n",
       "        features: ['tokens', 'tags', 'numeric_tags'],\n",
       "        num_rows: 40\n",
       "    })\n",
       "})"
      ]
     },
     "execution_count": 15,
     "metadata": {},
     "output_type": "execute_result"
    }
   ],
   "source": [
    "datasets"
   ]
  },
  {
   "cell_type": "code",
   "execution_count": null,
   "metadata": {
    "id": "gUq7-ocTzHfs"
   },
   "outputs": [],
   "source": [
    "# label_list = datasets[\"train\"].features[f\"{task}_tags\"].feature.names\n",
    "# label_list"
   ]
  },
  {
   "cell_type": "code",
   "execution_count": null,
   "metadata": {
    "id": "i3j8APAoIrI3"
   },
   "outputs": [],
   "source": [
    "from datasets import ClassLabel, Sequence\n",
    "import random\n",
    "import pandas as pd\n",
    "from IPython.display import display, HTML\n",
    "\n",
    "def show_random_elements(dataset, num_examples=10):\n",
    "    assert num_examples <= len(dataset), \"Can't pick more elements than there are in the dataset.\"\n",
    "    picks = []\n",
    "    for _ in range(num_examples):\n",
    "        pick = random.randint(0, len(dataset)-1)\n",
    "        while pick in picks:\n",
    "            pick = random.randint(0, len(dataset)-1)\n",
    "        picks.append(pick)\n",
    "\n",
    "    df = pd.DataFrame(dataset[picks])\n",
    "    for column, typ in dataset.features.items():\n",
    "        if isinstance(typ, ClassLabel):\n",
    "            df[column] = df[column].transform(lambda i: typ.names[i])\n",
    "        elif isinstance(typ, Sequence) and isinstance(typ.feature, ClassLabel):\n",
    "            df[column] = df[column].transform(lambda x: [typ.feature.names[i] for i in x])\n",
    "    display(HTML(df.to_html()))"
   ]
  },
  {
   "cell_type": "code",
   "execution_count": null,
   "metadata": {
    "colab": {
     "base_uri": "https://localhost:8080/",
     "height": 1000
    },
    "id": "SZy5tRB_IrI7",
    "outputId": "389f5eff-d242-4b86-9d5c-660005df8788",
    "scrolled": true
   },
   "outputs": [
    {
     "data": {
      "text/html": [
       "<table border=\"1\" class=\"dataframe\">\n",
       "  <thead>\n",
       "    <tr style=\"text-align: right;\">\n",
       "      <th></th>\n",
       "      <th>tokens</th>\n",
       "      <th>tags</th>\n",
       "      <th>numeric_tags</th>\n",
       "    </tr>\n",
       "  </thead>\n",
       "  <tbody>\n",
       "    <tr>\n",
       "      <th>0</th>\n",
       "      <td>[A, 30, -, year, -, old, female, (, 65, kg, ), underwent, rhinoplasty, under, general, anaesthesia, ,, which, was, induced, using, a, combination, of, a, bolus, of, Remifentanyl, (, 0.5, μg, /, kg, ), and, Propofol, 2, mg, /, kg, ., \\n, Muscle, paralysis, was, obtained, with, Cisatracurium, (, 0.15, μg, /, kg, ), ., \\n, Transoral, intubation, was, performed, with, a, Macintosh, blade, (, No.3, ), and, a, size, 7, mm, diameter, reinforced, tracheal, tube, was, easily, and, gently, placed, in, the, trachea, ,, on, the, first, attempt, and, was, then, fixed, to, the, right, corner, of, the, mouth, ...]</td>\n",
       "      <td>[O, B-Age, I-Age, I-Age, I-Age, I-Age, B-Sex, O, O, O, O, O, B-Therapeutic_procedure, O, B-Medication, I-Medication, O, O, O, O, O, O, O, O, O, O, O, B-Medication, O, O, O, O, O, O, O, B-Medication, B-Dosage, I-Dosage, I-Dosage, I-Dosage, O, O, O, O, O, O, O, B-Medication, O, B-Dosage, I-Dosage, I-Dosage, I-Dosage, O, O, O, O, B-Therapeutic_procedure, O, O, O, O, B-Therapeutic_procedure, I-Therapeutic_procedure, O, B-Detailed_description, O, O, O, O, O, O, O, O, B-Therapeutic_procedure, I-Therapeutic_procedure, O, O, O, O, O, O, O, B-Biological_structure, O, O, O, O, O, O, O, O, O, O, O, B-Biological_structure, I-Biological_structure, I-Biological_structure, I-Biological_structure, I-Biological_structure, ...]</td>\n",
       "      <td>[81, 2, 43, 43, 43, 43, 32, 81, 81, 81, 81, 81, 37, 81, 22, 63, 81, 81, 81, 81, 81, 81, 81, 81, 81, 81, 81, 22, 81, 81, 81, 81, 81, 81, 81, 22, 14, 55, 55, 55, 81, 81, 81, 81, 81, 81, 81, 22, 81, 14, 55, 55, 55, 81, 81, 81, 81, 37, 81, 81, 81, 81, 37, 77, 81, 10, 81, 81, 81, 81, 81, 81, 81, 81, 37, 77, 81, 81, 81, 81, 81, 81, 81, 5, 81, 81, 81, 81, 81, 81, 81, 81, 81, 81, 81, 5, 46, 46, 46, 46, ...]</td>\n",
       "    </tr>\n",
       "    <tr>\n",
       "      <th>1</th>\n",
       "      <td>[A, 74, -, year, -, old, man, was, referred, to, our, hospital, in, November, 2000, because, of, liver, dysfunction, detected, during, a, medical, checkup, ., \\n, The, patient, had, been, diagnosed, with, nephrotic, syndrome, in, 1995, ., \\n, Laboratory, examinations, showed, elevated, serum, hepatobiliary, enzymes, and, IgM, ,, and, the, presence, of, antimitochondrial, antibodies, ., \\n, Serologic, markers, for, Hepatitis, B, and, C, viruses, were, negative, ., \\n, Histopathologic, examination, of, a, liver, biopsy, specimen, obtained, at, laparoscopy, revealed, non, -, suppurative, destructive, cholangitis, in, the, portal, area, (, Figure, ​1, ), ., \\n, The, diagnosis, of, PBC, (, Scheuer, ...]</td>\n",
       "      <td>[O, B-Age, I-Age, I-Age, I-Age, I-Age, B-Sex, O, B-Clinical_event, O, O, B-Nonbiological_location, O, B-Date, I-Date, O, O, B-Sign_symptom, I-Sign_symptom, O, O, O, O, O, O, O, O, O, O, O, O, O, B-Disease_disorder, I-Disease_disorder, O, B-Date, O, O, B-Diagnostic_procedure, I-Diagnostic_procedure, O, O, B-Diagnostic_procedure, I-Diagnostic_procedure, I-Diagnostic_procedure, O, B-Diagnostic_procedure, O, O, O, O, O, B-Diagnostic_procedure, I-Diagnostic_procedure, O, O, O, O, O, B-Diagnostic_procedure, I-Diagnostic_procedure, O, B-Diagnostic_procedure, O, O, B-Lab_value, O, O, B-Diagnostic_procedure, I-Diagnostic_procedure, O, O, O, B-Diagnostic_procedure, I-Diagnostic_procedure, O, O, B-Therapeutic_procedure, O, O, O, O, O, B-Disease_disorder, O, O, B-Biological_structure, I-Biological_structure, O, O, O, O, O, O, O, O, O, B-Disease_disorder, O, B-Disease_disorder, ...]</td>\n",
       "      <td>[81, 2, 43, 43, 43, 43, 32, 81, 6, 81, 81, 23, 81, 9, 50, 81, 81, 34, 74, 81, 81, 81, 81, 81, 81, 81, 81, 81, 81, 81, 81, 81, 12, 53, 81, 9, 81, 81, 11, 52, 81, 81, 11, 52, 52, 81, 11, 81, 81, 81, 81, 81, 11, 52, 81, 81, 81, 81, 81, 11, 52, 81, 11, 81, 81, 20, 81, 81, 11, 52, 81, 81, 81, 11, 52, 81, 81, 37, 81, 81, 81, 81, 81, 12, 81, 81, 5, 46, 81, 81, 81, 81, 81, 81, 81, 81, 81, 12, 81, 12, ...]</td>\n",
       "    </tr>\n",
       "    <tr>\n",
       "      <th>2</th>\n",
       "      <td>[The, 31, -, year, -, old, white, primipara, with, twin, pregnancy, was, admitted, to, hospital, in, the, 38th, week, of, gestation, with, elevated, blood, pressure, (, 150/100, mmHg, ), ., \\n, After, receiving, antihypertensive, treatment, blood, pressure, was, 120/80, ., \\n, All, laboratory, variables, ,, including, plasma, proteins, ,, were, within, their, respective, reference, intervals, ., \\n, Few, hours, after, admission, to, the, hospital, the, contractions, started, ,, and, the, caesarean, section, was, performed, because, of, vertex, -, transverse, presentation, of, twins, ., \\n, Liveborn, female, and, male, were, delivered, ., \\n, The, postoperative, course, was, initially, inconspicuous, ., \\n, ...]</td>\n",
       "      <td>[O, B-Age, I-Age, I-Age, I-Age, I-Age, B-Personal_background, B-History, I-History, I-History, I-History, O, B-Clinical_event, O, O, O, O, B-Date, I-Date, I-Date, I-Date, O, B-Sign_symptom, I-Sign_symptom, I-Sign_symptom, O, B-Lab_value, I-Lab_value, O, O, O, O, O, B-Medication, I-Medication, B-Diagnostic_procedure, I-Diagnostic_procedure, O, B-Lab_value, O, O, O, B-Diagnostic_procedure, I-Diagnostic_procedure, I-Diagnostic_procedure, I-Diagnostic_procedure, I-Diagnostic_procedure, I-Diagnostic_procedure, O, O, B-Lab_value, I-Lab_value, I-Lab_value, I-Lab_value, I-Lab_value, O, O, B-Time, I-Time, I-Time, I-Time, I-Time, I-Time, I-Time, O, B-Sign_symptom, I-Sign_symptom, O, O, O, B-Therapeutic_procedure, I-Therapeutic_procedure, O, O, O, O, B-Sign_symptom, I-Sign_symptom, I-Sign_symptom, I-Sign_symptom, I-Sign_symptom, I-Sign_symptom, O, O, O, O, O, O, O, O, O, O, O, O, O, O, O, B-Sign_symptom, O, O, ...]</td>\n",
       "      <td>[81, 2, 43, 43, 43, 43, 28, 19, 60, 60, 60, 81, 6, 81, 81, 81, 81, 9, 50, 50, 50, 81, 34, 74, 74, 81, 20, 61, 81, 81, 81, 81, 81, 22, 63, 11, 52, 81, 20, 81, 81, 81, 11, 52, 52, 52, 52, 52, 81, 81, 20, 61, 61, 61, 61, 81, 81, 38, 78, 78, 78, 78, 78, 78, 81, 34, 74, 81, 81, 81, 37, 77, 81, 81, 81, 81, 34, 74, 74, 74, 74, 74, 81, 81, 81, 81, 81, 81, 81, 81, 81, 81, 81, 81, 81, 81, 81, 34, 81, 81, ...]</td>\n",
       "    </tr>\n",
       "    <tr>\n",
       "      <th>3</th>\n",
       "      <td>[A, 20, -, year, -, old, previously, healthy, Bengali, man, presented, to, our, hospital, with, anuria, and, features, of, uremic, encephalopathy, ., \\n, Ten, days, prior, to, this, presentation, ,, he, had, experienced, severe, upper, abdominal, pain, and, vomiting, ,, and, he, had, been, treated, in, a, primary, care, facility, for, having, a, case, of, acute, pancreatitis, ., \\n, His, initial, symptoms, improved, ;, however, ,, he, gradually, became, anuric, and, disoriented, ., \\n, Then, he, was, transferred, to, our, hospital, for, further, management, ., \\n, At, presentation, to, our, hospital, ,, he, was, severely, agitated, ,, restless, ,, and, ...]</td>\n",
       "      <td>[O, B-Age, I-Age, I-Age, I-Age, I-Age, B-History, I-History, B-Personal_background, B-Sex, B-Clinical_event, O, O, B-Nonbiological_location, O, B-Sign_symptom, O, O, O, O, B-Disease_disorder, O, O, O, O, O, O, O, O, O, O, O, O, O, O, O, O, O, O, O, O, O, O, O, O, O, O, O, O, O, O, O, O, O, O, O, O, O, O, O, O, O, O, O, O, O, O, O, O, O, O, O, O, O, O, O, O, O, O, O, O, O, O, O, O, O, O, O, O, O, O, O, O, O, O, O, O, O, O, O, ...]</td>\n",
       "      <td>[81, 2, 43, 43, 43, 43, 19, 60, 28, 32, 6, 81, 81, 23, 81, 34, 81, 81, 81, 81, 12, 81, 81, 81, 81, 81, 81, 81, 81, 81, 81, 81, 81, 81, 81, 81, 81, 81, 81, 81, 81, 81, 81, 81, 81, 81, 81, 81, 81, 81, 81, 81, 81, 81, 81, 81, 81, 81, 81, 81, 81, 81, 81, 81, 81, 81, 81, 81, 81, 81, 81, 81, 81, 81, 81, 81, 81, 81, 81, 81, 81, 81, 81, 81, 81, 81, 81, 81, 81, 81, 81, 81, 81, 81, 81, 81, 81, 81, 81, 81, ...]</td>\n",
       "    </tr>\n",
       "    <tr>\n",
       "      <th>4</th>\n",
       "      <td>[The, patient, is, an, 18, -, year, -, old, Han, female, admitted, to, Peking, Union, Medical, College, Hospital, due, to, adrenal, crisis, triggered, by, pneumonia, ., \\n, She, has, developed, recurrent, respiratory, infections, since, age, 5, ,, and, failed, to, respond, to, multiple, hepatitis, B, virus, (, HBV, ), vaccinations, ., \\n, Reduced, serum, cortisol, and, ACTH, levels, were, discovered, at, 16, when, glucocorticoid, replacement, was, initiated, ., \\n, In, addition, ,, hair, loss, started, from, age, 4, ,, and, absence, of, pubic, and, axillary, hair, was, noticed, after, development, of, regular, menstruation, ., \\n, Her, history, includes, nephrotic, syndrome, ...]</td>\n",
       "      <td>[O, O, O, O, B-Age, I-Age, I-Age, I-Age, I-Age, B-Personal_background, B-Sex, B-Clinical_event, O, B-Nonbiological_location, I-Nonbiological_location, I-Nonbiological_location, I-Nonbiological_location, I-Nonbiological_location, O, O, O, O, O, O, B-Disease_disorder, O, O, O, O, O, O, O, B-Disease_disorder, O, B-Date, I-Date, O, O, O, O, O, O, O, O, O, O, O, O, O, B-Medication, O, O, O, O, B-Diagnostic_procedure, O, B-Diagnostic_procedure, O, O, O, O, B-Date, O, B-Medication, I-Medication, O, O, O, O, O, O, O, B-Sign_symptom, I-Sign_symptom, O, O, B-Date, I-Date, O, O, B-Sign_symptom, I-Sign_symptom, I-Sign_symptom, I-Sign_symptom, I-Sign_symptom, I-Sign_symptom, O, O, O, B-Other_event, I-Other_event, I-Other_event, I-Other_event, O, O, O, O, O, B-Disease_disorder, I-Disease_disorder, ...]</td>\n",
       "      <td>[81, 81, 81, 81, 2, 43, 43, 43, 43, 28, 32, 6, 81, 23, 64, 64, 64, 64, 81, 81, 81, 81, 81, 81, 12, 81, 81, 81, 81, 81, 81, 81, 12, 81, 9, 50, 81, 81, 81, 81, 81, 81, 81, 81, 81, 81, 81, 81, 81, 22, 81, 81, 81, 81, 11, 81, 11, 81, 81, 81, 81, 9, 81, 22, 63, 81, 81, 81, 81, 81, 81, 81, 34, 74, 81, 81, 9, 50, 81, 81, 34, 74, 74, 74, 74, 74, 81, 81, 81, 26, 67, 67, 67, 81, 81, 81, 81, 81, 12, 53, ...]</td>\n",
       "    </tr>\n",
       "    <tr>\n",
       "      <th>5</th>\n",
       "      <td>[A, 55, -, year, -, old, woman, was, referred, to, our, hospital, because, of, a, suspicion, of, mediastinal, tumor, incidentally, found, through, a, medical, -, checkup, plain, X, -, ray, photography, (, X, -, P, ), (, Figure, ​(Figure1A).1A, ), ., \\n, Chest, MRI, revealed, a, 3,  , cm, diameter, tumor, which, seemed, to, connect, to, the, right, lobe, of, thyroid, and, projected, into, the, mediastinum, (, Figure, ​1B, ), ., \\n, By, 123I, -, RI, ,, no, unusual, accumulation, was, detected, (, Figure, ​1C, ), ., \\n, A, fine, needle, aspiration, biopsy, ,, which, is, viewed, as, the, “, ...]</td>\n",
       "      <td>[O, B-Age, I-Age, I-Age, I-Age, I-Age, B-Sex, O, B-Clinical_event, O, O, B-Nonbiological_location, O, O, O, O, O, O, B-Sign_symptom, O, O, O, O, B-Clinical_event, I-Clinical_event, I-Clinical_event, O, B-Diagnostic_procedure, I-Diagnostic_procedure, I-Diagnostic_procedure, I-Diagnostic_procedure, O, B-Diagnostic_procedure, I-Diagnostic_procedure, I-Diagnostic_procedure, O, O, O, O, O, O, O, O, B-Diagnostic_procedure, O, O, O, O, O, O, B-Sign_symptom, O, O, O, O, O, O, O, O, O, O, O, O, O, O, B-Biological_structure, O, O, O, O, O, O, O, B-Diagnostic_procedure, I-Diagnostic_procedure, I-Diagnostic_procedure, O, B-Lab_value, I-Lab_value, I-Lab_value, O, O, O, O, O, O, O, O, O, O, O, O, B-Diagnostic_procedure, O, O, O, O, O, O, O, ...]</td>\n",
       "      <td>[81, 2, 43, 43, 43, 43, 32, 81, 6, 81, 81, 23, 81, 81, 81, 81, 81, 81, 34, 81, 81, 81, 81, 6, 47, 47, 81, 11, 52, 52, 52, 81, 11, 52, 52, 81, 81, 81, 81, 81, 81, 81, 81, 11, 81, 81, 81, 81, 81, 81, 34, 81, 81, 81, 81, 81, 81, 81, 81, 81, 81, 81, 81, 81, 81, 5, 81, 81, 81, 81, 81, 81, 81, 11, 52, 52, 81, 20, 61, 61, 81, 81, 81, 81, 81, 81, 81, 81, 81, 81, 81, 81, 11, 81, 81, 81, 81, 81, 81, 81, ...]</td>\n",
       "    </tr>\n",
       "    <tr>\n",
       "      <th>6</th>\n",
       "      <td>[A, 42, -, year, -, old, woman, presented, with, a, right, breast, lump, ,, lower, back, pain, ,, loss, of, height, ,, marked, kyphosis, and, hepatomegaly, ., \\n, Core, biopsies, from, the, breast, lump, showed, ductal, carcinoma, in, situ, (, sample, labelled, P1.1, ;, Supplementary, Fig.1, and, Supplementary, Table, 1, ), ., \\n, An, additional, biopsy, from, an, ipsilateral, axillary, lymph, node, (, P1.2, ), revealed, metastatic, ductal, adenocarcinoma, (, ER+, (, 8/8, ), and, HER2, +, (, 3, +, ), ), ., \\n, Computed, tomography, scan, revealed, widespread, metastatic, disease, in, bones, ,, pleura, and, liver, (, Supplementary, Fig.2, ...]</td>\n",
       "      <td>[O, B-Age, I-Age, I-Age, I-Age, I-Age, B-Sex, O, O, O, O, O, B-Sign_symptom, O, O, O, B-Sign_symptom, O, B-Sign_symptom, I-Sign_symptom, I-Sign_symptom, O, O, B-Sign_symptom, O, B-Sign_symptom, O, O, O, B-Diagnostic_procedure, O, O, B-Biological_structure, I-Biological_structure, O, B-Disease_disorder, I-Disease_disorder, O, O, O, O, O, O, O, O, O, O, O, O, O, O, O, O, O, O, B-Diagnostic_procedure, O, O, B-Biological_structure, I-Biological_structure, I-Biological_structure, I-Biological_structure, O, O, O, O, O, B-Disease_disorder, I-Disease_disorder, O, O, O, O, O, O, O, O, O, O, O, O, O, O, O, B-Diagnostic_procedure, I-Diagnostic_procedure, O, O, O, B-Disease_disorder, I-Disease_disorder, O, B-Biological_structure, O, B-Biological_structure, O, B-Biological_structure, O, O, O, ...]</td>\n",
       "      <td>[81, 2, 43, 43, 43, 43, 32, 81, 81, 81, 81, 81, 34, 81, 81, 81, 34, 81, 34, 74, 74, 81, 81, 34, 81, 34, 81, 81, 81, 11, 81, 81, 5, 46, 81, 12, 53, 81, 81, 81, 81, 81, 81, 81, 81, 81, 81, 81, 81, 81, 81, 81, 81, 81, 81, 11, 81, 81, 5, 46, 46, 46, 81, 81, 81, 81, 81, 12, 53, 81, 81, 81, 81, 81, 81, 81, 81, 81, 81, 81, 81, 81, 81, 81, 11, 52, 81, 81, 81, 12, 53, 81, 5, 81, 5, 81, 5, 81, 81, 81, ...]</td>\n",
       "    </tr>\n",
       "    <tr>\n",
       "      <th>7</th>\n",
       "      <td>[A, 49, -, year, -, old, man, ,, with, no, history, of, cardiac, disease, ,, presented, with, progressive, dyspnea, of, one, month, 's, duration, ., \\n, Medical, History, ., \\n, His, medical, history, included, blunt, chest, trauma, ,, the, result, of, an, accidental, fall, from, scaffolding, 15, months, earlier, ., \\n, He, had, fallen, approximately, 8, feet, and, had, landed, on, the, right, side, of, his, back, and, on, his, right, shoulder, ., \\n, The, patient, had, sustained, bilateral, pneumothorax, ,, right, iliopsoas, muscle, hematoma, ,, multiple, right, costal, fractures, ,, fracture, of, the, L3, vertebral, body, and, the, transverse, ...]</td>\n",
       "      <td>[B-Age, I-Age, I-Age, I-Age, I-Age, I-Age, B-Sex, O, O, B-History, I-History, I-History, I-History, I-History, O, O, O, O, B-Sign_symptom, O, B-Duration, I-Duration, I-Duration, I-Duration, O, O, O, O, O, O, O, O, O, O, B-History, I-History, I-History, I-History, I-History, I-History, I-History, I-History, I-History, I-History, I-History, I-History, I-History, I-History, I-History, O, O, O, O, O, O, O, O, O, O, O, O, O, O, O, O, O, O, O, O, O, O, O, O, O, O, O, O, O, O, B-Sign_symptom, O, O, O, O, B-Sign_symptom, O, O, O, O, B-Sign_symptom, O, B-Sign_symptom, O, O, B-Biological_structure, I-Biological_structure, I-Biological_structure, O, O, B-Biological_structure, ...]</td>\n",
       "      <td>[2, 43, 43, 43, 43, 43, 32, 81, 81, 19, 60, 60, 60, 60, 81, 81, 81, 81, 34, 81, 15, 56, 56, 56, 81, 81, 81, 81, 81, 81, 81, 81, 81, 81, 19, 60, 60, 60, 60, 60, 60, 60, 60, 60, 60, 60, 60, 60, 60, 81, 81, 81, 81, 81, 81, 81, 81, 81, 81, 81, 81, 81, 81, 81, 81, 81, 81, 81, 81, 81, 81, 81, 81, 81, 81, 81, 81, 81, 81, 34, 81, 81, 81, 81, 34, 81, 81, 81, 81, 34, 81, 34, 81, 81, 5, 46, 46, 81, 81, 5, ...]</td>\n",
       "    </tr>\n",
       "    <tr>\n",
       "      <th>8</th>\n",
       "      <td>[A, 65, -, year, -, old, man, with, a, 45, -, year, history, of, cigarette, smoking, visited, our, hospital, for, the, diagnosis, of, an, abnormal, chest, shadow, on, X, -, ray, ., \\n, He, did, not, have, any, remarkable, medical, history, and, had, not, been, prescribed, anticoagulants, or, antiplatelet, agents, ., \\n, A, computed, tomography, (, CT, ), scan, revealed, a, huge, mass, in, the, left, upper, lobe, (, maximum, size, :, 11.0, cm, in, diameter, ), that, subsequently, expanded, to, the, left, hilum, and, mediastinum, ,, as, well, as, an, intrapulmonary, metastasis, located, in, the, left, lower, lobe, ,, ...]</td>\n",
       "      <td>[O, B-Age, I-Age, I-Age, I-Age, I-Age, B-Sex, O, O, O, O, O, O, O, B-Activity, I-Activity, B-Clinical_event, O, B-Nonbiological_location, O, O, O, O, O, O, O, B-Sign_symptom, O, B-Diagnostic_procedure, I-Diagnostic_procedure, I-Diagnostic_procedure, O, O, O, B-History, I-History, I-History, I-History, I-History, I-History, I-History, O, O, O, O, O, B-Medication, O, B-Medication, I-Medication, O, O, O, B-Diagnostic_procedure, I-Diagnostic_procedure, O, B-Diagnostic_procedure, O, O, O, O, O, B-Sign_symptom, O, O, B-Biological_structure, I-Biological_structure, I-Biological_structure, O, O, O, O, B-Distance, I-Distance, O, O, O, O, O, O, O, O, B-Biological_structure, I-Biological_structure, O, B-Biological_structure, O, O, O, O, O, O, B-Sign_symptom, O, O, O, B-Biological_structure, I-Biological_structure, I-Biological_structure, O, ...]</td>\n",
       "      <td>[81, 2, 43, 43, 43, 43, 32, 81, 81, 81, 81, 81, 81, 81, 0, 41, 6, 81, 23, 81, 81, 81, 81, 81, 81, 81, 34, 81, 11, 52, 52, 81, 81, 81, 19, 60, 60, 60, 60, 60, 60, 81, 81, 81, 81, 81, 22, 81, 22, 63, 81, 81, 81, 11, 52, 81, 11, 81, 81, 81, 81, 81, 34, 81, 81, 5, 46, 46, 81, 81, 81, 81, 13, 54, 81, 81, 81, 81, 81, 81, 81, 81, 5, 46, 81, 5, 81, 81, 81, 81, 81, 81, 34, 81, 81, 81, 5, 46, 46, 81, ...]</td>\n",
       "    </tr>\n",
       "    <tr>\n",
       "      <th>9</th>\n",
       "      <td>[A, 64, -, year, -, old, female, was, found, lying, down, after, 10–12, hours, of, binge, drinking, ., \\n, She, was, taken, to, an, outlying, emergency, department, (, ED, ), ,, and, subsequently, transferred, to, our, hospital, with, mental, status, changes, and, respiratory, distress, and, hypoxia, for, further, management, ., \\n, She, had, a, past, history, of, rheumatoid, arthritis, ,, congestive, heart, failure, ,, controlled, hypertension, ,, and, alcoholism, ., \\n, She, smoked, two, packs, a, day, for, the, past, 50, years, ., \\n, On, presentation, ,, she, had, a, blood, pressure, of, 176/80, mm, /, Hg, ,, heart, rate, ...]</td>\n",
       "      <td>[O, B-Age, I-Age, I-Age, I-Age, I-Age, B-Sex, O, O, O, O, O, O, O, O, B-Activity, I-Activity, O, O, O, O, O, O, O, O, B-Nonbiological_location, I-Nonbiological_location, O, B-Nonbiological_location, O, O, O, O, B-Clinical_event, O, O, B-Nonbiological_location, O, B-Sign_symptom, I-Sign_symptom, I-Sign_symptom, O, B-Sign_symptom, I-Sign_symptom, O, B-Sign_symptom, O, O, O, O, O, O, O, O, O, O, O, B-History, I-History, O, O, O, O, O, O, O, O, O, O, O, O, O, B-History, I-History, I-History, I-History, I-History, I-History, I-History, I-History, I-History, I-History, O, O, O, B-Clinical_event, O, O, O, O, B-Diagnostic_procedure, I-Diagnostic_procedure, O, B-Lab_value, I-Lab_value, I-Lab_value, I-Lab_value, O, B-Diagnostic_procedure, I-Diagnostic_procedure, ...]</td>\n",
       "      <td>[81, 2, 43, 43, 43, 43, 32, 81, 81, 81, 81, 81, 81, 81, 81, 0, 41, 81, 81, 81, 81, 81, 81, 81, 81, 23, 64, 81, 23, 81, 81, 81, 81, 6, 81, 81, 23, 81, 34, 74, 74, 81, 34, 74, 81, 34, 81, 81, 81, 81, 81, 81, 81, 81, 81, 81, 81, 19, 60, 81, 81, 81, 81, 81, 81, 81, 81, 81, 81, 81, 81, 81, 19, 60, 60, 60, 60, 60, 60, 60, 60, 60, 81, 81, 81, 6, 81, 81, 81, 81, 11, 52, 81, 20, 61, 61, 61, 81, 11, 52, ...]</td>\n",
       "    </tr>\n",
       "  </tbody>\n",
       "</table>"
      ],
      "text/plain": [
       "<IPython.core.display.HTML object>"
      ]
     },
     "metadata": {},
     "output_type": "display_data"
    }
   ],
   "source": [
    "show_random_elements(datasets[\"train\"])"
   ]
  },
  {
   "cell_type": "code",
   "execution_count": null,
   "metadata": {
    "id": "eXNLu_-nIrJI"
   },
   "outputs": [],
   "source": [
    "from transformers import AutoTokenizer\n",
    "\n",
    "tokenizer = AutoTokenizer.from_pretrained(model_checkpoint, add_prefix_space=True)"
   ]
  },
  {
   "cell_type": "code",
   "execution_count": null,
   "metadata": {
    "id": "OncMDKxVzHft"
   },
   "outputs": [],
   "source": [
    "import transformers\n",
    "assert isinstance(tokenizer, transformers.PreTrainedTokenizerFast)"
   ]
  },
  {
   "cell_type": "code",
   "execution_count": null,
   "metadata": {
    "colab": {
     "base_uri": "https://localhost:8080/"
    },
    "id": "a5hBlsrHIrJL",
    "outputId": "18afad8d-886f-4f8e-cb33-d2755502d82d"
   },
   "outputs": [
    {
     "data": {
      "text/plain": [
       "{'input_ids': [1, 5365, 261, 291, 269, 311, 4378, 300, 2], 'token_type_ids': [0, 0, 0, 0, 0, 0, 0, 0, 0], 'attention_mask': [1, 1, 1, 1, 1, 1, 1, 1, 1]}"
      ]
     },
     "execution_count": 21,
     "metadata": {},
     "output_type": "execute_result"
    }
   ],
   "source": [
    "tokenizer(\"Hello, this is one sentence!\")"
   ]
  },
  {
   "cell_type": "code",
   "execution_count": null,
   "metadata": {
    "colab": {
     "base_uri": "https://localhost:8080/"
    },
    "id": "oUA4qacuzHfv",
    "outputId": "45eea7a3-1e7c-4be3-d105-c7b37c7dc7c9"
   },
   "outputs": [
    {
     "data": {
      "text/plain": [
       "{'input_ids': [1, 5365, 366, 291, 269, 311, 4378, 3671, 352, 1023, 323, 2], 'token_type_ids': [0, 0, 0, 0, 0, 0, 0, 0, 0, 0, 0, 0], 'attention_mask': [1, 1, 1, 1, 1, 1, 1, 1, 1, 1, 1, 1]}"
      ]
     },
     "execution_count": 22,
     "metadata": {},
     "output_type": "execute_result"
    }
   ],
   "source": [
    "tokenizer([\"Hello\", \",\", \"this\", \"is\", \"one\", \"sentence\", \"split\", \"into\", \"words\", \".\"], is_split_into_words=True)"
   ]
  },
  {
   "cell_type": "code",
   "execution_count": null,
   "metadata": {
    "colab": {
     "base_uri": "https://localhost:8080/"
    },
    "id": "5iKUwzIIzHfv",
    "outputId": "22f66ac4-a400-4680-f03b-e10551a078b7"
   },
   "outputs": [
    {
     "name": "stdout",
     "output_type": "stream",
     "text": [
      "['The', '36', '-', 'year', '-', 'old', 'male', 'patient', 'in', 'this', 'case', 'had', 'a', '6', '-', 'year', 'history', 'of', 'diffuse', 'cutaneous', 'SSc', '(', 'Fig.1', ')', 'and', 'had', 'not', 'received', 'regular', 'follow', '-', 'up', 'or', 'medication', 'therapy', '.', '\\n', 'He', 'had', 'experienced', 'malaise', ',', 'poor', 'appetite', ',', 'and', 'progressive', 'shortness', 'of', 'breath', 'for', '1', 'month', 'and', 'oligouria', 'for', '3', 'days', '.', '\\n', 'He', 'was', 'admitted', 'to', 'our', 'hospital', 'with', 'renal', 'failure', 'and', 'pulmonary', 'edema', '.', '\\n', 'In', 'the', 'emergency', 'department', ',', 'his', 'blood', 'pressure', ',', 'pulse', 'rate', ',', 'and', 'respiratory', 'rate', 'were', '174/127', 'mm', 'Hg', ',', '88', '/', 'min', ',', 'and', '22', '/', 'min', ',', 'respectively', '.', '\\n', 'Laboratory', 'analysis', 'revealed', 'the', 'following', 'values', ':', 'white', 'blood', 'cell', 'count', ',', '7730', '/', 'μL', '(', '3500–11,000', '/', 'μL', ')', ';', 'hemoglobin', ',', '8.6', '\\u200a', 'g', '/', 'dL', '(', '12–16', '\\u200a', 'g', '/', 'dL', '):', 'platelet', 'count', ',', '87000', '/', 'μL', '(', '150,000–400,000', '/', 'μL', ')', ';', 'blood', 'urea', 'nitrogen', ',', '78', '\\u200a', 'mg', '/', 'dL', '(', '6–21', '\\u200a', 'mg', '/', 'dL', ')', ';', 'creatinine', ',', '8.9', '\\u200a', 'mg', '/', 'dL', '(', '1.1–1.5', '\\u200a', 'mg', '/', 'dL', ')', ';', 'calcium', ',', '8.2', '\\u200a', 'mg', '/', 'dL', '(', '8.8–10.3', '\\u200a', 'mg', '/', 'dL', ')', ';', 'phosphorus', ',', '5.4', '\\u200a', 'mg', '/', 'dL', '(', '2.7–4.5', '\\u200a', 'mg', '/', 'dL', ')', ';', 'haptoglobin', ',', '<', '6.56', '\\u200a', 'mg', '/', 'dL', '(', '30–200', '\\u200a', 'mg', '/', 'dL', ')', ';', 'and', 'lactate', 'dehydrogenase', ',', '547', '\\u200a', 'U', '/', 'L', '(', '106–211', '\\u200a', 'U', '/', 'L', ')', '.', '\\n', 'A', 'routine', 'urinalysis', 'revealed', 'a', 'proteinuria', 'score', 'of', '2', '+', '(', '200', '\\u200a', 'mg', '/', 'dL', ')', ',', 'white', 'blood', 'cell', 'count', 'of', '3–5', '/', 'high', 'power', 'field', ',', 'and', 'red', 'blood', 'cell', 'count', 'of', '25–50', '/', 'high', 'power', 'field', '.', '\\n', 'The', 'autoimmune', 'profile', 'indicated', 'an', 'antinuclear', 'antibody', 'level', 'of', '1:320', '(', 'speckles', ';', 'normal', ',', '<', '1:40', ')', '.', '\\n', 'Tests', 'for', 'anti', '-', 'Scl70', ',', 'anti', '-', 'double', '-', 'stranded', 'DNA', ',', 'anti', '-', 'Ro', ',', 'anti', '-', 'La', ',', 'and', 'anticardiolipin', 'antibodies', 'were', 'all', 'negative', '.', '\\n', 'Kidney', 'echogram', 'showed', 'a', 'decreased', 'bilateral', 'kidney', 'size', 'without', 'hydronephrosis', '.', '\\n', 'Despite', 'the', 'chronic', 'changes', 'visible', 'on', 'the', 'echogram', ',', 'the', 'patient', 'had', 'developed', 'acute', 'pulmonary', 'edema', 'and', 'oligouria', 'only', '3', 'days', 'before', 'admission', '.', '\\n', 'Accordingly', ',', 'a', 'clinical', 'diagnosis', 'of', 'acute', '-', 'on', '-', 'chronic', 'renal', 'failure', 'was', 'made', '.', '\\n', 'A', 'further', 'diagnosis', 'of', 'SRC', 'was', 'supported', 'by', 'the', 'presence', 'of', 'renal', 'failure', 'with', 'microangiopathic', 'hemolytic', 'anemia', 'and', 'hypertension', ',', 'and', 'the', 'patient', 'was', 'started', 'on', 'captopril', 'therapy', '.', '\\n', 'The', 'sustained', 'deterioration', 'in', 'renal', 'function', 'and', 'anuria', 'had', 'led', 'to', 'a', 'requirement', 'for', 'regular', 'hemodialysis', 'from', 'admission', '.', '\\n', 'After', '3', 'days', ',', 'captopril', 'was', 'changed', 'to', 'amlodipine', 'because', 'the', 'patient', 'developed', 'a', 'severe', ',', 'intolerable', 'cough', 'thought', 'to', 'be', 'associated', 'with', 'captopril', '.', '\\n', 'His', 'systolic', 'blood', 'pressure', 'was', 'controlled', 'between', '140', 'and', '180', 'mm', 'Hg', '.', '\\n', 'At', 'approximately', '3', 'weeks', 'after', 'the', 'initiation', 'of', 'maintenance', 'hemodialysis', ',', 'the', 'patient', 'newly', 'developed', 'a', 'generalized', 'tonic', '-', 'clonic', 'seizure', 'disorder', '.', '\\n', 'A', 'brain', 'computed', 'tomography', '(', 'CT', ')', 'scan', 'revealed', 'a', 'small', 'lacunar', 'infarct', 'over', 'the', 'left', 'basal', 'ganglion', 'without', 'intracranial', 'hemorrhage', 'or', 'large', 'infarct', '.', '\\n', 'The', 'seizure', 'resolved', 'spontaneously', 'without', 'anticonvulsants', ',', 'and', 'the', 'patient', 'was', 'finally', 'discharged', 'home', 'without', 'incident', 'and', 'scheduled', 'for', 'regular', 'hemodialysis', 'thrice', 'weekly', '.', '\\n', 'However', ',', 'at', '1', 'week', 'after', 'discharge', ',', 'the', 'patient', 'developed', 'a', 'sudden', '-', 'onset', 'headache', 'and', 'vomiting', 'with', 'confusion', 'and', 'recurrence', 'of', 'the', 'generalized', 'tonic', '-', 'clonic', 'seizure', '.', '\\n', 'He', 'presented', 'at', 'the', 'emergency', 'department', 'with', 'a', 'blood', 'pressure', 'of', '183/100', 'mm', 'Hg', ',', 'platelet', 'count', 'of', '149,000', '/', 'μL', ',', 'serum', 'LDH', 'of', '332', '\\u200a', 'U', '/', 'L', ',', 'and', 'a', 'peripheral', 'blood', 'smear', 'containing', '2–3', '\\u200a', 'schizocytes', '/', 'HPF', '(', 'Fig.2', ')', '.', '\\n', 'Brain', 'CT', 'revealed', 'no', 'interval', 'change', ',', 'and', 'lumbar', 'puncture', 'revealed', 'traumatic', 'tapping', 'only', '.', '\\n', 'Cerebrospinal', 'fluid', 'cultures', 'were', 'negative', 'for', 'bacteria', ',', 'mycobacteria', ',', 'and', 'viruses', '.', '\\n', 'Brain', 'magnetic', 'resonance', 'imaging', '(', 'MRI', ')', 'showed', 'bilateral', 'hyperintensity', 'in', 'the', 'occipital', 'and', 'parietal', 'lobes', 'on', 'a', 'fluid', '-', 'attenuated', 'inversion', 'recovery', '(', 'FLAIR', ')', 'sequence', '(', 'Fig.3', ')', '.', '\\n', 'Finally', ',', 'the', 'patient', 'was', 'diagnosed', 'with', 'PRES', '.', '\\n', 'We', 'resumed', 'captopril', 'therapy', 'at', 'a', 'dose', 'of', '25', '\\u200a', 'mg', 'thrice', 'daily', '.', '\\n', 'As', 'it', 'was', 'difficult', 'to', 'differentiate', 'SRC', 'from', 'TTP', ',', 'we', 'also', 'considered', 'plasma', 'exchange', 'treatment', '.', '\\n', 'However', ',', 'the', 'patient', \"'s\", 'mental', 'status', 'returned', 'to', 'normal', 'within', '3', 'days', 'in', 'the', 'absence', 'of', 'plasma', 'exchange', ',', 'and', 'a', 'follow', '-', 'up', 'MRI', 'of', 'the', 'brain', '2', 'months', 'later', 'showed', 'complete', 'resolution', 'of', 'cerebral', 'edema', '(', 'Fig.4', ')', '.', '\\n', 'Therefore', ',', 'SRC', '-', 'related', 'PRES', 'was', 'confirmed', '.', '\\n', 'Although', 'the', 'patient', 'experienced', 'a', 'full', 'neurologic', 'recovery', ',', 'his', 'renal', 'function', 'did', 'not', 'improve', 'and', 'he', 'remained', 'dialysis', 'dependent', '.']\n"
     ]
    }
   ],
   "source": [
    "example = datasets[\"train\"][4]\n",
    "print(example[\"tokens\"])"
   ]
  },
  {
   "cell_type": "code",
   "execution_count": null,
   "metadata": {
    "colab": {
     "base_uri": "https://localhost:8080/"
    },
    "id": "giup_EbhzHfv",
    "outputId": "523297bc-f29c-47d3-a58e-24bcf3235d22"
   },
   "outputs": [
    {
     "name": "stdout",
     "output_type": "stream",
     "text": [
      "['[CLS]', '▁The', '▁36', '▁-', '▁year', '▁-', '▁old', '▁male', '▁patient', '▁in', '▁this', '▁case', '▁had', '▁a', '▁6', '▁-', '▁year', '▁history', '▁of', '▁diffuse', '▁cutaneous', '▁SS', 'c', '▁(', '▁Fig', '.', '1', '▁)', '▁and', '▁had', '▁not', '▁received', '▁regular', '▁follow', '▁-', '▁up', '▁or', '▁medication', '▁therapy', '▁.', '▁He', '▁had', '▁experienced', '▁malaise', '▁,', '▁poor', '▁appetite', '▁,', '▁and', '▁progressive', '▁shortness', '▁of', '▁breath', '▁for', '▁1', '▁month', '▁and', '▁oligo', 'uria', '▁for', '▁3', '▁days', '▁.', '▁He', '▁was', '▁admitted', '▁to', '▁our', '▁hospital', '▁with', '▁renal', '▁failure', '▁and', '▁pulmonary', '▁edema', '▁.', '▁In', '▁the', '▁emergency', '▁department', '▁,', '▁his', '▁blood', '▁pressure', '▁,', '▁pulse', '▁rate', '▁,', '▁and', '▁respiratory', '▁rate', '▁were', '▁174', '/', '127', '▁mm', '▁Hg', '▁,', '▁88', '▁/', '▁min', '▁,', '▁and', '▁22', '▁/', '▁min', '▁,', '▁respectively', '▁.', '▁Laboratory', '▁analysis', '▁revealed', '▁the', '▁following', '▁values', '▁:', '▁white', '▁blood', '▁cell', '▁count', '▁,', '▁77', '30', '▁/', '▁μ', 'L', '▁(', '▁3500', '–', '11', ',', '000', '▁/', '▁μ', 'L', '▁)', '▁;', '▁hemoglobin', '▁,', '▁8', '.', '6', '▁g', '▁/', '▁d', 'L', '▁(', '▁12', '–', '16', '▁g', '▁/', '▁d', 'L', '▁)', ':', '▁platelet', '▁count', '▁,', '▁87', '000', '▁/', '▁μ', 'L', '▁(', '▁150', ',', '000', '–', '400', ',', '000', '▁/', '▁μ', 'L', '▁)', '▁;', '▁blood', '▁urea', '▁nitrogen', '▁,', '▁78', '▁mg', '▁/', '▁d', 'L', '▁(', '▁6', '–', '21', '▁mg', '▁/', '▁d', 'L', '▁)', '▁;', '▁creatinine', '▁,', '▁8', '.', '9', '▁mg', '▁/', '▁d', 'L', '▁(', '▁1', '.', '1', '–', '1', '.', '5', '▁mg', '▁/', '▁d', 'L', '▁)', '▁;', '▁calcium', '▁,', '▁8', '.', '2', '▁mg', '▁/', '▁d', 'L', '▁(', '▁8', '.', '8', '–', '10', '.', '3', '▁mg', '▁/', '▁d', 'L', '▁)', '▁;', '▁phosphorus', '▁,', '▁5', '.', '4', '▁mg', '▁/', '▁d', 'L', '▁(', '▁2', '.', '7', '–', '4', '.', '5', '▁mg', '▁/', '▁d', 'L', '▁)', '▁;', '▁hap', 'to', 'globin', '▁,', '▁<', '▁6', '.', '56', '▁mg', '▁/', '▁d', 'L', '▁(', '▁30', '–', '200', '▁mg', '▁/', '▁d', 'L', '▁)', '▁;', '▁and', '▁lactate', '▁dehydrogenase', '▁,', '▁547', '▁U', '▁/', '▁L', '▁(', '▁106', '–', '211', '▁U', '▁/', '▁L', '▁)', '▁.', '▁A', '▁routine', '▁urinalysis', '▁revealed', '▁a', '▁proteinuria', '▁score', '▁of', '▁2', '▁+', '▁(', '▁200', '▁mg', '▁/', '▁d', 'L', '▁)', '▁,', '▁white', '▁blood', '▁cell', '▁count', '▁of', '▁3', '–', '5', '▁/', '▁high', '▁power', '▁field', '▁,', '▁and', '▁red', '▁blood', '▁cell', '▁count', '▁of', '▁25', '–', '50', '▁/', '▁high', '▁power', '▁field', '▁.', '▁The', '▁autoimmune', '▁profile', '▁indicated', '▁an', '▁anti', 'nuclear', '▁antibody', '▁level', '▁of', '▁1', ':', '320', '▁(', '▁speckle', 's', '▁;', '▁normal', '▁,', '▁<', '▁1', ':', '40', '▁)', '▁.', '▁Tests', '▁for', '▁anti', '▁-', '▁S', 'cl', '70', '▁,', '▁anti', '▁-', '▁double', '▁-', '▁stranded', '▁DNA', '▁,', '▁anti', '▁-', '▁Ro', '▁,', '▁anti', '▁-', '▁La', '▁,', '▁and', '▁anti', 'cardio', 'lip', 'in', '▁antibodies', '▁were', '▁all', '▁negative', '▁.', '▁Kidney', '▁echo', 'gram', '▁showed', '▁a', '▁decreased', '▁bilateral', '▁kidney', '▁size', '▁without', '▁hydro', 'nephr', 'osis', '▁.', '▁Despite', '▁the', '▁chronic', '▁changes', '▁visible', '▁on', '▁the', '▁echo', 'gram', '▁,', '▁the', '▁patient', '▁had', '▁developed', '▁acute', '▁pulmonary', '▁edema', '▁and', '▁oligo', 'uria', '▁only', '▁3', '▁days', '▁before', '▁admission', '▁.', '▁Accordingly', '▁,', '▁a', '▁clinical', '▁diagnosis', '▁of', '▁acute', '▁-', '▁on', '▁-', '▁chronic', '▁renal', '▁failure', '▁was', '▁made', '▁.', '▁A', '▁further', '▁diagnosis', '▁of', '▁SRC', '▁was', '▁supported', '▁by', '▁the', '▁presence', '▁of', '▁renal', '▁failure', '▁with', '▁micro', 'angi', 'opathic', '▁hemolytic', '▁anemia', '▁and', '▁hypertension', '▁,', '▁and', '▁the', '▁patient', '▁was', '▁started', '▁on', '▁cap', 'to', 'pril', '▁therapy', '▁.', '▁The', '▁sustained', '▁deterioration', '▁in', '▁renal', '▁function', '▁and', '▁an', 'uria', '▁had', '▁led', '▁to', '▁a', '▁requirement', '▁for', '▁regular', '▁hemodialysis', '▁from', '▁admission', '▁.', '▁After', '▁3', '▁days', '▁,', '▁cap', 'to', 'pril', '▁was', '▁changed', '▁to', '▁amlodipine', '▁because', '▁the', '▁patient', '▁developed', '▁a', '▁severe', '▁,', '▁intolerable', '▁cough', '▁thought', '▁to', '▁be', '▁associated', '▁with', '▁cap', 'to', 'pril', '▁.', '▁His', '▁systolic', '▁blood', '▁pressure', '▁was', '▁controlled', '▁between', '▁140', '▁and', '▁180', '▁mm', '▁Hg', '▁.', '▁At', '▁approximately', '▁3', '▁weeks', '▁after', '▁the', '▁initiation', '▁of', '▁maintenance', '▁hemodialysis', '▁,', '▁the', '▁patient', '▁newly', '▁developed', '▁a', '▁generalized', '▁tonic', '▁-', '▁clo', 'nic', '▁seizure', '▁disorder', '▁.', '▁A', '▁brain', '▁computed', '▁tomography', '▁(', '▁CT', '▁)', '▁scan', '▁revealed', '▁a', '▁small', '▁lacuna', 'r', '▁infarct', '▁over', '▁the', '▁left', '▁basal', '▁ganglion', '▁without', '▁intracranial', '▁hemorrhage', '▁or', '▁large', '▁infarct', '▁.', '▁The', '▁seizure', '▁resolved', '▁spontaneously', '▁without', '▁anticonvulsant', 's', '▁,', '▁and', '▁the', '▁patient', '▁was', '▁finally', '▁discharged', '▁home', '▁without', '▁incident', '▁and', '▁scheduled', '▁for', '▁regular', '▁hemodialysis', '▁thrice', '▁weekly', '▁.', '▁However', '▁,', '▁at', '▁1', '▁week', '▁after', '▁discharge', '▁,', '▁the', '▁patient', '▁developed', '▁a', '▁sudden', '▁-', '▁onset', '▁headache', '▁and', '▁vomiting', '▁with', '▁confusion', '▁and', '▁recurrence', '▁of', '▁the', '▁generalized', '▁tonic', '▁-', '▁clo', 'nic', '▁seizure', '▁.', '▁He', '▁presented', '▁at', '▁the', '▁emergency', '▁department', '▁with', '▁a', '▁blood', '▁pressure', '▁of', '▁183', '/', '100', '▁mm', '▁Hg', '▁,', '▁platelet', '▁count', '▁of', '▁149', ',', '000', '▁/', '▁μ', 'L', '▁,', '▁serum', '▁L', 'DH', '▁of', '▁332', '▁U', '▁/', '▁L', '▁,', '▁and', '▁a', '▁peripheral', '▁blood', '▁smear', '▁containing', '▁2', '–', '3', '▁schizo', 'cytes', '▁/', '▁HP', 'F', '▁(', '▁Fig', '.', '2', '▁)', '▁.', '▁Brain', '▁CT', '▁revealed', '▁no', '▁interval', '▁change', '▁,', '▁and', '▁lumbar', '▁puncture', '▁revealed', '▁traumatic', '▁tapping', '▁only', '▁.', '▁Cerebro', 'spinal', '▁fluid', '▁cultures', '▁were', '▁negative', '▁for', '▁bacteria', '▁,', '▁mycobacteria', '▁,', '▁and', '▁viruses', '▁.', '▁Brain', '▁magnetic', '▁resonance', '▁imaging', '▁(', '▁MRI', '▁)', '▁showed', '▁bilateral', '▁hyper', 'intensity', '▁in', '▁the', '▁occipital', '▁and', '▁parietal', '▁lobes', '▁on', '▁a', '▁fluid', '▁-', '▁attenuated', '▁inversion', '▁recovery', '▁(', '▁FL', 'AIR', '▁)', '▁sequence', '▁(', '▁Fig', '.', '3', '▁)', '▁.', '▁Finally', '▁,', '▁the', '▁patient', '▁was', '▁diagnosed', '▁with', '▁PRES', '▁.', '▁We', '▁resumed', '▁cap', 'to', 'pril', '▁therapy', '▁at', '▁a', '▁dose', '▁of', '▁25', '▁mg', '▁thrice', '▁daily', '▁.', '▁As', '▁it', '▁was', '▁difficult', '▁to', '▁differentiate', '▁SRC', '▁from', '▁TTP', '▁,', '▁we', '▁also', '▁considered', '▁plasma', '▁exchange', '▁treatment', '▁.', '▁However', '▁,', '▁the', '▁patient', \"▁'\", 's', '▁mental', '▁status', '▁returned', '▁to', '▁normal', '▁within', '▁3', '▁days', '▁in', '▁the', '▁absence', '▁of', '▁plasma', '▁exchange', '▁,', '▁and', '▁a', '▁follow', '▁-', '▁up', '▁MRI', '▁of', '▁the', '▁brain', '▁2', '▁months', '▁later', '▁showed', '▁complete', '▁resolution', '▁of', '▁cerebral', '▁edema', '▁(', '▁Fig', '.', '4', '▁)', '▁.', '▁Therefore', '▁,', '▁SRC', '▁-', '▁related', '▁PRES', '▁was', '▁confirmed', '▁.', '▁Although', '▁the', '▁patient', '▁experienced', '▁a', '▁full', '▁neurologic', '▁recovery', '▁,', '▁his', '▁renal', '▁function', '▁did', '▁not', '▁improve', '▁and', '▁he', '▁remained', '▁dialysis', '▁dependent', '▁.', '[SEP]']\n"
     ]
    }
   ],
   "source": [
    "tokenized_input = tokenizer(example[\"tokens\"], is_split_into_words=True)\n",
    "tokens = tokenizer.convert_ids_to_tokens(tokenized_input[\"input_ids\"])\n",
    "print(tokens)"
   ]
  },
  {
   "cell_type": "code",
   "execution_count": null,
   "metadata": {
    "colab": {
     "base_uri": "https://localhost:8080/"
    },
    "id": "0AiMTftczHfv",
    "outputId": "3cc79e68-b605-4419-dc7b-346b2156581e"
   },
   "outputs": [
    {
     "data": {
      "text/plain": [
       "(816, 901)"
      ]
     },
     "execution_count": 25,
     "metadata": {},
     "output_type": "execute_result"
    }
   ],
   "source": [
    "len(example[f\"numeric_tags\"]), len(tokenized_input[\"input_ids\"])"
   ]
  },
  {
   "cell_type": "code",
   "execution_count": null,
   "metadata": {
    "colab": {
     "base_uri": "https://localhost:8080/"
    },
    "id": "W_9Rjj4wzHfw",
    "outputId": "69376735-fdf5-4203-e13a-536b23412489"
   },
   "outputs": [
    {
     "name": "stdout",
     "output_type": "stream",
     "text": [
      "[None, 0, 1, 2, 3, 4, 5, 6, 7, 8, 9, 10, 11, 12, 13, 14, 15, 16, 17, 18, 19, 20, 20, 21, 22, 22, 22, 23, 24, 25, 26, 27, 28, 29, 30, 31, 32, 33, 34, 35, 37, 38, 39, 40, 41, 42, 43, 44, 45, 46, 47, 48, 49, 50, 51, 52, 53, 54, 54, 55, 56, 57, 58, 60, 61, 62, 63, 64, 65, 66, 67, 68, 69, 70, 71, 72, 74, 75, 76, 77, 78, 79, 80, 81, 82, 83, 84, 85, 86, 87, 88, 89, 90, 90, 90, 91, 92, 93, 94, 95, 96, 97, 98, 99, 100, 101, 102, 103, 104, 106, 107, 108, 109, 110, 111, 112, 113, 114, 115, 116, 117, 118, 118, 119, 120, 120, 121, 122, 122, 122, 122, 122, 123, 124, 124, 125, 126, 127, 128, 129, 129, 129, 131, 132, 133, 133, 134, 135, 135, 135, 137, 138, 139, 139, 140, 140, 141, 142, 143, 144, 144, 145, 146, 146, 147, 148, 148, 148, 148, 148, 148, 148, 149, 150, 150, 151, 152, 153, 154, 155, 156, 157, 159, 160, 161, 161, 162, 163, 163, 163, 165, 166, 167, 167, 168, 169, 170, 171, 172, 172, 172, 174, 175, 176, 176, 177, 178, 178, 178, 178, 178, 178, 178, 180, 181, 182, 182, 183, 184, 185, 186, 187, 187, 187, 189, 190, 191, 191, 192, 193, 193, 193, 193, 193, 193, 193, 195, 196, 197, 197, 198, 199, 200, 201, 202, 202, 202, 204, 205, 206, 206, 207, 208, 208, 208, 208, 208, 208, 208, 210, 211, 212, 212, 213, 214, 215, 215, 215, 216, 217, 218, 218, 218, 220, 221, 222, 222, 223, 224, 224, 224, 226, 227, 228, 228, 229, 230, 231, 232, 233, 234, 235, 237, 238, 239, 240, 241, 241, 241, 243, 244, 245, 246, 247, 249, 250, 251, 252, 253, 254, 255, 256, 257, 258, 259, 260, 262, 263, 264, 264, 265, 266, 267, 268, 269, 270, 271, 272, 272, 272, 273, 274, 275, 276, 277, 278, 279, 280, 281, 282, 283, 284, 284, 284, 285, 286, 287, 288, 289, 291, 292, 293, 294, 295, 296, 296, 297, 298, 299, 300, 300, 300, 301, 302, 302, 303, 304, 305, 306, 307, 307, 307, 308, 309, 311, 312, 313, 314, 315, 315, 315, 316, 317, 318, 319, 320, 321, 322, 323, 324, 325, 326, 327, 328, 329, 330, 331, 332, 333, 333, 333, 333, 334, 335, 336, 337, 338, 340, 341, 341, 342, 343, 344, 345, 346, 347, 348, 349, 349, 349, 350, 352, 353, 354, 355, 356, 357, 358, 359, 359, 360, 361, 362, 363, 364, 365, 366, 367, 368, 369, 369, 370, 371, 372, 373, 374, 375, 377, 378, 379, 380, 381, 382, 383, 384, 385, 386, 387, 388, 389, 390, 391, 392, 394, 395, 396, 397, 398, 399, 400, 401, 402, 403, 404, 405, 406, 407, 408, 408, 408, 409, 410, 411, 412, 413, 414, 415, 416, 417, 418, 419, 420, 420, 420, 421, 422, 424, 425, 426, 427, 428, 429, 430, 431, 431, 432, 433, 434, 435, 436, 437, 438, 439, 440, 441, 442, 444, 445, 446, 447, 448, 448, 448, 449, 450, 451, 452, 453, 454, 455, 456, 457, 458, 459, 460, 461, 462, 463, 464, 465, 466, 467, 467, 467, 468, 470, 471, 472, 473, 474, 475, 476, 477, 478, 479, 480, 481, 482, 484, 485, 486, 487, 488, 489, 490, 491, 492, 493, 494, 495, 496, 497, 498, 499, 500, 501, 502, 503, 503, 504, 505, 506, 508, 509, 510, 511, 512, 513, 514, 515, 516, 517, 518, 519, 519, 520, 521, 522, 523, 524, 525, 526, 527, 528, 529, 530, 531, 532, 534, 535, 536, 537, 538, 539, 539, 540, 541, 542, 543, 544, 545, 546, 547, 548, 549, 550, 551, 552, 553, 554, 555, 556, 557, 559, 560, 561, 562, 563, 564, 565, 566, 567, 568, 569, 570, 571, 572, 573, 574, 575, 576, 577, 578, 579, 580, 581, 582, 583, 584, 585, 586, 586, 587, 588, 590, 591, 592, 593, 594, 595, 596, 597, 598, 599, 600, 601, 601, 601, 602, 603, 604, 605, 606, 607, 608, 608, 608, 609, 610, 610, 611, 612, 613, 613, 614, 615, 617, 618, 619, 620, 621, 622, 623, 624, 625, 626, 627, 627, 627, 629, 629, 630, 631, 631, 632, 633, 633, 633, 634, 635, 637, 638, 639, 640, 641, 642, 643, 644, 645, 646, 647, 648, 649, 650, 651, 653, 653, 654, 655, 656, 657, 658, 659, 660, 661, 662, 663, 664, 665, 667, 668, 669, 670, 671, 672, 673, 674, 675, 676, 676, 677, 678, 679, 680, 681, 682, 683, 684, 685, 686, 687, 688, 689, 690, 691, 691, 692, 693, 694, 695, 695, 695, 696, 697, 699, 700, 701, 702, 703, 704, 705, 706, 707, 709, 710, 711, 711, 711, 712, 713, 714, 715, 716, 717, 719, 720, 721, 722, 724, 725, 726, 727, 728, 729, 730, 731, 732, 733, 734, 735, 736, 737, 738, 739, 740, 742, 743, 744, 745, 746, 746, 747, 748, 749, 750, 751, 752, 753, 754, 755, 756, 757, 758, 759, 760, 761, 762, 763, 764, 765, 766, 767, 768, 769, 770, 771, 772, 773, 774, 775, 776, 777, 778, 779, 780, 781, 781, 781, 782, 783, 785, 786, 787, 788, 789, 790, 791, 792, 793, 795, 796, 797, 798, 799, 800, 801, 802, 803, 804, 805, 806, 807, 808, 809, 810, 811, 812, 813, 814, 815, None]\n"
     ]
    }
   ],
   "source": [
    "print(tokenized_input.word_ids())"
   ]
  },
  {
   "cell_type": "code",
   "execution_count": null,
   "metadata": {
    "colab": {
     "base_uri": "https://localhost:8080/"
    },
    "id": "uhYbPFs_zHfw",
    "outputId": "51b0b862-9cd0-4b1c-bc7a-2f6cfc1e5943"
   },
   "outputs": [
    {
     "name": "stdout",
     "output_type": "stream",
     "text": [
      "901 901\n"
     ]
    }
   ],
   "source": [
    "word_ids = tokenized_input.word_ids()\n",
    "aligned_labels = [-100 if i is None else example[f\"numeric_tags\"][i] for i in word_ids]\n",
    "print(len(aligned_labels), len(tokenized_input[\"input_ids\"]))"
   ]
  },
  {
   "cell_type": "code",
   "execution_count": null,
   "metadata": {
    "id": "aNFvssvTzHfw"
   },
   "outputs": [],
   "source": [
    "label_all_tokens = True"
   ]
  },
  {
   "cell_type": "code",
   "execution_count": null,
   "metadata": {
    "id": "vc0BSBLIIrJQ"
   },
   "outputs": [],
   "source": [
    "def tokenize_and_align_labels(examples):\n",
    "    tokenized_inputs = tokenizer(examples[\"tokens\"], truncation=True, is_split_into_words=True, max_length=512)\n",
    "\n",
    "    labels = []\n",
    "    for i, label in enumerate(examples[f\"numeric_tags\"]):\n",
    "        word_ids = tokenized_inputs.word_ids(batch_index=i)\n",
    "        previous_word_idx = None\n",
    "        label_ids = []\n",
    "        for word_idx in word_ids:\n",
    "            # Special tokens have a word id that is None. We set the label to -100 so they are automatically\n",
    "            # ignored in the loss function.\n",
    "            if word_idx is None:\n",
    "                label_ids.append(-100)\n",
    "            # We set the label for the first token of each word.\n",
    "            elif word_idx != previous_word_idx:\n",
    "                label_ids.append(label[word_idx])\n",
    "            # For the other tokens in a word, we set the label to either the current label or -100, depending on\n",
    "            # the label_all_tokens flag.\n",
    "            else:\n",
    "                label_ids.append(label[word_idx] if label_all_tokens else -100)\n",
    "            previous_word_idx = word_idx\n",
    "\n",
    "        labels.append(label_ids)\n",
    "\n",
    "    tokenized_inputs[\"labels\"] = labels\n",
    "    return tokenized_inputs"
   ]
  },
  {
   "cell_type": "code",
   "execution_count": null,
   "metadata": {
    "colab": {
     "base_uri": "https://localhost:8080/"
    },
    "id": "-b70jh26IrJS",
    "outputId": "0ffbce6e-fecf-4b7c-e168-4771eef8016d"
   },
   "outputs": [
    {
     "data": {
      "text/plain": [
       "{'input_ids': [[1, 336, 969, 341, 395, 341, 597, 102428, 2844, 1992, 275, 266, 2785, 5142, 265, 24998, 2345, 267, 462, 1365, 323, 383, 284, 6524, 275, 266, 119935, 60930, 267, 737, 4406, 323, 383, 284, 1338, 288, 1384, 275, 1697, 2665, 1272, 323, 443, 284, 363, 820, 265, 33110, 42093, 289, 13488, 1682, 323, 329, 1799, 330, 8969, 830, 265, 266, 119935, 60930, 287, 584, 260, 473, 260, 366, 782, 24772, 366, 29418, 14922, 18886, 366, 782, 26912, 455, 6937, 366, 614, 1312, 366, 27268, 4861, 510, 366, 263, 2455, 19038, 3579, 1263, 647, 5237, 376, 6311, 323, 855, 3499, 284, 12335, 5036, 323, 1652, 12095, 3019, 50347, 284, 602, 320, 4285, 267, 262, 423, 1572, 275, 76657, 260, 3935, 1566, 376, 260, 1883, 10246, 1627, 8734, 263, 602, 320, 4285, 267, 262, 595, 1572, 275, 4853, 877, 1566, 693, 260, 1883, 1566, 767, 260, 1794, 10246, 8535, 8734, 323, 50255, 332, 3100, 267, 884, 366, 1489, 263, 18312, 264, 731, 275, 363, 5315, 95922, 18336, 57077, 13543, 323, 106828, 58738, 284, 1697, 267, 462, 1365, 263, 28143, 6693, 5055, 284, 58632, 323, 279, 79497, 1517, 284, 621, 4443, 52937, 293, 15479, 673, 1410, 8163, 4632, 264, 673, 43174, 323, 2332, 45444, 9195, 1974, 265, 262, 423, 263, 595, 1365, 332, 366, 55600, 263, 74214, 8218, 366, 3946, 323, 802, 100640, 2842, 1867, 5055, 2814, 266, 371, 341, 114097, 9125, 46383, 28492, 267, 462, 1365, 323, 344, 262, 423, 1572, 366, 291, 28492, 284, 2407, 392, 260, 524, 6713, 47846, 287, 18623, 1263, 267, 6459, 263, 392, 260, 819, 18623, 267, 2231, 323, 344, 262, 595, 1572, 366, 291, 28492, 284, 2407, 392, 260, 524, 18623, 267, 6459, 263, 392, 260, 804, 18623, 267, 2231, 323, 279, 3049, 265, 262, 17507, 284, 44784, 323, 79844, 102105, 1544, 263, 83348, 31495, 96258, 2325, 1697, 323, 344, 908, 366, 266, 31630, 265, 4201, 90494, 292, 262, 21206, 6713, 263, 586, 407, 352, 262, 85593, 647, 5237, 392, 6311, 323, 54084, 66777, 547, 70329, 265, 262, 20613, 4849, 263, 7302, 33021, 35419, 265, 262, 21206, 7578, 761, 287, 104011, 2600, 8311, 55043, 19382, 366, 60292, 366, 2439, 1263, 332, 2264, 647, 24509, 647, 10711, 268, 508, 263, 453, 6311, 323, 4670, 264, 262, 2008, 12412, 6013, 39089, 366, 262, 1799, 387, 298, 10093, 104715, 277, 262, 1782, 482, 1115, 5210, 3500, 267, 2320, 718, 16505, 96293, 547, 70329, 1426, 647, 5237, 404, 6311, 323, 2], [1, 581, 1799, 284, 266, 960, 341, 395, 597, 642, 275, 2165, 36484, 37658, 38142, 7385, 52648, 263, 31159, 58622, 105644, 323, 383, 330, 17699, 266, 484, 341, 721, 38142, 21989, 55619, 37949, 275, 3058, 265, 262, 745, 341, 18618, 24261, 478, 266, 969, 341, 4443, 21989, 55619, 267, 2404, 287, 288, 262, 905, 265, 5139, 1263, 323, 5027, 341, 322, 16472, 332, 2264, 469, 525, 740, 263, 1938, 6488, 38142, 7385, 52648, 323, 643, 578, 388, 265, 1111, 341, 322, 366, 262, 1799, 1992, 264, 2096, 275, 9056, 263, 262, 81487, 1938, 3567, 38142, 52648, 775, 264, 266, 29229, 265, 311, 265, 262, 37151, 268, 265, 262, 21989, 55619, 366, 29969, 265, 11786, 1962, 33057, 275, 595, 34664, 43880, 9004, 287, 22686, 17229, 1263, 4399, 287, 1297, 958, 3112, 4639, 1263, 263, 105644, 265, 262, 595, 48067, 287, 17002, 13526, 1606, 43068, 840, 17002, 20595, 297, 43068, 47846, 1627, 320, 5304, 4443, 366, 3946, 1263, 323, 279, 1799, 1992, 43053, 97119, 263, 69784, 366, 319, 858, 19900, 265, 28183, 263, 80008, 323, 108608, 35419, 5619, 1938, 75176, 268, 277, 262, 21989, 55619, 366, 72644, 75481, 268, 263, 363, 2729, 265, 121332, 75481, 287, 9296, 260, 435, 1263, 323, 1388, 262, 56190, 4361, 270, 106824, 332, 298, 4622, 366, 262, 1061, 5159, 284, 299, 737, 6041, 21742, 265, 262, 21989, 55619, 366, 775, 264, 266, 3567, 75176, 568, 323, 279, 2243, 284, 2264, 390, 7973, 1090, 19706, 53314, 263, 275, 1264, 58622, 341, 423, 40229, 2124, 53761, 12582, 270, 262, 1227, 83089, 8806, 323, 279, 35345, 263, 262, 105302, 265, 262, 21989, 55619, 1992, 3567, 75176, 268, 263, 363, 2729, 265, 106824, 332, 505, 323, 816, 10662, 65636, 608, 5990, 43376, 46171, 287, 1259, 4443, 1263, 284, 393, 30040, 287, 9296, 260, 445, 1263, 323, 279, 1943, 341, 43192, 326, 284, 5139, 5719, 366, 263, 262, 89508, 13659, 326, 284, 4604, 5719, 323, 279, 1799, 886, 28183, 263, 21387, 288, 759, 11716, 270, 13659, 53693, 323, 585, 8452, 3651, 482, 262, 35719, 926, 323, 14500, 48768, 23768, 416, 262, 8940, 1938, 262, 5026, 265, 6205, 14206, 2179, 21227, 12187, 366, 266, 4587, 840, 952, 38142, 19352, 265, 3802, 320, 1435, 65683, 263, 299, 22686, 17229, 265, 3542, 4639, 323, 5027, 341, 322, 81487, 385, 404, 740, 292, 262, 2243, 1938, 3899, 12187, 2498, 51632, 265, 262, 10662, 65636, 608, 49336, 366, 266, 4587, 840, 952, 19352, 265, 4223, 320, 2944, 65683, 263, 2262, 2969, 265, 262, 22686, 17229, 287, 6119, 5621, 4639, 1263, 323, 14064, 284, 50587, 541, 323, 2], [1, 336, 4604, 341, 395, 341, 597, 2416, 284, 505, 5528, 444, 385, 466, 958, 1432, 743, 265, 20369, 3730, 323, 503, 284, 854, 264, 299, 59536, 2644, 2307, 287, 14545, 1263, 366, 263, 7168, 5671, 264, 316, 2096, 275, 2338, 1980, 1028, 263, 11002, 11119, 263, 50980, 270, 839, 895, 323, 503, 330, 266, 695, 820, 265, 33786, 11976, 366, 61658, 924, 2694, 366, 3795, 17088, 366, 263, 31938, 323, 503, 13703, 375, 8812, 266, 406, 270, 262, 695, 960, 388, 323, 589, 3011, 366, 373, 330, 266, 1452, 1517, 265, 29477, 320, 4008, 4443, 840, 52937, 366, 924, 1039, 265, 2153, 95505, 366, 38411, 268, 969, 95505, 366, 2247, 7560, 8734, 1107, 287, 3372, 260, 819, 8734, 716, 1263, 323, 109809, 1452, 13715, 277, 629, 925, 1938, 266, 11240, 265, 574, 260, 1076, 366, 7446, 8391, 445, 1627, 366, 7446, 1702, 445, 7706, 4443, 840, 52937, 366, 1233, 16269, 8391, 508, 2043, 1917, 1276, 4553, 840, 1093, 366, 263, 23202, 8972, 4639, 319, 2775, 264, 4882, 4639, 275, 6391, 293, 266, 459, 2155, 745, 341, 961, 39859, 649, 6618, 323, 589, 1468, 5055, 373, 284, 56347, 366, 63875, 366, 26328, 49888, 74469, 366, 304, 497, 18045, 11933, 4820, 323, 80847, 3424, 104222, 100083, 268, 332, 2695, 106693, 641, 275, 1697, 924, 2163, 323, 279, 2834, 793, 265, 342, 1468, 5055, 263, 3786, 6514, 793, 332, 58632, 275, 262, 4704, 265, 266, 63367, 2795, 265, 936, 261, 528, 840, 1931, 1502, 275, 8138, 4639, 71695, 323, 64684, 3416, 268, 2729, 332, 3392, 275, 266, 1697, 1452, 1517, 304, 1519, 265, 72445, 267, 262, 3507, 323, 64684, 336, 24285, 507, 276, 268, 277, 262, 745, 341, 961, 39859, 649, 6618, 1938, 877, 11240, 574, 260, 2944, 366, 7446, 8391, 445, 8433, 366, 7446, 1702, 445, 8615, 4443, 52937, 366, 1233, 16269, 8391, 508, 703, 1917, 1276, 4553, 840, 1093, 366, 263, 40968, 9184, 1702, 445, 8991, 4639, 323, 344, 262, 14545, 373, 284, 696, 277, 7106, 18569, 263, 11739, 270, 266, 36450, 65958, 323, 463, 465, 265, 262, 8709, 374, 1025, 366, 373, 15834, 266, 4458, 1204, 16575, 272, 464, 298, 553, 356, 35234, 268, 289, 356, 852, 14478, 4138, 323, 279, 39553, 284, 364, 1318, 270, 24261, 72445, 323, 5474, 262, 2330, 4138, 277, 4458, 1204, 16575, 366, 24261, 72445, 277, 39553, 366, 263, 299, 1592, 336, 341, 266, 19352, 366, 262, 1799, 284, 1253, 270, 266, 12340, 4458, 6951, 275, 3733, 264, 2310, 321, 266, 17350, 70991, 323, 1717, 6951, 314, 803, 958, 6189, 22500, 265, 925, 284, 23111, 16519, 390, 262, 423, 25224, 117126, 11127, 13316, 478, 266, 617, 3733, 47451, 287, 3502, 293, 262, 11564, 263, 29736, 265, 7756, 277, 499, 7440, 1263, 323, 72542, 7440, 287, 6951, 1263, 1938, 266, 1318, 906, 265, 925, 267, 262, 423, 40229, 263, 423, 34664, 15457, 287, 5237, 376, 1263, 366, 263, 925, 3230, 275, 3733, 267, 262, 872, 17350, 16599, 263, 359, 26912, 6357, 11215, 265, 262, 17350, 8806, 287, 5237, 392, 1263, 323, 106307, 366, 266, 4567, 13543, 284, 2695, 267, 262, 423, 1215, 34167, 16599, 3392, 275, 2], [1, 336, 3231, 341, 395, 341, 597, 642, 1992, 288, 316, 2096, 11402, 265, 66272, 39416, 11839, 323, 279, 53298, 7578, 263, 6514, 16777, 332, 1697, 323, 336, 26316, 18514, 284, 1403, 366, 4871, 1412, 42769, 70329, 284, 2264, 366, 319, 1938, 266, 106274, 7694, 2398, 26316, 18514, 267, 262, 1250, 265, 423, 18163, 41122, 1544, 11848, 287, 21698, 1263, 323, 279, 26316, 18514, 284, 6682, 293, 262, 842, 510, 40375, 6357, 265, 262, 15323, 31159, 116201, 22068, 366, 263, 262, 423, 19674, 4636, 9071, 12628, 15187, 546, 262, 18163, 41122, 1544, 11848, 272, 284, 262, 16662, 44220, 582, 3325, 18266, 352, 262, 91651, 13316, 323, 37955, 37916, 1035, 284, 9514, 1064, 293, 262, 1799, 401, 265, 262, 1635, 50851, 66272, 39416, 1632, 323, 8453, 284, 2264, 293, 6882, 36748, 62252, 1218, 494, 1042, 20363, 478, 266, 100153, 299, 10993, 25725, 1692, 323, 4927, 53419, 2244, 332, 427, 323, 279, 1653, 22623, 284, 47316, 352, 262, 595, 31159, 297, 22574, 297, 116201, 16599, 323, 12794, 2155, 3655, 22623, 287, 80421, 508, 1263, 284, 7168, 47316, 360, 266, 36867, 260, 35515, 4014, 13422, 287, 80421, 508, 1263, 264, 1431, 283, 941, 283, 628, 264, 262, 66684, 323, 279, 4014, 102724, 284, 31876, 275, 466, 22500, 265, 1697, 29069, 323, 279, 2015, 754, 265, 262, 4014, 102724, 284, 7168, 2311, 275, 78388, 73866, 37174, 287, 80812, 1263, 323, 50104, 271, 2048, 284, 393, 16519, 360, 375, 768, 264, 2173, 262, 4014, 102724, 263, 264, 2941, 262, 80812, 267, 262, 2015, 754, 323, 279, 8411, 284, 2564, 583, 8783, 2155, 352, 6357, 265, 262, 423, 31159, 116201, 16599, 284, 3735, 323, 279, 1111, 341, 322, 119482, 1938, 363, 15862, 47522, 287, 5237, 376, 1263, 323, 279, 66272, 39416, 11839, 8654, 1587, 385, 262, 2243, 323, 434, 262, 17904, 265, 80812, 366, 466, 4056, 89119, 284, 81188, 16519, 270, 475, 538, 323, 589, 262, 567, 406, 385, 104048, 1035, 366, 262, 1799, 5142, 569, 265, 4980, 1458, 315, 7089, 264, 262, 595, 323, 42418, 10281, 7578, 5055, 284, 364, 1318, 270, 266, 423, 18163, 41122, 1544, 7578, 37790, 323, 279, 1799, 284, 16078, 292, 316, 2096, 654, 538, 385, 1035, 497, 84668, 12100, 119761, 323, 620, 375, 740, 1111, 341, 322, 366, 262, 1799, 382, 268, 872, 5142, 332, 4980, 30104, 287, 108336, 1263, 263, 89932, 2890, 287, 26328, 49888, 8449, 1263, 323, 344, 908, 366, 315, 7089, 71745, 1955, 262, 423, 482, 7089, 59054, 366, 263, 4235, 423, 341, 20875, 313, 22691, 71733, 284, 3735, 287, 5237, 392, 1263, 323, 279, 53298, 7578, 3086, 4632, 1938, 423, 18163, 41122, 1544, 7578, 37790, 29328, 323, 345, 4580, 262, 1799, 288, 475, 740, 1111, 341, 322, 263, 3973, 266, 7526, 7443, 4291, 293, 299, 33620, 4104, 267, 266, 588, 2096, 323, 30439, 7443, 28380, 284, 298, 505, 366, 263, 343, 284, 363, 1519, 265, 105371, 7578, 11049, 323, 17032, 10397, 736, 1432, 284, 427, 263, 315, 25397, 284, 449, 288, 266, 455, 1111, 341, 322, 323, 2], [1, 279, 3372, 341, 395, 341, 597, 2844, 1799, 267, 291, 571, 330, 266, 525, 341, 395, 820, 265, 25379, 57943, 9937, 1207, 287, 9296, 260, 435, 1263, 263, 330, 298, 1018, 1481, 1111, 341, 322, 289, 4784, 2773, 323, 383, 330, 1774, 58476, 366, 1970, 10523, 366, 263, 6379, 49156, 265, 4184, 270, 376, 788, 263, 38522, 28335, 270, 404, 538, 323, 383, 284, 5009, 264, 316, 2096, 275, 16571, 2694, 263, 17350, 39259, 323, 344, 262, 2644, 2307, 366, 315, 1452, 1517, 366, 10139, 1039, 366, 263, 11002, 1039, 332, 26983, 320, 23438, 4443, 52937, 366, 8138, 840, 5719, 366, 263, 1460, 840, 5719, 366, 3946, 323, 10506, 1423, 2814, 262, 776, 1974, 877, 881, 1452, 1874, 2795, 366, 8192, 1076, 840, 8218, 1502, 287, 31289, 958, 1554, 261, 528, 840, 8218, 1502, 1263, 2600, 40968, 366, 578, 260, 765, 2905, 840, 1931, 1502, 287, 621, 958, 1984, 2905, 840, 1931, 1502, 1263, 294, 38694, 2795, 366, 9204, 528, 840, 8218, 1502, 287, 3732, 261, 528, 958, 4895, 261, 528, 840, 8218, 1502, 1263, 2600, 1452, 46538, 12910, 366, 8433, 4056, 840, 1931, 1502, 287, 525, 958, 2917, 4056, 840, 1931, 1502, 1263, 2600, 57286, 366, 578, 260, 1088, 4056, 840, 1931, 1502, 287, 376, 260, 435, 958, 435, 260, 524, 4056, 840, 1931, 1502, 1263, 2600, 9466, 366, 578, 260, 445, 4056, 840, 1931, 1502, 287, 578, 260, 804, 958, 894, 260, 508, 4056, 840, 1931, 1502, 1263, 2600, 28694, 366, 456, 260, 554, 4056, 840, 1931, 1502, 287, 392, 260, 819, 958, 554, 260, 524, 4056, 840, 1931, 1502, 1263, 2600, 59517, 725, 99277, 366, 2569, 525, 260, 6290, 4056, 840, 1931, 1502, 287, 703, 958, 3578, 4056, 840, 1931, 1502, 1263, 2600, 263, 59163, 65508, 366, 72973, 543, 840, 1093, 287, 12111, 958, 29715, 543, 840, 1093, 1263, 323, 336, 3786, 115176, 2814, 266, 112655, 2271, 265, 392, 1566, 287, 2290, 4056, 840, 1931, 1502, 1263, 366, 881, 1452, 1874, 2795, 265, 404, 958, 524, 840, 459, 617, 946, 366, 263, 1267, 1452, 1874, 2795, 265, 977, 958, 1794, 840, 459, 617, 946, 323, 279, 24458, 2604, 4431, 299, 1688, 32586, 14414, 674, 265, 376, 294, 16974, 287, 98421, 268, 2600, 1697, 366, 2569, 376, 294, 2554, 1263, 323, 21413, 270, 1688, 341, 662, 15982, 4285, 366, 1688, 341, 1664, 341, 18878, 4237, 366, 1688, 341, 11288, 366, 1688, 341, 2025, 366, 263, 1688, 88739, 25714, 547, 15396, 332, 305, 2330, 323, 33043, 13475, 16040, 1938, 266, 7177, 15323, 8870, 884, 497, 14364, 117419, 18886, 323, 3009, 262, 4952, 1028, 3979, 277, 262, 13475, 16040, 366, 262, 1799, 330, 1454, 7947, 17350, 39259, 263, 38522, 28335, 364, 404, 538, 416, 5961, 323, 15940, 366, 266, 2877, 5159, 265, 7947, 341, 277, 341, 4952, 16571, 2694, 284, 412, 323, 336, 839, 5159, 265, 62005, 284, 2560, 293, 262, 2192, 265, 16571, 2694, 275, 4014, 34637, 65781, 113361, 29125, 263, 17088, 366, 263, 262, 1799, 284, 696, 277, 4040, 725, 86225, 2773, 323, 279, 7590, 21742, 267, 16571, 1571, 263, 299, 28335, 330, 1379, 264, 266, 4145, 270, 2]], 'token_type_ids': [[0, 0, 0, 0, 0, 0, 0, 0, 0, 0, 0, 0, 0, 0, 0, 0, 0, 0, 0, 0, 0, 0, 0, 0, 0, 0, 0, 0, 0, 0, 0, 0, 0, 0, 0, 0, 0, 0, 0, 0, 0, 0, 0, 0, 0, 0, 0, 0, 0, 0, 0, 0, 0, 0, 0, 0, 0, 0, 0, 0, 0, 0, 0, 0, 0, 0, 0, 0, 0, 0, 0, 0, 0, 0, 0, 0, 0, 0, 0, 0, 0, 0, 0, 0, 0, 0, 0, 0, 0, 0, 0, 0, 0, 0, 0, 0, 0, 0, 0, 0, 0, 0, 0, 0, 0, 0, 0, 0, 0, 0, 0, 0, 0, 0, 0, 0, 0, 0, 0, 0, 0, 0, 0, 0, 0, 0, 0, 0, 0, 0, 0, 0, 0, 0, 0, 0, 0, 0, 0, 0, 0, 0, 0, 0, 0, 0, 0, 0, 0, 0, 0, 0, 0, 0, 0, 0, 0, 0, 0, 0, 0, 0, 0, 0, 0, 0, 0, 0, 0, 0, 0, 0, 0, 0, 0, 0, 0, 0, 0, 0, 0, 0, 0, 0, 0, 0, 0, 0, 0, 0, 0, 0, 0, 0, 0, 0, 0, 0, 0, 0, 0, 0, 0, 0, 0, 0, 0, 0, 0, 0, 0, 0, 0, 0, 0, 0, 0, 0, 0, 0, 0, 0, 0, 0, 0, 0, 0, 0, 0, 0, 0, 0, 0, 0, 0, 0, 0, 0, 0, 0, 0, 0, 0, 0, 0, 0, 0, 0, 0, 0, 0, 0, 0, 0, 0, 0, 0, 0, 0, 0, 0, 0, 0, 0, 0, 0, 0, 0, 0, 0, 0, 0, 0, 0, 0, 0, 0, 0, 0, 0, 0, 0, 0, 0, 0, 0, 0, 0, 0, 0, 0, 0, 0, 0, 0, 0, 0, 0, 0, 0, 0, 0, 0, 0, 0, 0, 0, 0, 0, 0, 0, 0, 0, 0, 0, 0, 0, 0, 0, 0, 0, 0, 0, 0, 0, 0, 0, 0, 0, 0, 0, 0, 0, 0, 0, 0, 0, 0, 0, 0, 0, 0, 0, 0, 0, 0, 0, 0, 0, 0, 0, 0, 0, 0, 0, 0, 0, 0, 0, 0, 0, 0, 0, 0, 0, 0, 0, 0, 0, 0, 0, 0, 0, 0, 0, 0, 0, 0, 0, 0, 0, 0, 0, 0, 0, 0, 0, 0, 0, 0, 0, 0, 0, 0, 0, 0, 0, 0, 0, 0, 0], [0, 0, 0, 0, 0, 0, 0, 0, 0, 0, 0, 0, 0, 0, 0, 0, 0, 0, 0, 0, 0, 0, 0, 0, 0, 0, 0, 0, 0, 0, 0, 0, 0, 0, 0, 0, 0, 0, 0, 0, 0, 0, 0, 0, 0, 0, 0, 0, 0, 0, 0, 0, 0, 0, 0, 0, 0, 0, 0, 0, 0, 0, 0, 0, 0, 0, 0, 0, 0, 0, 0, 0, 0, 0, 0, 0, 0, 0, 0, 0, 0, 0, 0, 0, 0, 0, 0, 0, 0, 0, 0, 0, 0, 0, 0, 0, 0, 0, 0, 0, 0, 0, 0, 0, 0, 0, 0, 0, 0, 0, 0, 0, 0, 0, 0, 0, 0, 0, 0, 0, 0, 0, 0, 0, 0, 0, 0, 0, 0, 0, 0, 0, 0, 0, 0, 0, 0, 0, 0, 0, 0, 0, 0, 0, 0, 0, 0, 0, 0, 0, 0, 0, 0, 0, 0, 0, 0, 0, 0, 0, 0, 0, 0, 0, 0, 0, 0, 0, 0, 0, 0, 0, 0, 0, 0, 0, 0, 0, 0, 0, 0, 0, 0, 0, 0, 0, 0, 0, 0, 0, 0, 0, 0, 0, 0, 0, 0, 0, 0, 0, 0, 0, 0, 0, 0, 0, 0, 0, 0, 0, 0, 0, 0, 0, 0, 0, 0, 0, 0, 0, 0, 0, 0, 0, 0, 0, 0, 0, 0, 0, 0, 0, 0, 0, 0, 0, 0, 0, 0, 0, 0, 0, 0, 0, 0, 0, 0, 0, 0, 0, 0, 0, 0, 0, 0, 0, 0, 0, 0, 0, 0, 0, 0, 0, 0, 0, 0, 0, 0, 0, 0, 0, 0, 0, 0, 0, 0, 0, 0, 0, 0, 0, 0, 0, 0, 0, 0, 0, 0, 0, 0, 0, 0, 0, 0, 0, 0, 0, 0, 0, 0, 0, 0, 0, 0, 0, 0, 0, 0, 0, 0, 0, 0, 0, 0, 0, 0, 0, 0, 0, 0, 0, 0, 0, 0, 0, 0, 0, 0, 0, 0, 0, 0, 0, 0, 0, 0, 0, 0, 0, 0, 0, 0, 0, 0, 0, 0, 0, 0, 0, 0, 0, 0, 0, 0, 0, 0, 0, 0, 0, 0, 0, 0, 0, 0, 0, 0, 0, 0, 0, 0, 0, 0, 0, 0, 0, 0, 0, 0, 0, 0, 0, 0, 0, 0, 0, 0, 0, 0, 0, 0, 0, 0, 0, 0, 0, 0, 0, 0, 0, 0, 0, 0, 0, 0, 0, 0, 0, 0, 0, 0, 0, 0, 0, 0, 0, 0, 0, 0, 0], [0, 0, 0, 0, 0, 0, 0, 0, 0, 0, 0, 0, 0, 0, 0, 0, 0, 0, 0, 0, 0, 0, 0, 0, 0, 0, 0, 0, 0, 0, 0, 0, 0, 0, 0, 0, 0, 0, 0, 0, 0, 0, 0, 0, 0, 0, 0, 0, 0, 0, 0, 0, 0, 0, 0, 0, 0, 0, 0, 0, 0, 0, 0, 0, 0, 0, 0, 0, 0, 0, 0, 0, 0, 0, 0, 0, 0, 0, 0, 0, 0, 0, 0, 0, 0, 0, 0, 0, 0, 0, 0, 0, 0, 0, 0, 0, 0, 0, 0, 0, 0, 0, 0, 0, 0, 0, 0, 0, 0, 0, 0, 0, 0, 0, 0, 0, 0, 0, 0, 0, 0, 0, 0, 0, 0, 0, 0, 0, 0, 0, 0, 0, 0, 0, 0, 0, 0, 0, 0, 0, 0, 0, 0, 0, 0, 0, 0, 0, 0, 0, 0, 0, 0, 0, 0, 0, 0, 0, 0, 0, 0, 0, 0, 0, 0, 0, 0, 0, 0, 0, 0, 0, 0, 0, 0, 0, 0, 0, 0, 0, 0, 0, 0, 0, 0, 0, 0, 0, 0, 0, 0, 0, 0, 0, 0, 0, 0, 0, 0, 0, 0, 0, 0, 0, 0, 0, 0, 0, 0, 0, 0, 0, 0, 0, 0, 0, 0, 0, 0, 0, 0, 0, 0, 0, 0, 0, 0, 0, 0, 0, 0, 0, 0, 0, 0, 0, 0, 0, 0, 0, 0, 0, 0, 0, 0, 0, 0, 0, 0, 0, 0, 0, 0, 0, 0, 0, 0, 0, 0, 0, 0, 0, 0, 0, 0, 0, 0, 0, 0, 0, 0, 0, 0, 0, 0, 0, 0, 0, 0, 0, 0, 0, 0, 0, 0, 0, 0, 0, 0, 0, 0, 0, 0, 0, 0, 0, 0, 0, 0, 0, 0, 0, 0, 0, 0, 0, 0, 0, 0, 0, 0, 0, 0, 0, 0, 0, 0, 0, 0, 0, 0, 0, 0, 0, 0, 0, 0, 0, 0, 0, 0, 0, 0, 0, 0, 0, 0, 0, 0, 0, 0, 0, 0, 0, 0, 0, 0, 0, 0, 0, 0, 0, 0, 0, 0, 0, 0, 0, 0, 0, 0, 0, 0, 0, 0, 0, 0, 0, 0, 0, 0, 0, 0, 0, 0, 0, 0, 0, 0, 0, 0, 0, 0, 0, 0, 0, 0, 0, 0, 0, 0, 0, 0, 0, 0, 0, 0, 0, 0, 0, 0, 0, 0, 0, 0, 0, 0, 0, 0, 0, 0, 0, 0, 0, 0, 0, 0, 0, 0, 0, 0, 0, 0, 0, 0, 0, 0, 0, 0, 0, 0, 0, 0, 0, 0, 0, 0, 0, 0, 0, 0, 0, 0, 0, 0, 0, 0, 0, 0, 0, 0, 0, 0, 0, 0, 0, 0, 0, 0, 0, 0, 0, 0, 0, 0, 0, 0, 0, 0, 0, 0, 0, 0, 0, 0, 0, 0, 0, 0, 0, 0, 0, 0, 0, 0, 0, 0, 0, 0, 0, 0, 0, 0, 0, 0, 0, 0, 0, 0, 0, 0, 0, 0, 0, 0, 0, 0, 0, 0, 0, 0, 0], [0, 0, 0, 0, 0, 0, 0, 0, 0, 0, 0, 0, 0, 0, 0, 0, 0, 0, 0, 0, 0, 0, 0, 0, 0, 0, 0, 0, 0, 0, 0, 0, 0, 0, 0, 0, 0, 0, 0, 0, 0, 0, 0, 0, 0, 0, 0, 0, 0, 0, 0, 0, 0, 0, 0, 0, 0, 0, 0, 0, 0, 0, 0, 0, 0, 0, 0, 0, 0, 0, 0, 0, 0, 0, 0, 0, 0, 0, 0, 0, 0, 0, 0, 0, 0, 0, 0, 0, 0, 0, 0, 0, 0, 0, 0, 0, 0, 0, 0, 0, 0, 0, 0, 0, 0, 0, 0, 0, 0, 0, 0, 0, 0, 0, 0, 0, 0, 0, 0, 0, 0, 0, 0, 0, 0, 0, 0, 0, 0, 0, 0, 0, 0, 0, 0, 0, 0, 0, 0, 0, 0, 0, 0, 0, 0, 0, 0, 0, 0, 0, 0, 0, 0, 0, 0, 0, 0, 0, 0, 0, 0, 0, 0, 0, 0, 0, 0, 0, 0, 0, 0, 0, 0, 0, 0, 0, 0, 0, 0, 0, 0, 0, 0, 0, 0, 0, 0, 0, 0, 0, 0, 0, 0, 0, 0, 0, 0, 0, 0, 0, 0, 0, 0, 0, 0, 0, 0, 0, 0, 0, 0, 0, 0, 0, 0, 0, 0, 0, 0, 0, 0, 0, 0, 0, 0, 0, 0, 0, 0, 0, 0, 0, 0, 0, 0, 0, 0, 0, 0, 0, 0, 0, 0, 0, 0, 0, 0, 0, 0, 0, 0, 0, 0, 0, 0, 0, 0, 0, 0, 0, 0, 0, 0, 0, 0, 0, 0, 0, 0, 0, 0, 0, 0, 0, 0, 0, 0, 0, 0, 0, 0, 0, 0, 0, 0, 0, 0, 0, 0, 0, 0, 0, 0, 0, 0, 0, 0, 0, 0, 0, 0, 0, 0, 0, 0, 0, 0, 0, 0, 0, 0, 0, 0, 0, 0, 0, 0, 0, 0, 0, 0, 0, 0, 0, 0, 0, 0, 0, 0, 0, 0, 0, 0, 0, 0, 0, 0, 0, 0, 0, 0, 0, 0, 0, 0, 0, 0, 0, 0, 0, 0, 0, 0, 0, 0, 0, 0, 0, 0, 0, 0, 0, 0, 0, 0, 0, 0, 0, 0, 0, 0, 0, 0, 0, 0, 0, 0, 0, 0, 0, 0, 0, 0, 0, 0, 0, 0, 0, 0, 0, 0, 0, 0, 0, 0, 0, 0, 0, 0, 0, 0, 0, 0, 0, 0, 0, 0, 0, 0, 0, 0, 0, 0, 0, 0, 0, 0, 0, 0, 0, 0, 0, 0, 0, 0, 0, 0, 0, 0, 0, 0, 0, 0, 0, 0, 0, 0, 0, 0, 0, 0, 0, 0, 0, 0, 0, 0, 0, 0, 0, 0, 0, 0, 0, 0, 0, 0, 0, 0, 0, 0, 0, 0, 0, 0, 0, 0, 0, 0, 0, 0, 0, 0, 0, 0, 0, 0, 0, 0, 0, 0, 0, 0, 0, 0, 0, 0, 0, 0, 0, 0, 0], [0, 0, 0, 0, 0, 0, 0, 0, 0, 0, 0, 0, 0, 0, 0, 0, 0, 0, 0, 0, 0, 0, 0, 0, 0, 0, 0, 0, 0, 0, 0, 0, 0, 0, 0, 0, 0, 0, 0, 0, 0, 0, 0, 0, 0, 0, 0, 0, 0, 0, 0, 0, 0, 0, 0, 0, 0, 0, 0, 0, 0, 0, 0, 0, 0, 0, 0, 0, 0, 0, 0, 0, 0, 0, 0, 0, 0, 0, 0, 0, 0, 0, 0, 0, 0, 0, 0, 0, 0, 0, 0, 0, 0, 0, 0, 0, 0, 0, 0, 0, 0, 0, 0, 0, 0, 0, 0, 0, 0, 0, 0, 0, 0, 0, 0, 0, 0, 0, 0, 0, 0, 0, 0, 0, 0, 0, 0, 0, 0, 0, 0, 0, 0, 0, 0, 0, 0, 0, 0, 0, 0, 0, 0, 0, 0, 0, 0, 0, 0, 0, 0, 0, 0, 0, 0, 0, 0, 0, 0, 0, 0, 0, 0, 0, 0, 0, 0, 0, 0, 0, 0, 0, 0, 0, 0, 0, 0, 0, 0, 0, 0, 0, 0, 0, 0, 0, 0, 0, 0, 0, 0, 0, 0, 0, 0, 0, 0, 0, 0, 0, 0, 0, 0, 0, 0, 0, 0, 0, 0, 0, 0, 0, 0, 0, 0, 0, 0, 0, 0, 0, 0, 0, 0, 0, 0, 0, 0, 0, 0, 0, 0, 0, 0, 0, 0, 0, 0, 0, 0, 0, 0, 0, 0, 0, 0, 0, 0, 0, 0, 0, 0, 0, 0, 0, 0, 0, 0, 0, 0, 0, 0, 0, 0, 0, 0, 0, 0, 0, 0, 0, 0, 0, 0, 0, 0, 0, 0, 0, 0, 0, 0, 0, 0, 0, 0, 0, 0, 0, 0, 0, 0, 0, 0, 0, 0, 0, 0, 0, 0, 0, 0, 0, 0, 0, 0, 0, 0, 0, 0, 0, 0, 0, 0, 0, 0, 0, 0, 0, 0, 0, 0, 0, 0, 0, 0, 0, 0, 0, 0, 0, 0, 0, 0, 0, 0, 0, 0, 0, 0, 0, 0, 0, 0, 0, 0, 0, 0, 0, 0, 0, 0, 0, 0, 0, 0, 0, 0, 0, 0, 0, 0, 0, 0, 0, 0, 0, 0, 0, 0, 0, 0, 0, 0, 0, 0, 0, 0, 0, 0, 0, 0, 0, 0, 0, 0, 0, 0, 0, 0, 0, 0, 0, 0, 0, 0, 0, 0, 0, 0, 0, 0, 0, 0, 0, 0, 0, 0, 0, 0, 0, 0, 0, 0, 0, 0, 0, 0, 0, 0, 0, 0, 0, 0, 0, 0, 0, 0, 0, 0, 0, 0, 0, 0, 0, 0, 0, 0, 0, 0, 0, 0, 0, 0, 0, 0, 0, 0, 0, 0, 0, 0, 0, 0, 0, 0, 0, 0, 0, 0, 0, 0, 0, 0, 0, 0, 0, 0, 0, 0, 0, 0, 0, 0, 0, 0, 0, 0, 0, 0, 0, 0, 0, 0, 0, 0, 0, 0, 0, 0, 0, 0, 0, 0, 0, 0, 0, 0, 0, 0, 0, 0, 0, 0, 0, 0, 0, 0, 0, 0, 0, 0, 0]], 'attention_mask': [[1, 1, 1, 1, 1, 1, 1, 1, 1, 1, 1, 1, 1, 1, 1, 1, 1, 1, 1, 1, 1, 1, 1, 1, 1, 1, 1, 1, 1, 1, 1, 1, 1, 1, 1, 1, 1, 1, 1, 1, 1, 1, 1, 1, 1, 1, 1, 1, 1, 1, 1, 1, 1, 1, 1, 1, 1, 1, 1, 1, 1, 1, 1, 1, 1, 1, 1, 1, 1, 1, 1, 1, 1, 1, 1, 1, 1, 1, 1, 1, 1, 1, 1, 1, 1, 1, 1, 1, 1, 1, 1, 1, 1, 1, 1, 1, 1, 1, 1, 1, 1, 1, 1, 1, 1, 1, 1, 1, 1, 1, 1, 1, 1, 1, 1, 1, 1, 1, 1, 1, 1, 1, 1, 1, 1, 1, 1, 1, 1, 1, 1, 1, 1, 1, 1, 1, 1, 1, 1, 1, 1, 1, 1, 1, 1, 1, 1, 1, 1, 1, 1, 1, 1, 1, 1, 1, 1, 1, 1, 1, 1, 1, 1, 1, 1, 1, 1, 1, 1, 1, 1, 1, 1, 1, 1, 1, 1, 1, 1, 1, 1, 1, 1, 1, 1, 1, 1, 1, 1, 1, 1, 1, 1, 1, 1, 1, 1, 1, 1, 1, 1, 1, 1, 1, 1, 1, 1, 1, 1, 1, 1, 1, 1, 1, 1, 1, 1, 1, 1, 1, 1, 1, 1, 1, 1, 1, 1, 1, 1, 1, 1, 1, 1, 1, 1, 1, 1, 1, 1, 1, 1, 1, 1, 1, 1, 1, 1, 1, 1, 1, 1, 1, 1, 1, 1, 1, 1, 1, 1, 1, 1, 1, 1, 1, 1, 1, 1, 1, 1, 1, 1, 1, 1, 1, 1, 1, 1, 1, 1, 1, 1, 1, 1, 1, 1, 1, 1, 1, 1, 1, 1, 1, 1, 1, 1, 1, 1, 1, 1, 1, 1, 1, 1, 1, 1, 1, 1, 1, 1, 1, 1, 1, 1, 1, 1, 1, 1, 1, 1, 1, 1, 1, 1, 1, 1, 1, 1, 1, 1, 1, 1, 1, 1, 1, 1, 1, 1, 1, 1, 1, 1, 1, 1, 1, 1, 1, 1, 1, 1, 1, 1, 1, 1, 1, 1, 1, 1, 1, 1, 1, 1, 1, 1, 1, 1, 1, 1, 1, 1, 1, 1, 1, 1, 1, 1, 1, 1, 1, 1, 1, 1, 1, 1, 1, 1, 1, 1, 1, 1, 1, 1, 1, 1, 1, 1, 1, 1, 1, 1, 1, 1], [1, 1, 1, 1, 1, 1, 1, 1, 1, 1, 1, 1, 1, 1, 1, 1, 1, 1, 1, 1, 1, 1, 1, 1, 1, 1, 1, 1, 1, 1, 1, 1, 1, 1, 1, 1, 1, 1, 1, 1, 1, 1, 1, 1, 1, 1, 1, 1, 1, 1, 1, 1, 1, 1, 1, 1, 1, 1, 1, 1, 1, 1, 1, 1, 1, 1, 1, 1, 1, 1, 1, 1, 1, 1, 1, 1, 1, 1, 1, 1, 1, 1, 1, 1, 1, 1, 1, 1, 1, 1, 1, 1, 1, 1, 1, 1, 1, 1, 1, 1, 1, 1, 1, 1, 1, 1, 1, 1, 1, 1, 1, 1, 1, 1, 1, 1, 1, 1, 1, 1, 1, 1, 1, 1, 1, 1, 1, 1, 1, 1, 1, 1, 1, 1, 1, 1, 1, 1, 1, 1, 1, 1, 1, 1, 1, 1, 1, 1, 1, 1, 1, 1, 1, 1, 1, 1, 1, 1, 1, 1, 1, 1, 1, 1, 1, 1, 1, 1, 1, 1, 1, 1, 1, 1, 1, 1, 1, 1, 1, 1, 1, 1, 1, 1, 1, 1, 1, 1, 1, 1, 1, 1, 1, 1, 1, 1, 1, 1, 1, 1, 1, 1, 1, 1, 1, 1, 1, 1, 1, 1, 1, 1, 1, 1, 1, 1, 1, 1, 1, 1, 1, 1, 1, 1, 1, 1, 1, 1, 1, 1, 1, 1, 1, 1, 1, 1, 1, 1, 1, 1, 1, 1, 1, 1, 1, 1, 1, 1, 1, 1, 1, 1, 1, 1, 1, 1, 1, 1, 1, 1, 1, 1, 1, 1, 1, 1, 1, 1, 1, 1, 1, 1, 1, 1, 1, 1, 1, 1, 1, 1, 1, 1, 1, 1, 1, 1, 1, 1, 1, 1, 1, 1, 1, 1, 1, 1, 1, 1, 1, 1, 1, 1, 1, 1, 1, 1, 1, 1, 1, 1, 1, 1, 1, 1, 1, 1, 1, 1, 1, 1, 1, 1, 1, 1, 1, 1, 1, 1, 1, 1, 1, 1, 1, 1, 1, 1, 1, 1, 1, 1, 1, 1, 1, 1, 1, 1, 1, 1, 1, 1, 1, 1, 1, 1, 1, 1, 1, 1, 1, 1, 1, 1, 1, 1, 1, 1, 1, 1, 1, 1, 1, 1, 1, 1, 1, 1, 1, 1, 1, 1, 1, 1, 1, 1, 1, 1, 1, 1, 1, 1, 1, 1, 1, 1, 1, 1, 1, 1, 1, 1, 1, 1, 1, 1, 1, 1, 1, 1, 1, 1, 1, 1, 1, 1, 1, 1, 1, 1, 1, 1], [1, 1, 1, 1, 1, 1, 1, 1, 1, 1, 1, 1, 1, 1, 1, 1, 1, 1, 1, 1, 1, 1, 1, 1, 1, 1, 1, 1, 1, 1, 1, 1, 1, 1, 1, 1, 1, 1, 1, 1, 1, 1, 1, 1, 1, 1, 1, 1, 1, 1, 1, 1, 1, 1, 1, 1, 1, 1, 1, 1, 1, 1, 1, 1, 1, 1, 1, 1, 1, 1, 1, 1, 1, 1, 1, 1, 1, 1, 1, 1, 1, 1, 1, 1, 1, 1, 1, 1, 1, 1, 1, 1, 1, 1, 1, 1, 1, 1, 1, 1, 1, 1, 1, 1, 1, 1, 1, 1, 1, 1, 1, 1, 1, 1, 1, 1, 1, 1, 1, 1, 1, 1, 1, 1, 1, 1, 1, 1, 1, 1, 1, 1, 1, 1, 1, 1, 1, 1, 1, 1, 1, 1, 1, 1, 1, 1, 1, 1, 1, 1, 1, 1, 1, 1, 1, 1, 1, 1, 1, 1, 1, 1, 1, 1, 1, 1, 1, 1, 1, 1, 1, 1, 1, 1, 1, 1, 1, 1, 1, 1, 1, 1, 1, 1, 1, 1, 1, 1, 1, 1, 1, 1, 1, 1, 1, 1, 1, 1, 1, 1, 1, 1, 1, 1, 1, 1, 1, 1, 1, 1, 1, 1, 1, 1, 1, 1, 1, 1, 1, 1, 1, 1, 1, 1, 1, 1, 1, 1, 1, 1, 1, 1, 1, 1, 1, 1, 1, 1, 1, 1, 1, 1, 1, 1, 1, 1, 1, 1, 1, 1, 1, 1, 1, 1, 1, 1, 1, 1, 1, 1, 1, 1, 1, 1, 1, 1, 1, 1, 1, 1, 1, 1, 1, 1, 1, 1, 1, 1, 1, 1, 1, 1, 1, 1, 1, 1, 1, 1, 1, 1, 1, 1, 1, 1, 1, 1, 1, 1, 1, 1, 1, 1, 1, 1, 1, 1, 1, 1, 1, 1, 1, 1, 1, 1, 1, 1, 1, 1, 1, 1, 1, 1, 1, 1, 1, 1, 1, 1, 1, 1, 1, 1, 1, 1, 1, 1, 1, 1, 1, 1, 1, 1, 1, 1, 1, 1, 1, 1, 1, 1, 1, 1, 1, 1, 1, 1, 1, 1, 1, 1, 1, 1, 1, 1, 1, 1, 1, 1, 1, 1, 1, 1, 1, 1, 1, 1, 1, 1, 1, 1, 1, 1, 1, 1, 1, 1, 1, 1, 1, 1, 1, 1, 1, 1, 1, 1, 1, 1, 1, 1, 1, 1, 1, 1, 1, 1, 1, 1, 1, 1, 1, 1, 1, 1, 1, 1, 1, 1, 1, 1, 1, 1, 1, 1, 1, 1, 1, 1, 1, 1, 1, 1, 1, 1, 1, 1, 1, 1, 1, 1, 1, 1, 1, 1, 1, 1, 1, 1, 1, 1, 1, 1, 1, 1, 1, 1, 1, 1, 1, 1, 1, 1, 1, 1, 1, 1, 1, 1, 1, 1, 1, 1, 1, 1, 1, 1, 1, 1, 1, 1, 1, 1, 1, 1, 1, 1, 1, 1, 1, 1, 1, 1, 1, 1, 1, 1, 1, 1, 1, 1, 1, 1, 1, 1, 1, 1, 1, 1, 1, 1, 1, 1], [1, 1, 1, 1, 1, 1, 1, 1, 1, 1, 1, 1, 1, 1, 1, 1, 1, 1, 1, 1, 1, 1, 1, 1, 1, 1, 1, 1, 1, 1, 1, 1, 1, 1, 1, 1, 1, 1, 1, 1, 1, 1, 1, 1, 1, 1, 1, 1, 1, 1, 1, 1, 1, 1, 1, 1, 1, 1, 1, 1, 1, 1, 1, 1, 1, 1, 1, 1, 1, 1, 1, 1, 1, 1, 1, 1, 1, 1, 1, 1, 1, 1, 1, 1, 1, 1, 1, 1, 1, 1, 1, 1, 1, 1, 1, 1, 1, 1, 1, 1, 1, 1, 1, 1, 1, 1, 1, 1, 1, 1, 1, 1, 1, 1, 1, 1, 1, 1, 1, 1, 1, 1, 1, 1, 1, 1, 1, 1, 1, 1, 1, 1, 1, 1, 1, 1, 1, 1, 1, 1, 1, 1, 1, 1, 1, 1, 1, 1, 1, 1, 1, 1, 1, 1, 1, 1, 1, 1, 1, 1, 1, 1, 1, 1, 1, 1, 1, 1, 1, 1, 1, 1, 1, 1, 1, 1, 1, 1, 1, 1, 1, 1, 1, 1, 1, 1, 1, 1, 1, 1, 1, 1, 1, 1, 1, 1, 1, 1, 1, 1, 1, 1, 1, 1, 1, 1, 1, 1, 1, 1, 1, 1, 1, 1, 1, 1, 1, 1, 1, 1, 1, 1, 1, 1, 1, 1, 1, 1, 1, 1, 1, 1, 1, 1, 1, 1, 1, 1, 1, 1, 1, 1, 1, 1, 1, 1, 1, 1, 1, 1, 1, 1, 1, 1, 1, 1, 1, 1, 1, 1, 1, 1, 1, 1, 1, 1, 1, 1, 1, 1, 1, 1, 1, 1, 1, 1, 1, 1, 1, 1, 1, 1, 1, 1, 1, 1, 1, 1, 1, 1, 1, 1, 1, 1, 1, 1, 1, 1, 1, 1, 1, 1, 1, 1, 1, 1, 1, 1, 1, 1, 1, 1, 1, 1, 1, 1, 1, 1, 1, 1, 1, 1, 1, 1, 1, 1, 1, 1, 1, 1, 1, 1, 1, 1, 1, 1, 1, 1, 1, 1, 1, 1, 1, 1, 1, 1, 1, 1, 1, 1, 1, 1, 1, 1, 1, 1, 1, 1, 1, 1, 1, 1, 1, 1, 1, 1, 1, 1, 1, 1, 1, 1, 1, 1, 1, 1, 1, 1, 1, 1, 1, 1, 1, 1, 1, 1, 1, 1, 1, 1, 1, 1, 1, 1, 1, 1, 1, 1, 1, 1, 1, 1, 1, 1, 1, 1, 1, 1, 1, 1, 1, 1, 1, 1, 1, 1, 1, 1, 1, 1, 1, 1, 1, 1, 1, 1, 1, 1, 1, 1, 1, 1, 1, 1, 1, 1, 1, 1, 1, 1, 1, 1, 1, 1, 1, 1, 1, 1, 1, 1, 1, 1, 1, 1, 1, 1, 1, 1, 1, 1, 1, 1, 1, 1, 1, 1, 1, 1, 1, 1, 1, 1, 1, 1, 1, 1, 1, 1, 1, 1, 1, 1, 1, 1, 1, 1, 1, 1, 1, 1, 1, 1], [1, 1, 1, 1, 1, 1, 1, 1, 1, 1, 1, 1, 1, 1, 1, 1, 1, 1, 1, 1, 1, 1, 1, 1, 1, 1, 1, 1, 1, 1, 1, 1, 1, 1, 1, 1, 1, 1, 1, 1, 1, 1, 1, 1, 1, 1, 1, 1, 1, 1, 1, 1, 1, 1, 1, 1, 1, 1, 1, 1, 1, 1, 1, 1, 1, 1, 1, 1, 1, 1, 1, 1, 1, 1, 1, 1, 1, 1, 1, 1, 1, 1, 1, 1, 1, 1, 1, 1, 1, 1, 1, 1, 1, 1, 1, 1, 1, 1, 1, 1, 1, 1, 1, 1, 1, 1, 1, 1, 1, 1, 1, 1, 1, 1, 1, 1, 1, 1, 1, 1, 1, 1, 1, 1, 1, 1, 1, 1, 1, 1, 1, 1, 1, 1, 1, 1, 1, 1, 1, 1, 1, 1, 1, 1, 1, 1, 1, 1, 1, 1, 1, 1, 1, 1, 1, 1, 1, 1, 1, 1, 1, 1, 1, 1, 1, 1, 1, 1, 1, 1, 1, 1, 1, 1, 1, 1, 1, 1, 1, 1, 1, 1, 1, 1, 1, 1, 1, 1, 1, 1, 1, 1, 1, 1, 1, 1, 1, 1, 1, 1, 1, 1, 1, 1, 1, 1, 1, 1, 1, 1, 1, 1, 1, 1, 1, 1, 1, 1, 1, 1, 1, 1, 1, 1, 1, 1, 1, 1, 1, 1, 1, 1, 1, 1, 1, 1, 1, 1, 1, 1, 1, 1, 1, 1, 1, 1, 1, 1, 1, 1, 1, 1, 1, 1, 1, 1, 1, 1, 1, 1, 1, 1, 1, 1, 1, 1, 1, 1, 1, 1, 1, 1, 1, 1, 1, 1, 1, 1, 1, 1, 1, 1, 1, 1, 1, 1, 1, 1, 1, 1, 1, 1, 1, 1, 1, 1, 1, 1, 1, 1, 1, 1, 1, 1, 1, 1, 1, 1, 1, 1, 1, 1, 1, 1, 1, 1, 1, 1, 1, 1, 1, 1, 1, 1, 1, 1, 1, 1, 1, 1, 1, 1, 1, 1, 1, 1, 1, 1, 1, 1, 1, 1, 1, 1, 1, 1, 1, 1, 1, 1, 1, 1, 1, 1, 1, 1, 1, 1, 1, 1, 1, 1, 1, 1, 1, 1, 1, 1, 1, 1, 1, 1, 1, 1, 1, 1, 1, 1, 1, 1, 1, 1, 1, 1, 1, 1, 1, 1, 1, 1, 1, 1, 1, 1, 1, 1, 1, 1, 1, 1, 1, 1, 1, 1, 1, 1, 1, 1, 1, 1, 1, 1, 1, 1, 1, 1, 1, 1, 1, 1, 1, 1, 1, 1, 1, 1, 1, 1, 1, 1, 1, 1, 1, 1, 1, 1, 1, 1, 1, 1, 1, 1, 1, 1, 1, 1, 1, 1, 1, 1, 1, 1, 1, 1, 1, 1, 1, 1, 1, 1, 1, 1, 1, 1, 1, 1, 1, 1, 1, 1, 1, 1, 1, 1, 1, 1, 1, 1, 1, 1, 1, 1, 1, 1, 1, 1, 1, 1, 1, 1, 1, 1, 1, 1, 1, 1, 1, 1, 1, 1, 1, 1, 1, 1, 1, 1, 1, 1, 1, 1, 1, 1]], 'labels': [[-100, 81, 2, 43, 43, 43, 43, 28, 32, 6, 81, 81, 81, 81, 81, 34, 74, 81, 5, 46, 81, 81, 81, 81, 81, 19, 19, 19, 81, 81, 81, 81, 81, 81, 81, 81, 81, 81, 81, 81, 81, 81, 81, 81, 19, 60, 60, 60, 60, 60, 60, 60, 81, 81, 81, 81, 81, 81, 81, 81, 81, 81, 81, 81, 81, 81, 81, 81, 81, 81, 81, 81, 81, 81, 81, 81, 81, 81, 81, 81, 81, 81, 81, 81, 81, 81, 81, 81, 81, 81, 81, 81, 81, 81, 81, 81, 81, 81, 81, 81, 18, 59, 81, 81, 81, 11, 52, 81, 20, 20, 20, 81, 81, 5, 46, 81, 20, 20, 20, 61, 61, 61, 61, 61, 61, 61, 81, 20, 20, 20, 81, 81, 5, 46, 81, 5, 81, 20, 20, 20, 20, 61, 61, 61, 61, 61, 61, 61, 81, 81, 81, 81, 81, 81, 81, 81, 81, 81, 81, 81, 81, 81, 81, 81, 81, 81, 81, 81, 11, 52, 81, 20, 81, 5, 46, 81, 11, 52, 52, 81, 20, 81, 81, 11, 52, 81, 81, 81, 81, 81, 10, 10, 51, 51, 51, 51, 51, 51, 81, 11, 52, 52, 52, 81, 81, 5, 81, 81, 81, 81, 81, 20, 81, 81, 20, 81, 81, 81, 11, 11, 52, 52, 52, 81, 81, 81, 81, 81, 81, 81, 34, 81, 5, 46, 81, 81, 81, 81, 81, 81, 81, 34, 81, 81, 81, 81, 81, 81, 81, 81, 81, 81, 81, 81, 81, 81, 81, 81, 81, 81, 81, 81, 81, 81, 81, 81, 81, 81, 34, 81, 81, 13, 13, 13, 54, 54, 54, 81, 13, 13, 13, 54, 54, 54, 81, 81, 81, 81, 81, 34, 81, 10, 81, 81, 81, 81, 81, 81, 81, 5, 81, 20, 81, 81, 81, 81, 81, 34, 74, 74, 81, 5, 46, 46, 46, 81, 81, 81, 5, 46, 46, 81, 81, 81, 81, 81, 81, 81, 81, 11, 81, 81, 5, 46, 81, 11, 52, 52, 81, 81, 5, 46, 46, 81, 81, 81, 81, 81, 81, 81, 81, 81, 81, 81, 81, 81, 81, 81, 81, 81, 81, 81, 81, 81, 81, 81, 81, 81, 81, 81, 81, 81, 81, 81, 81, 81, 81, 81, 81, 81, 81, 81, 81, 81, 81, 81, 81, 81, 81, 81, 81, 81, 81, 81, 81, 81, 81, 81, 81, 81, -100], [-100, 81, 81, 81, 81, 2, 43, 43, 43, 32, 81, 81, 81, 81, 34, 74, 74, 81, 81, 34, 74, 81, 81, 81, 81, 81, 81, 81, 81, 81, 37, 37, 77, 81, 37, 81, 81, 5, 46, 46, 46, 81, 81, 10, 51, 51, 51, 51, 81, 9, 81, 81, 81, 81, 81, 81, 81, 81, 6, 47, 47, 81, 81, 81, 17, 58, 58, 81, 81, 81, 34, 74, 74, 81, 81, 81, 81, 81, 6, 47, 47, 81, 81, 81, 6, 81, 23, 81, 34, 81, 81, 11, 81, 81, 34, 74, 81, 81, 81, 34, 81, 5, 46, 46, 46, 46, 46, 46, 46, 46, 81, 81, 81, 11, 52, 52, 81, 11, 52, 52, 52, 81, 11, 11, 81, 20, 81, 81, 81, 81, 81, 81, 81, 34, 74, 74, 74, 74, 81, 20, 20, 20, 20, 61, 61, 61, 61, 61, 61, 61, 61, 61, 61, 81, 81, 81, 81, 81, 81, 81, 34, 34, 81, 34, 81, 81, 81, 81, 81, 22, 81, 22, 81, 11, 52, 81, 81, 34, 34, 81, 81, 5, 5, 81, 34, 74, 74, 81, 81, 81, 81, 34, 74, 81, 81, 81, 81, 81, 81, 81, 81, 11, 52, 52, 52, 81, 20, 61, 81, 81, 81, 81, 81, 81, 81, 12, 53, 81, 81, 5, 5, 81, 81, 81, 81, 81, 34, 81, 81, 81, 81, 81, 81, 81, 81, 37, 37, 37, 81, 81, 81, 81, 81, 81, 81, 37, 77, 77, 81, 81, 81, 81, 81, 81, 81, 81, 81, 81, 81, 81, 81, 81, 81, 81, 81, 81, 81, 81, 81, 81, 81, 12, 81, 81, 81, 81, 81, 81, 81, 81, 81, 81, 81, 81, 81, 81, 81, 81, 37, 81, 81, 81, 81, 81, 81, 81, 37, 77, 77, 81, 81, 81, 81, 81, 81, 81, 37, 77, 81, 81, 15, 56, 81, 81, 81, 81, 22, 81, 22, 81, 14, 55, 81, 81, 81, 81, 81, 34, 81, 81, 81, 81, 81, 81, 11, 11, 11, 81, 81, 6, 81, 81, 81, 81, 34, 34, 34, 34, 74, 81, 81, 11, 52, 52, 52, 52, 81, 20, 20, 20, 61, 81, 81, 11, 11, 81, 20, 61, 81, 81, 81, 81, 11, 9, 50, 50, 81, 81, 81, 81, 81, 34, 81, 34, 81, 81, 81, 81, 81, 5, 81, 81, 11, 52, 52, 52, 81, 20, 20, 20, 61, 81, 81, 81, 81, 81, 11, 11, 81, 81, 20, 61, 81, 81, 81, 81, 34, 81, 81, -100], [-100, 81, 2, 43, 43, 43, 43, 32, 81, 81, 81, 81, 81, 81, 81, 81, 81, 81, 0, 41, 81, 81, 81, 81, 81, 81, 81, 23, 64, 81, 23, 81, 81, 81, 81, 6, 81, 81, 23, 81, 34, 74, 74, 81, 34, 74, 81, 34, 81, 81, 81, 81, 81, 81, 81, 81, 81, 81, 19, 60, 81, 81, 81, 81, 81, 81, 81, 81, 81, 81, 81, 81, 19, 60, 60, 60, 60, 60, 60, 60, 60, 60, 81, 81, 6, 81, 81, 81, 81, 11, 52, 81, 20, 20, 20, 61, 61, 61, 81, 11, 52, 81, 20, 61, 81, 11, 11, 20, 61, 81, 11, 20, 61, 61, 81, 20, 20, 20, 61, 61, 81, 81, 11, 52, 52, 81, 10, 51, 81, 81, 11, 81, 20, 20, 20, 81, 11, 11, 11, 81, 81, 11, 11, 11, 81, 81, 81, 81, 81, 11, 11, 11, 11, 81, 81, 81, 81, 81, 81, 81, 81, 11, 20, 61, 81, 81, 81, 20, 61, 81, 37, 81, 81, 10, 51, 51, 51, 51, 51, 51, 51, 81, 81, 11, 52, 81, 81, 34, 81, 34, 81, 34, 34, 34, 81, 81, 81, 34, 74, 74, 81, 81, 34, 34, 74, 74, 81, 81, 5, 81, 81, 81, 11, 52, 81, 81, 81, 81, 81, 81, 81, 81, 81, 81, 11, 52, 81, 20, 81, 81, 81, 81, 81, 11, 52, 81, 20, 20, 20, 61, 61, 61, 81, 20, 61, 61, 81, 81, 11, 11, 52, 81, 81, 81, 81, 81, 11, 52, 81, 81, 81, 34, 81, 81, 81, 81, 81, 11, 11, 52, 52, 52, 81, 81, 37, 77, 77, 77, 77, 77, 81, 81, 11, 81, 81, 81, 81, 11, 11, 11, 81, 81, 11, 11, 11, 81, 81, 81, 81, 11, 11, 11, 11, 81, 81, 81, 81, 81, 81, 81, 81, 11, 52, 52, 52, 20, 61, 81, 81, 81, 23, 81, 81, 81, 81, 81, 22, 81, 22, 81, 81, 12, 10, 81, 81, 81, 81, 81, 11, 52, 52, 81, 81, 81, 81, 81, 11, 52, 81, 81, 81, 81, 81, 34, 34, 81, 81, 81, 34, 74, 81, 81, 11, 81, 81, 81, 81, 81, 34, 81, 81, 81, 81, 81, 81, 81, 81, 81, 81, 81, 81, 81, 81, 81, 81, 81, 81, 81, 81, 81, 81, 81, 81, 81, 81, 81, 81, 81, 81, 81, 11, 10, 51, 81, 81, 81, 81, 81, 12, 81, 81, 8, 81, 81, 81, 81, 81, 81, 81, 81, 81, 81, 81, 81, 5, 46, 46, 46, 46, 81, 81, 10, 51, 51, 81, 81, 81, 81, 81, 81, 81, 81, 81, 81, 81, 81, 81, 81, 81, 11, 81, 81, 81, 81, 81, 81, 34, 74, 74, 81, 81, 5, 46, 81, 5, 46, 46, 81, 81, 81, 81, 81, 81, 34, 74, 74, 74, 81, 81, 5, 46, 46, 81, 81, 5, 46, 46, 46, 46, 46, 46, 81, 81, 81, 81, 81, 81, 81, 81, 81, 81, 81, 81, 81, 81, 81, 81, 81, 81, 81, 81, -100], [-100, 81, 2, 43, 43, 43, 43, 32, 6, 81, 81, 23, 81, 81, 81, 34, 34, 81, 81, 81, 81, 81, 11, 52, 81, 20, 81, 81, 12, 12, 81, 81, 81, 11, 52, 52, 52, 81, 81, 81, 81, 81, 81, 12, 12, 53, 53, 53, 81, 81, 81, 81, 5, 46, 46, 46, 46, 81, 5, 81, 81, 81, 8, 8, 81, 81, 81, 81, 5, 5, 5, 46, 81, 81, 5, 46, 46, 46, 81, 81, 81, 5, 46, 46, 46, 46, 46, 81, 81, 5, 5, 5, 46, 81, 81, 81, 34, 34, 74, 81, 10, 51, 51, 51, 51, 81, 37, 37, 77, 81, 81, 81, 81, 81, 81, 81, 81, 81, 81, 81, 81, 8, 8, 81, 81, 81, 81, 81, 37, 37, 37, 77, 81, 22, 63, 81, 81, 37, 77, 77, 77, 77, 81, 37, 77, 77, 81, 81, 81, 81, 37, 77, 77, 77, 81, 81, 5, 46, 46, 46, 46, 46, 46, 81, 81, 81, 81, 81, 81, 81, 81, 81, 81, 81, 81, 81, 81, 81, 81, 81, 81, 81, 81, 81, 81, 81, 81, 81, 81, 81, 81, 81, 81, 81, 81, 81, 81, 37, 37, 77, 77, 81, 39, 79, 81, 5, 46, 81, 81, 81, 81, 81, 81, 81, 81, 81, 81, 81, 81, 81, 81, 81, 81, 81, 81, 81, 81, 81, 81, 81, 81, 81, 81, 81, 81, 81, 81, 81, 81, 81, 81, 81, 81, 81, 81, 81, 81, 81, 81, 81, 81, 81, 81, 81, 81, 81, 81, 81, 81, 81, 81, 81, 81, 81, 81, 81, 81, 81, 81, 81, 81, 81, 11, 81, 81, 34, 74, 81, 81, 81, 81, 81, 81, 5, 34, 34, 81, 81, 81, 81, 81, 81, 81, 81, 81, 81, 81, 81, 14, 55, 22, 81, 1, 42, 81, 15, 56, 81, 81, 81, 9, 50, 50, 50, 50, 81, 81, 81, 81, 81, 81, 34, 74, 74, 74, 81, 81, 81, 81, 81, 81, 81, 11, 81, 81, 81, 81, 81, 34, 74, 74, 74, 74, 74, 81, 81, 81, 81, 6, 81, 81, 23, 9, 50, 50, 50, 81, 22, 22, 63, 81, 81, 9, 50, 50, 50, 50, 81, 81, 81, 81, 81, 81, 81, 81, 81, 81, 81, 34, 81, 81, 81, 81, 81, 34, 34, 34, 81, 81, 81, 81, 81, 81, 81, 81, 81, 81, 81, 81, 81, 81, 81, 81, 81, 81, 81, 81, 34, 34, 34, 81, 81, 81, 81, 81, 81, 81, 81, 81, 81, 11, 11, 81, 8, 49, 49, 49, 49, 49, 81, 81, 81, 81, 81, 81, 81, 9, 50, 50, 50, 50, 81, 81, 81, 11, 52, 52, 81, 81, 35, 75, 81, 81, 23, 64, 81, 81, 81, 34, 81, 81, 81, 81, 81, 81, 81, 81, 81, 81, 81, 81, 34, 81, 22, 63, 63, 63, 81, 81, 81, 81, 81, 81, 81, 81, 81, 81, 6, 47, 47, 81, -100], [-100, 81, 2, 43, 43, 43, 43, 32, 81, 81, 81, 81, 81, 81, 81, 81, 81, 81, 81, 81, 81, 12, 12, 81, 81, 81, 81, 81, 81, 81, 81, 81, 81, 6, 47, 47, 81, 22, 81, 81, 81, 81, 81, 34, 81, 34, 74, 81, 81, 81, 34, 74, 74, 81, 15, 56, 81, 34, 34, 81, 15, 56, 81, 81, 81, 6, 81, 81, 23, 81, 12, 53, 81, 81, 34, 81, 81, 81, 81, 81, 81, 81, 81, 81, 81, 81, 81, 81, 81, 81, 81, 81, 20, 20, 20, 61, 61, 81, 20, 61, 61, 81, 81, 20, 61, 61, 81, 81, 81, 11, 52, 81, 81, 81, 81, 81, 11, 52, 52, 52, 81, 81, 81, 81, 81, 81, 81, 81, 81, 81, 81, 81, 81, 81, 81, 81, 81, 11, 81, 81, 81, 81, 81, 81, 81, 81, 81, 81, 81, 81, 81, 81, 81, 81, 81, 81, 11, 52, 81, 81, 81, 81, 81, 81, 81, 81, 81, 81, 81, 81, 81, 81, 81, 81, 81, 81, 81, 11, 52, 52, 81, 81, 81, 81, 81, 81, 81, 81, 81, 81, 81, 81, 81, 81, 81, 81, 11, 81, 81, 81, 81, 81, 81, 81, 81, 81, 81, 81, 81, 81, 81, 81, 81, 81, 81, 81, 81, 81, 81, 11, 81, 81, 81, 81, 81, 81, 81, 81, 81, 81, 81, 81, 81, 81, 81, 81, 81, 81, 81, 81, 81, 81, 11, 81, 81, 81, 81, 81, 81, 81, 81, 81, 81, 81, 81, 81, 81, 81, 81, 81, 81, 81, 81, 81, 81, 11, 11, 11, 81, 81, 81, 81, 81, 81, 81, 81, 81, 81, 81, 81, 81, 81, 81, 81, 81, 81, 81, 81, 11, 52, 81, 20, 61, 61, 61, 81, 81, 81, 81, 81, 81, 81, 81, 81, 81, 81, 11, 81, 81, 20, 61, 61, 61, 61, 81, 20, 61, 61, 61, 61, 81, 81, 11, 52, 52, 52, 81, 81, 81, 81, 81, 81, 81, 81, 81, 81, 11, 52, 52, 52, 81, 20, 20, 20, 61, 61, 61, 61, 81, 81, 11, 52, 81, 81, 11, 11, 52, 81, 81, 20, 20, 20, 81, 20, 20, 61, 61, 81, 20, 61, 61, 61, 81, 81, 81, 81, 11, 52, 52, 52, 52, 81, 11, 52, 52, 52, 52, 52, 81, 11, 52, 52, 81, 11, 52, 52, 81, 81, 11, 11, 11, 11, 52, 81, 81, 20, 81, 81, 11, 11, 81, 81, 34, 74, 74, 74, 81, 34, 34, 34, 81, 81, 81, 81, 81, 81, 81, 81, 81, 81, 81, 81, 81, 81, 81, 81, 81, 34, 81, 34, 34, 81, 9, 50, 50, 81, 81, 81, 81, 81, 81, 81, 81, 81, 81, 81, 81, 81, 12, 53, 81, 81, 81, 81, 81, 81, 81, 12, 81, 81, 81, 81, 81, 81, 12, 53, 81, 81, 81, 81, 81, 34, 81, 34, 81, 81, 81, 81, 81, 81, 81, 81, 81, 81, 81, 81, 81, 81, 34, 74, 74, 74, 81, 34, 34, 81, 81, 81, 81, 81, 81, -100]]}"
      ]
     },
     "execution_count": 30,
     "metadata": {},
     "output_type": "execute_result"
    }
   ],
   "source": [
    "tokenize_and_align_labels(datasets['train'][:5])"
   ]
  },
  {
   "cell_type": "code",
   "execution_count": null,
   "metadata": {
    "colab": {
     "base_uri": "https://localhost:8080/",
     "height": 81,
     "referenced_widgets": [
      "a799f868e7f947b1b27b1a72a2b65d85",
      "64e6dcef92d44cf4b3a3dd1d5bda2545",
      "fd9681d8c0904d6cba983dde8dcbeee2",
      "50eabed347964d778ed1a5672e531964",
      "c389ff825c9547c18ae7dafe85df8427",
      "6f74b165f9bf4436a23ec902e8a9a0c3",
      "de09892c62ca4665a9b8544ab15b6b0e",
      "f5f9f4de7a7446e1a6ad277e089b1a2a",
      "da724090206f423abb9e37da56d2c17b",
      "6d5c3382b7e7424aa7160e8649cdd921",
      "1cc066ac9a664bd790e6c35e27fb2b7d",
      "2d74d857252347c7929349e64a0b023d",
      "bd87f688dddd4f3783d2e3a45d4bcf82",
      "45f67a8c13fe4757b4d1fddf124b8c7f",
      "20bdb8229e8e40779b2dd0e6b585606c",
      "673b86a56cab48479bf61e0a5ea36b78",
      "0019e6781b344ac18d7d244151c44a0e",
      "1876ac0e3f694ebaa4b1b3810901cea1",
      "879fe28de0cd487db729faea17efd46e",
      "9f8d516e7bc54b0bbcd038568bea749c",
      "1afecbb791fc48e690a2d9d268258285",
      "ed850e0f28ff479fb990f4c685e18b6f"
     ]
    },
    "id": "DDtsaJeVIrJT",
    "outputId": "83929b45-bf71-4a34-d499-bf7093ecdbf4"
   },
   "outputs": [
    {
     "data": {
      "application/vnd.jupyter.widget-view+json": {
       "model_id": "a799f868e7f947b1b27b1a72a2b65d85",
       "version_major": 2,
       "version_minor": 0
      },
      "text/plain": [
       "Map:   0%|          | 0/360 [00:00<?, ? examples/s]"
      ]
     },
     "metadata": {},
     "output_type": "display_data"
    },
    {
     "data": {
      "application/vnd.jupyter.widget-view+json": {
       "model_id": "2d74d857252347c7929349e64a0b023d",
       "version_major": 2,
       "version_minor": 0
      },
      "text/plain": [
       "Map:   0%|          | 0/40 [00:00<?, ? examples/s]"
      ]
     },
     "metadata": {},
     "output_type": "display_data"
    }
   ],
   "source": [
    "tokenized_datasets = datasets.map(tokenize_and_align_labels, batched=True)"
   ]
  },
  {
   "cell_type": "code",
   "execution_count": null,
   "metadata": {
    "id": "TlqNaB8jIrJW"
   },
   "outputs": [],
   "source": [
    "from transformers import AutoModelForTokenClassification, TrainingArguments, Trainer\n",
    "\n",
    "model = AutoModelForTokenClassification.from_pretrained(model_checkpoint, num_labels=len(label_list) + 1)\n",
    "\n",
    "# old_model= AutoModelForTokenClassification.from_pretrained(model_checkpoint)\n",
    "# model= AutoModelForTokenClassification.from_pretrained(\"bert-base-uncased\", num_labels=len(label_list))\n",
    "# model.bert=old_model.bert"
   ]
  },
  {
   "cell_type": "code",
   "execution_count": null,
   "metadata": {
    "colab": {
     "base_uri": "https://localhost:8080/"
    },
    "id": "AMYdA8EVJQMr",
    "outputId": "cf8e0408-a83b-4861-c1da-4835dafc4422"
   },
   "outputs": [
    {
     "data": {
      "text/plain": [
       "(360, 3)"
      ]
     },
     "execution_count": 33,
     "metadata": {},
     "output_type": "execute_result"
    }
   ],
   "source": [
    "datasets['train'].shape"
   ]
  },
  {
   "cell_type": "code",
   "execution_count": null,
   "metadata": {
    "colab": {
     "base_uri": "https://localhost:8080/"
    },
    "id": "dvWFYkBBn023",
    "outputId": "73aaae6e-8c6c-4441-e148-5e06595cd3a2"
   },
   "outputs": [
    {
     "name": "stdout",
     "output_type": "stream",
     "text": [
      "Requirement already satisfied: transformers==4.30 in /usr/local/lib/python3.10/dist-packages (4.30.0)\n",
      "Requirement already satisfied: filelock in /usr/local/lib/python3.10/dist-packages (from transformers==4.30) (3.13.3)\n",
      "Requirement already satisfied: huggingface-hub<1.0,>=0.14.1 in /usr/local/lib/python3.10/dist-packages (from transformers==4.30) (0.20.3)\n",
      "Requirement already satisfied: numpy>=1.17 in /usr/local/lib/python3.10/dist-packages (from transformers==4.30) (1.25.2)\n",
      "Requirement already satisfied: packaging>=20.0 in /usr/local/lib/python3.10/dist-packages (from transformers==4.30) (24.0)\n",
      "Requirement already satisfied: pyyaml>=5.1 in /usr/local/lib/python3.10/dist-packages (from transformers==4.30) (6.0.1)\n",
      "Requirement already satisfied: regex!=2019.12.17 in /usr/local/lib/python3.10/dist-packages (from transformers==4.30) (2023.12.25)\n",
      "Requirement already satisfied: requests in /usr/local/lib/python3.10/dist-packages (from transformers==4.30) (2.31.0)\n",
      "Requirement already satisfied: tokenizers!=0.11.3,<0.14,>=0.11.1 in /usr/local/lib/python3.10/dist-packages (from transformers==4.30) (0.13.3)\n",
      "Requirement already satisfied: safetensors>=0.3.1 in /usr/local/lib/python3.10/dist-packages (from transformers==4.30) (0.4.2)\n",
      "Requirement already satisfied: tqdm>=4.27 in /usr/local/lib/python3.10/dist-packages (from transformers==4.30) (4.66.2)\n",
      "Requirement already satisfied: fsspec>=2023.5.0 in /usr/local/lib/python3.10/dist-packages (from huggingface-hub<1.0,>=0.14.1->transformers==4.30) (2023.6.0)\n",
      "Requirement already satisfied: typing-extensions>=3.7.4.3 in /usr/local/lib/python3.10/dist-packages (from huggingface-hub<1.0,>=0.14.1->transformers==4.30) (4.10.0)\n",
      "Requirement already satisfied: charset-normalizer<4,>=2 in /usr/local/lib/python3.10/dist-packages (from requests->transformers==4.30) (3.3.2)\n",
      "Requirement already satisfied: idna<4,>=2.5 in /usr/local/lib/python3.10/dist-packages (from requests->transformers==4.30) (3.6)\n",
      "Requirement already satisfied: urllib3<3,>=1.21.1 in /usr/local/lib/python3.10/dist-packages (from requests->transformers==4.30) (2.0.7)\n",
      "Requirement already satisfied: certifi>=2017.4.17 in /usr/local/lib/python3.10/dist-packages (from requests->transformers==4.30) (2024.2.2)\n"
     ]
    }
   ],
   "source": [
    "!pip install transformers==4.30"
   ]
  },
  {
   "cell_type": "code",
   "execution_count": null,
   "metadata": {
    "colab": {
     "base_uri": "https://localhost:8080/"
    },
    "id": "K58CRf7Ilhzm",
    "outputId": "87842412-d255-497d-a8f8-5f15a6cdf553"
   },
   "outputs": [
    {
     "name": "stdout",
     "output_type": "stream",
     "text": [
      "Requirement already satisfied: accelerate in /usr/local/lib/python3.10/dist-packages (0.28.0)\n",
      "Requirement already satisfied: numpy>=1.17 in /usr/local/lib/python3.10/dist-packages (from accelerate) (1.25.2)\n",
      "Requirement already satisfied: packaging>=20.0 in /usr/local/lib/python3.10/dist-packages (from accelerate) (24.0)\n",
      "Requirement already satisfied: psutil in /usr/local/lib/python3.10/dist-packages (from accelerate) (5.9.5)\n",
      "Requirement already satisfied: pyyaml in /usr/local/lib/python3.10/dist-packages (from accelerate) (6.0.1)\n",
      "Requirement already satisfied: torch>=1.10.0 in /usr/local/lib/python3.10/dist-packages (from accelerate) (2.2.1+cu121)\n",
      "Requirement already satisfied: huggingface-hub in /usr/local/lib/python3.10/dist-packages (from accelerate) (0.20.3)\n",
      "Requirement already satisfied: safetensors>=0.3.1 in /usr/local/lib/python3.10/dist-packages (from accelerate) (0.4.2)\n",
      "Requirement already satisfied: filelock in /usr/local/lib/python3.10/dist-packages (from torch>=1.10.0->accelerate) (3.13.3)\n",
      "Requirement already satisfied: typing-extensions>=4.8.0 in /usr/local/lib/python3.10/dist-packages (from torch>=1.10.0->accelerate) (4.10.0)\n",
      "Requirement already satisfied: sympy in /usr/local/lib/python3.10/dist-packages (from torch>=1.10.0->accelerate) (1.12)\n",
      "Requirement already satisfied: networkx in /usr/local/lib/python3.10/dist-packages (from torch>=1.10.0->accelerate) (3.2.1)\n",
      "Requirement already satisfied: jinja2 in /usr/local/lib/python3.10/dist-packages (from torch>=1.10.0->accelerate) (3.1.3)\n",
      "Requirement already satisfied: fsspec in /usr/local/lib/python3.10/dist-packages (from torch>=1.10.0->accelerate) (2023.6.0)\n",
      "Requirement already satisfied: nvidia-cuda-nvrtc-cu12==12.1.105 in /usr/local/lib/python3.10/dist-packages (from torch>=1.10.0->accelerate) (12.1.105)\n",
      "Requirement already satisfied: nvidia-cuda-runtime-cu12==12.1.105 in /usr/local/lib/python3.10/dist-packages (from torch>=1.10.0->accelerate) (12.1.105)\n",
      "Requirement already satisfied: nvidia-cuda-cupti-cu12==12.1.105 in /usr/local/lib/python3.10/dist-packages (from torch>=1.10.0->accelerate) (12.1.105)\n",
      "Requirement already satisfied: nvidia-cudnn-cu12==8.9.2.26 in /usr/local/lib/python3.10/dist-packages (from torch>=1.10.0->accelerate) (8.9.2.26)\n",
      "Requirement already satisfied: nvidia-cublas-cu12==12.1.3.1 in /usr/local/lib/python3.10/dist-packages (from torch>=1.10.0->accelerate) (12.1.3.1)\n",
      "Requirement already satisfied: nvidia-cufft-cu12==11.0.2.54 in /usr/local/lib/python3.10/dist-packages (from torch>=1.10.0->accelerate) (11.0.2.54)\n",
      "Requirement already satisfied: nvidia-curand-cu12==10.3.2.106 in /usr/local/lib/python3.10/dist-packages (from torch>=1.10.0->accelerate) (10.3.2.106)\n",
      "Requirement already satisfied: nvidia-cusolver-cu12==11.4.5.107 in /usr/local/lib/python3.10/dist-packages (from torch>=1.10.0->accelerate) (11.4.5.107)\n",
      "Requirement already satisfied: nvidia-cusparse-cu12==12.1.0.106 in /usr/local/lib/python3.10/dist-packages (from torch>=1.10.0->accelerate) (12.1.0.106)\n",
      "Requirement already satisfied: nvidia-nccl-cu12==2.19.3 in /usr/local/lib/python3.10/dist-packages (from torch>=1.10.0->accelerate) (2.19.3)\n",
      "Requirement already satisfied: nvidia-nvtx-cu12==12.1.105 in /usr/local/lib/python3.10/dist-packages (from torch>=1.10.0->accelerate) (12.1.105)\n",
      "Requirement already satisfied: triton==2.2.0 in /usr/local/lib/python3.10/dist-packages (from torch>=1.10.0->accelerate) (2.2.0)\n",
      "Requirement already satisfied: nvidia-nvjitlink-cu12 in /usr/local/lib/python3.10/dist-packages (from nvidia-cusolver-cu12==11.4.5.107->torch>=1.10.0->accelerate) (12.4.99)\n",
      "Requirement already satisfied: requests in /usr/local/lib/python3.10/dist-packages (from huggingface-hub->accelerate) (2.31.0)\n",
      "Requirement already satisfied: tqdm>=4.42.1 in /usr/local/lib/python3.10/dist-packages (from huggingface-hub->accelerate) (4.66.2)\n",
      "Requirement already satisfied: MarkupSafe>=2.0 in /usr/local/lib/python3.10/dist-packages (from jinja2->torch>=1.10.0->accelerate) (2.1.5)\n",
      "Requirement already satisfied: charset-normalizer<4,>=2 in /usr/local/lib/python3.10/dist-packages (from requests->huggingface-hub->accelerate) (3.3.2)\n",
      "Requirement already satisfied: idna<4,>=2.5 in /usr/local/lib/python3.10/dist-packages (from requests->huggingface-hub->accelerate) (3.6)\n",
      "Requirement already satisfied: urllib3<3,>=1.21.1 in /usr/local/lib/python3.10/dist-packages (from requests->huggingface-hub->accelerate) (2.0.7)\n",
      "Requirement already satisfied: certifi>=2017.4.17 in /usr/local/lib/python3.10/dist-packages (from requests->huggingface-hub->accelerate) (2024.2.2)\n",
      "Requirement already satisfied: mpmath>=0.19 in /usr/local/lib/python3.10/dist-packages (from sympy->torch>=1.10.0->accelerate) (1.3.0)\n"
     ]
    }
   ],
   "source": [
    "!pip install accelerate -U"
   ]
  },
  {
   "cell_type": "code",
   "execution_count": null,
   "metadata": {
    "id": "Bliy8zgjIrJY"
   },
   "outputs": [],
   "source": [
    "model_name = model_checkpoint.split(\"/\")[-1]\n",
    "args = TrainingArguments(\n",
    "    f\"{model_name}-finetuned-{task}\",\n",
    "    evaluation_strategy = \"epoch\",\n",
    "    learning_rate=2e-5,\n",
    "    per_device_train_batch_size=batch_size,\n",
    "    per_device_eval_batch_size=batch_size,\n",
    "    num_train_epochs=20,\n",
    "    weight_decay=0.01,\n",
    "    lr_scheduler_type='cosine',\n",
    "    push_to_hub=True,\n",
    ")"
   ]
  },
  {
   "cell_type": "code",
   "execution_count": null,
   "metadata": {
    "id": "RiodyTIjzHfx"
   },
   "outputs": [],
   "source": [
    "from transformers import DataCollatorForTokenClassification\n",
    "\n",
    "data_collator = DataCollatorForTokenClassification(tokenizer)"
   ]
  },
  {
   "cell_type": "code",
   "execution_count": null,
   "metadata": {
    "colab": {
     "base_uri": "https://localhost:8080/",
     "height": 173,
     "referenced_widgets": [
      "f667eba47bb04f7584d8c285763df760",
      "fe109d2b99964fbab6dcd0a4e7d47643",
      "42f941b3bc3d4a6cbc22ba61f074f2ca",
      "6bc3425de81d485692a0cf724aba1c21",
      "bc93bdcba66e4ff5b32ed3b959720858",
      "90e116a62c754893b27b8a1baa8a7403",
      "73f31cb2d6d540fb849cc1fa72be56bd",
      "5f2e53e20a2c45049edc2c34c67429d6",
      "01f8cddceed7440eb343122d8e735461",
      "00fd1cc504e6458facd680c7c8c31312",
      "fb886dd7dea64666963734b1829d3ee5"
     ]
    },
    "id": "SIvRVMm9zHfx",
    "outputId": "f28671b1-634c-47e6-aa87-f564bf1cd6a8"
   },
   "outputs": [
    {
     "name": "stderr",
     "output_type": "stream",
     "text": [
      "<ipython-input-38-e20ba34f8cc7>:1: FutureWarning: load_metric is deprecated and will be removed in the next major version of datasets. Use 'evaluate.load' instead, from the new library 🤗 Evaluate: https://huggingface.co/docs/evaluate\n",
      "  metric = load_metric(\"seqeval\")\n",
      "/usr/local/lib/python3.10/dist-packages/datasets/load.py:756: FutureWarning: The repository for seqeval contains custom code which must be executed to correctly load the metric. You can inspect the repository content at https://raw.githubusercontent.com/huggingface/datasets/2.18.0/metrics/seqeval/seqeval.py\n",
      "You can avoid this message in future by passing the argument `trust_remote_code=True`.\n",
      "Passing `trust_remote_code=True` will be mandatory to load this metric from the next major release of `datasets`.\n",
      "  warnings.warn(\n"
     ]
    },
    {
     "data": {
      "application/vnd.jupyter.widget-view+json": {
       "model_id": "f667eba47bb04f7584d8c285763df760",
       "version_major": 2,
       "version_minor": 0
      },
      "text/plain": [
       "Downloading builder script:   0%|          | 0.00/2.47k [00:00<?, ?B/s]"
      ]
     },
     "metadata": {},
     "output_type": "display_data"
    }
   ],
   "source": [
    "metric = load_metric(\"seqeval\")"
   ]
  },
  {
   "cell_type": "code",
   "execution_count": null,
   "metadata": {
    "colab": {
     "base_uri": "https://localhost:8080/"
    },
    "id": "5uVgrHBJzHfy",
    "outputId": "f61f49e5-d242-483f-bdaf-3d9918b5a372"
   },
   "outputs": [
    {
     "data": {
      "text/plain": [
       "{'Age': {'precision': 1.0, 'recall': 1.0, 'f1': 1.0, 'number': 1},\n",
       " 'Biological_structure': {'precision': 1.0,\n",
       "  'recall': 1.0,\n",
       "  'f1': 1.0,\n",
       "  'number': 3},\n",
       " 'Clinical_event': {'precision': 1.0, 'recall': 1.0, 'f1': 1.0, 'number': 4},\n",
       " 'Coreference': {'precision': 1.0, 'recall': 1.0, 'f1': 1.0, 'number': 1},\n",
       " 'Date': {'precision': 1.0, 'recall': 1.0, 'f1': 1.0, 'number': 6},\n",
       " 'Detailed_description': {'precision': 1.0,\n",
       "  'recall': 1.0,\n",
       "  'f1': 1.0,\n",
       "  'number': 5},\n",
       " 'Diagnostic_procedure': {'precision': 1.0,\n",
       "  'recall': 1.0,\n",
       "  'f1': 1.0,\n",
       "  'number': 36},\n",
       " 'Disease_disorder': {'precision': 1.0,\n",
       "  'recall': 1.0,\n",
       "  'f1': 1.0,\n",
       "  'number': 11},\n",
       " 'Dosage': {'precision': 1.0, 'recall': 1.0, 'f1': 1.0, 'number': 1},\n",
       " 'Duration': {'precision': 1.0, 'recall': 1.0, 'f1': 1.0, 'number': 2},\n",
       " 'Frequency': {'precision': 1.0, 'recall': 1.0, 'f1': 1.0, 'number': 1},\n",
       " 'Lab_value': {'precision': 1.0, 'recall': 1.0, 'f1': 1.0, 'number': 22},\n",
       " 'Medication': {'precision': 1.0, 'recall': 1.0, 'f1': 1.0, 'number': 5},\n",
       " 'Nonbiological_location': {'precision': 1.0,\n",
       "  'recall': 1.0,\n",
       "  'f1': 1.0,\n",
       "  'number': 3},\n",
       " 'Sex': {'precision': 1.0, 'recall': 1.0, 'f1': 1.0, 'number': 1},\n",
       " 'Sign_symptom': {'precision': 1.0, 'recall': 1.0, 'f1': 1.0, 'number': 21},\n",
       " 'Therapeutic_procedure': {'precision': 1.0,\n",
       "  'recall': 1.0,\n",
       "  'f1': 1.0,\n",
       "  'number': 3},\n",
       " 'overall_precision': 1.0,\n",
       " 'overall_recall': 1.0,\n",
       " 'overall_f1': 1.0,\n",
       " 'overall_accuracy': 1.0}"
      ]
     },
     "execution_count": 39,
     "metadata": {},
     "output_type": "execute_result"
    }
   ],
   "source": [
    "labels = [label_list[i] for i in example[f\"numeric_tags\"]]\n",
    "metric.compute(predictions=[labels], references=[labels])"
   ]
  },
  {
   "cell_type": "code",
   "execution_count": null,
   "metadata": {
    "id": "UmvbnJ9JIrJd"
   },
   "outputs": [],
   "source": [
    "import numpy as np\n",
    "\n",
    "def compute_metrics(p):\n",
    "    predictions, labels = p\n",
    "    predictions = np.argmax(predictions, axis=2)\n",
    "\n",
    "    # Remove ignored index (special tokens)\n",
    "    true_predictions = [\n",
    "        [label_list[p] for (p, l) in zip(prediction, label) if l != -100]\n",
    "        for prediction, label in zip(predictions, labels)\n",
    "    ]\n",
    "    true_labels = [\n",
    "        [label_list[l] for (p, l) in zip(prediction, label) if l != -100]\n",
    "        for prediction, label in zip(predictions, labels)\n",
    "    ]\n",
    "\n",
    "    results = metric.compute(predictions=true_predictions, references=true_labels)\n",
    "    return {\n",
    "        \"precision\": results[\"overall_precision\"],\n",
    "        \"recall\": results[\"overall_recall\"],\n",
    "        \"f1\": results[\"overall_f1\"],\n",
    "        \"accuracy\": results[\"overall_accuracy\"],\n",
    "    }"
   ]
  },
  {
   "cell_type": "code",
   "execution_count": null,
   "metadata": {
    "colab": {
     "base_uri": "https://localhost:8080/"
    },
    "id": "imY1oC3SIrJf",
    "outputId": "7be03f59-7ab4-4b08-d85d-32df187a0b08"
   },
   "outputs": [
    {
     "name": "stderr",
     "output_type": "stream",
     "text": [
      "/usr/local/lib/python3.10/dist-packages/huggingface_hub/utils/_deprecation.py:131: FutureWarning: 'Repository' (from 'huggingface_hub.repository') is deprecated and will be removed from version '1.0'. Please prefer the http-based alternatives instead. Given its large adoption in legacy code, the complete removal is only planned on next major release.\n",
      "For more details, please read https://huggingface.co/docs/huggingface_hub/concepts/git_vs_http.\n",
      "  warnings.warn(warning_message, FutureWarning)\n",
      "Cloning https://huggingface.co/trung11/Medical-NER-finetuned-ner into local empty directory.\n",
      "WARNING:huggingface_hub.repository:Cloning https://huggingface.co/trung11/Medical-NER-finetuned-ner into local empty directory.\n"
     ]
    }
   ],
   "source": [
    "trainer = Trainer(\n",
    "    model,\n",
    "    args,\n",
    "    train_dataset=tokenized_datasets[\"train\"],\n",
    "    eval_dataset=tokenized_datasets[\"test\"],\n",
    "    data_collator=data_collator,\n",
    "    tokenizer=tokenizer,\n",
    "    compute_metrics=compute_metrics\n",
    ")"
   ]
  },
  {
   "cell_type": "code",
   "execution_count": null,
   "metadata": {
    "colab": {
     "base_uri": "https://localhost:8080/",
     "height": 948
    },
    "id": "3KeYwDbxrXAm",
    "outputId": "115c90b0-b7ed-477f-eb28-b9a511b3da24"
   },
   "outputs": [
    {
     "name": "stderr",
     "output_type": "stream",
     "text": [
      "/usr/local/lib/python3.10/dist-packages/transformers/optimization.py:411: FutureWarning: This implementation of AdamW is deprecated and will be removed in a future version. Use the PyTorch implementation torch.optim.AdamW instead, or set `no_deprecation_warning=True` to disable this warning\n",
      "  warnings.warn(\n",
      "You're using a DebertaV2TokenizerFast tokenizer. Please note that with a fast tokenizer, using the `__call__` method is faster than using a method to encode the text followed by a call to the `pad` method to get a padded encoding.\n"
     ]
    },
    {
     "data": {
      "text/html": [
       "\n",
       "    <div>\n",
       "      \n",
       "      <progress value='1800' max='1800' style='width:300px; height:20px; vertical-align: middle;'></progress>\n",
       "      [1800/1800 22:56, Epoch 20/20]\n",
       "    </div>\n",
       "    <table border=\"1\" class=\"dataframe\">\n",
       "  <thead>\n",
       " <tr style=\"text-align: left;\">\n",
       "      <th>Epoch</th>\n",
       "      <th>Training Loss</th>\n",
       "      <th>Validation Loss</th>\n",
       "      <th>Precision</th>\n",
       "      <th>Recall</th>\n",
       "      <th>F1</th>\n",
       "      <th>Accuracy</th>\n",
       "    </tr>\n",
       "  </thead>\n",
       "  <tbody>\n",
       "    <tr>\n",
       "      <td>1</td>\n",
       "      <td>No log</td>\n",
       "      <td>0.917413</td>\n",
       "      <td>0.423864</td>\n",
       "      <td>0.361317</td>\n",
       "      <td>0.390099</td>\n",
       "      <td>0.744790</td>\n",
       "    </tr>\n",
       "    <tr>\n",
       "      <td>2</td>\n",
       "      <td>No log</td>\n",
       "      <td>0.681428</td>\n",
       "      <td>0.525669</td>\n",
       "      <td>0.552147</td>\n",
       "      <td>0.538583</td>\n",
       "      <td>0.789906</td>\n",
       "    </tr>\n",
       "    <tr>\n",
       "      <td>3</td>\n",
       "      <td>No log</td>\n",
       "      <td>0.626160</td>\n",
       "      <td>0.538278</td>\n",
       "      <td>0.726510</td>\n",
       "      <td>0.618387</td>\n",
       "      <td>0.797398</td>\n",
       "    </tr>\n",
       "    <tr>\n",
       "      <td>4</td>\n",
       "      <td>No log</td>\n",
       "      <td>0.493396</td>\n",
       "      <td>0.606500</td>\n",
       "      <td>0.729093</td>\n",
       "      <td>0.662170</td>\n",
       "      <td>0.843359</td>\n",
       "    </tr>\n",
       "    <tr>\n",
       "      <td>5</td>\n",
       "      <td>No log</td>\n",
       "      <td>0.507073</td>\n",
       "      <td>0.610216</td>\n",
       "      <td>0.794640</td>\n",
       "      <td>0.690323</td>\n",
       "      <td>0.843078</td>\n",
       "    </tr>\n",
       "    <tr>\n",
       "      <td>6</td>\n",
       "      <td>0.784700</td>\n",
       "      <td>0.419520</td>\n",
       "      <td>0.686335</td>\n",
       "      <td>0.796254</td>\n",
       "      <td>0.737220</td>\n",
       "      <td>0.874395</td>\n",
       "    </tr>\n",
       "    <tr>\n",
       "      <td>7</td>\n",
       "      <td>0.784700</td>\n",
       "      <td>0.421470</td>\n",
       "      <td>0.685044</td>\n",
       "      <td>0.838553</td>\n",
       "      <td>0.754065</td>\n",
       "      <td>0.881604</td>\n",
       "    </tr>\n",
       "    <tr>\n",
       "      <td>8</td>\n",
       "      <td>0.784700</td>\n",
       "      <td>0.380664</td>\n",
       "      <td>0.728743</td>\n",
       "      <td>0.844043</td>\n",
       "      <td>0.782166</td>\n",
       "      <td>0.898502</td>\n",
       "    </tr>\n",
       "    <tr>\n",
       "      <td>9</td>\n",
       "      <td>0.784700</td>\n",
       "      <td>0.347357</td>\n",
       "      <td>0.738263</td>\n",
       "      <td>0.847917</td>\n",
       "      <td>0.789300</td>\n",
       "      <td>0.907908</td>\n",
       "    </tr>\n",
       "    <tr>\n",
       "      <td>10</td>\n",
       "      <td>0.784700</td>\n",
       "      <td>0.325903</td>\n",
       "      <td>0.758251</td>\n",
       "      <td>0.867937</td>\n",
       "      <td>0.809395</td>\n",
       "      <td>0.913484</td>\n",
       "    </tr>\n",
       "    <tr>\n",
       "      <td>11</td>\n",
       "      <td>0.784700</td>\n",
       "      <td>0.342806</td>\n",
       "      <td>0.759532</td>\n",
       "      <td>0.881175</td>\n",
       "      <td>0.815845</td>\n",
       "      <td>0.915061</td>\n",
       "    </tr>\n",
       "    <tr>\n",
       "      <td>12</td>\n",
       "      <td>0.228800</td>\n",
       "      <td>0.346913</td>\n",
       "      <td>0.756787</td>\n",
       "      <td>0.882144</td>\n",
       "      <td>0.814671</td>\n",
       "      <td>0.914723</td>\n",
       "    </tr>\n",
       "    <tr>\n",
       "      <td>13</td>\n",
       "      <td>0.228800</td>\n",
       "      <td>0.321115</td>\n",
       "      <td>0.779037</td>\n",
       "      <td>0.887956</td>\n",
       "      <td>0.829938</td>\n",
       "      <td>0.925651</td>\n",
       "    </tr>\n",
       "    <tr>\n",
       "      <td>14</td>\n",
       "      <td>0.228800</td>\n",
       "      <td>0.321699</td>\n",
       "      <td>0.784699</td>\n",
       "      <td>0.890862</td>\n",
       "      <td>0.834417</td>\n",
       "      <td>0.927059</td>\n",
       "    </tr>\n",
       "    <tr>\n",
       "      <td>15</td>\n",
       "      <td>0.228800</td>\n",
       "      <td>0.294416</td>\n",
       "      <td>0.795233</td>\n",
       "      <td>0.894091</td>\n",
       "      <td>0.841769</td>\n",
       "      <td>0.932128</td>\n",
       "    </tr>\n",
       "    <tr>\n",
       "      <td>16</td>\n",
       "      <td>0.228800</td>\n",
       "      <td>0.324416</td>\n",
       "      <td>0.782181</td>\n",
       "      <td>0.898612</td>\n",
       "      <td>0.836364</td>\n",
       "      <td>0.927509</td>\n",
       "    </tr>\n",
       "    <tr>\n",
       "      <td>17</td>\n",
       "      <td>0.127300</td>\n",
       "      <td>0.315343</td>\n",
       "      <td>0.791100</td>\n",
       "      <td>0.901195</td>\n",
       "      <td>0.842566</td>\n",
       "      <td>0.930664</td>\n",
       "    </tr>\n",
       "    <tr>\n",
       "      <td>18</td>\n",
       "      <td>0.127300</td>\n",
       "      <td>0.319751</td>\n",
       "      <td>0.787408</td>\n",
       "      <td>0.900549</td>\n",
       "      <td>0.840187</td>\n",
       "      <td>0.929819</td>\n",
       "    </tr>\n",
       "    <tr>\n",
       "      <td>19</td>\n",
       "      <td>0.127300</td>\n",
       "      <td>0.310862</td>\n",
       "      <td>0.791100</td>\n",
       "      <td>0.901195</td>\n",
       "      <td>0.842566</td>\n",
       "      <td>0.931452</td>\n",
       "    </tr>\n",
       "    <tr>\n",
       "      <td>20</td>\n",
       "      <td>0.127300</td>\n",
       "      <td>0.311380</td>\n",
       "      <td>0.790309</td>\n",
       "      <td>0.900549</td>\n",
       "      <td>0.841835</td>\n",
       "      <td>0.931339</td>\n",
       "    </tr>\n",
       "  </tbody>\n",
       "</table><p>"
      ],
      "text/plain": [
       "<IPython.core.display.HTML object>"
      ]
     },
     "metadata": {},
     "output_type": "display_data"
    },
    {
     "name": "stderr",
     "output_type": "stream",
     "text": [
      "/usr/local/lib/python3.10/dist-packages/seqeval/metrics/v1.py:57: UndefinedMetricWarning: Precision and F-score are ill-defined and being set to 0.0 in labels with no predicted samples. Use `zero_division` parameter to control this behavior.\n",
      "  _warn_prf(average, modifier, msg_start, len(result))\n",
      "/usr/local/lib/python3.10/dist-packages/seqeval/metrics/v1.py:57: UndefinedMetricWarning: Precision and F-score are ill-defined and being set to 0.0 in labels with no predicted samples. Use `zero_division` parameter to control this behavior.\n",
      "  _warn_prf(average, modifier, msg_start, len(result))\n",
      "/usr/local/lib/python3.10/dist-packages/seqeval/metrics/v1.py:57: UndefinedMetricWarning: Precision and F-score are ill-defined and being set to 0.0 in labels with no predicted samples. Use `zero_division` parameter to control this behavior.\n",
      "  _warn_prf(average, modifier, msg_start, len(result))\n",
      "/usr/local/lib/python3.10/dist-packages/seqeval/metrics/v1.py:57: UndefinedMetricWarning: Precision and F-score are ill-defined and being set to 0.0 in labels with no predicted samples. Use `zero_division` parameter to control this behavior.\n",
      "  _warn_prf(average, modifier, msg_start, len(result))\n"
     ]
    },
    {
     "data": {
      "text/plain": [
       "TrainOutput(global_step=1800, training_loss=0.3345100996229384, metrics={'train_runtime': 1378.1152, 'train_samples_per_second': 5.225, 'train_steps_per_second': 1.306, 'total_flos': 1879338734062872.0, 'train_loss': 0.3345100996229384, 'epoch': 20.0})"
      ]
     },
     "execution_count": 44,
     "metadata": {},
     "output_type": "execute_result"
    }
   ],
   "source": [
    "trainer.train()"
   ]
  },
  {
   "cell_type": "code",
   "execution_count": null,
   "metadata": {
    "colab": {
     "base_uri": "https://localhost:8080/",
     "height": 193
    },
    "id": "UOUcBkX8IrJi",
    "outputId": "688f5ebe-2ff4-40df-cb7c-ddfe0c817ed6"
   },
   "outputs": [
    {
     "data": {
      "text/html": [
       "\n",
       "    <div>\n",
       "      \n",
       "      <progress value='10' max='10' style='width:300px; height:20px; vertical-align: middle;'></progress>\n",
       "      [10/10 00:01]\n",
       "    </div>\n",
       "    "
      ],
      "text/plain": [
       "<IPython.core.display.HTML object>"
      ]
     },
     "metadata": {},
     "output_type": "display_data"
    },
    {
     "data": {
      "text/plain": [
       "{'eval_loss': 0.31137973070144653,\n",
       " 'eval_precision': 0.790308869368093,\n",
       " 'eval_recall': 0.9005489183080401,\n",
       " 'eval_f1': 0.8418351946875944,\n",
       " 'eval_accuracy': 0.931339416469528,\n",
       " 'eval_runtime': 2.5175,\n",
       " 'eval_samples_per_second': 15.889,\n",
       " 'eval_steps_per_second': 3.972,\n",
       " 'epoch': 20.0}"
      ]
     },
     "execution_count": 45,
     "metadata": {},
     "output_type": "execute_result"
    }
   ],
   "source": [
    "trainer.evaluate()"
   ]
  }
 ],
 "metadata": {
  "accelerator": "GPU",
  "colab": {
   "gpuClass": "premium",
   "provenance": []
  },
  "gpuClass": "premium",
  "kernelspec": {
   "display_name": "Python 3 (ipykernel)",
   "language": "python",
   "name": "python3"
  },
  "language_info": {
   "codemirror_mode": {
    "name": "ipython",
    "version": 3
   },
   "file_extension": ".py",
   "mimetype": "text/x-python",
   "name": "python",
   "nbconvert_exporter": "python",
   "pygments_lexer": "ipython3",
   "version": "3.10.12"
  },
  "widgets": {
   "application/vnd.jupyter.widget-state+json": {
    "0019e6781b344ac18d7d244151c44a0e": {
     "model_module": "@jupyter-widgets/base",
     "model_module_version": "1.2.0",
     "model_name": "LayoutModel",
     "state": {
      "_model_module": "@jupyter-widgets/base",
      "_model_module_version": "1.2.0",
      "_model_name": "LayoutModel",
      "_view_count": null,
      "_view_module": "@jupyter-widgets/base",
      "_view_module_version": "1.2.0",
      "_view_name": "LayoutView",
      "align_content": null,
      "align_items": null,
      "align_self": null,
      "border": null,
      "bottom": null,
      "display": null,
      "flex": null,
      "flex_flow": null,
      "grid_area": null,
      "grid_auto_columns": null,
      "grid_auto_flow": null,
      "grid_auto_rows": null,
      "grid_column": null,
      "grid_gap": null,
      "grid_row": null,
      "grid_template_areas": null,
      "grid_template_columns": null,
      "grid_template_rows": null,
      "height": null,
      "justify_content": null,
      "justify_items": null,
      "left": null,
      "margin": null,
      "max_height": null,
      "max_width": null,
      "min_height": null,
      "min_width": null,
      "object_fit": null,
      "object_position": null,
      "order": null,
      "overflow": null,
      "overflow_x": null,
      "overflow_y": null,
      "padding": null,
      "right": null,
      "top": null,
      "visibility": null,
      "width": null
     }
    },
    "00fd1cc504e6458facd680c7c8c31312": {
     "model_module": "@jupyter-widgets/base",
     "model_module_version": "1.2.0",
     "model_name": "LayoutModel",
     "state": {
      "_model_module": "@jupyter-widgets/base",
      "_model_module_version": "1.2.0",
      "_model_name": "LayoutModel",
      "_view_count": null,
      "_view_module": "@jupyter-widgets/base",
      "_view_module_version": "1.2.0",
      "_view_name": "LayoutView",
      "align_content": null,
      "align_items": null,
      "align_self": null,
      "border": null,
      "bottom": null,
      "display": null,
      "flex": null,
      "flex_flow": null,
      "grid_area": null,
      "grid_auto_columns": null,
      "grid_auto_flow": null,
      "grid_auto_rows": null,
      "grid_column": null,
      "grid_gap": null,
      "grid_row": null,
      "grid_template_areas": null,
      "grid_template_columns": null,
      "grid_template_rows": null,
      "height": null,
      "justify_content": null,
      "justify_items": null,
      "left": null,
      "margin": null,
      "max_height": null,
      "max_width": null,
      "min_height": null,
      "min_width": null,
      "object_fit": null,
      "object_position": null,
      "order": null,
      "overflow": null,
      "overflow_x": null,
      "overflow_y": null,
      "padding": null,
      "right": null,
      "top": null,
      "visibility": null,
      "width": null
     }
    },
    "01ea157f294f441d9878c7ae7e4ae0eb": {
     "model_module": "@jupyter-widgets/controls",
     "model_module_version": "1.5.0",
     "model_name": "HTMLModel",
     "state": {
      "_dom_classes": [],
      "_model_module": "@jupyter-widgets/controls",
      "_model_module_version": "1.5.0",
      "_model_name": "HTMLModel",
      "_view_count": null,
      "_view_module": "@jupyter-widgets/controls",
      "_view_module_version": "1.5.0",
      "_view_name": "HTMLView",
      "description": "",
      "description_tooltip": null,
      "layout": "IPY_MODEL_8c5cf660ca2b42569a360e4a19634c3f",
      "placeholder": "​",
      "style": "IPY_MODEL_89a4c7da21a64f2ca4ed234f18c2b0c2",
      "value": "<center> <img\nsrc=https://huggingface.co/front/assets/huggingface_logo-noborder.svg\nalt='Hugging Face'> <br> Copy a token from <a\nhref=\"https://huggingface.co/settings/tokens\" target=\"_blank\">your Hugging Face\ntokens page</a> and paste it below. <br> Immediately click login after copying\nyour token or it might be stored in plain text in this notebook file. </center>"
     }
    },
    "01f8cddceed7440eb343122d8e735461": {
     "model_module": "@jupyter-widgets/controls",
     "model_module_version": "1.5.0",
     "model_name": "ProgressStyleModel",
     "state": {
      "_model_module": "@jupyter-widgets/controls",
      "_model_module_version": "1.5.0",
      "_model_name": "ProgressStyleModel",
      "_view_count": null,
      "_view_module": "@jupyter-widgets/base",
      "_view_module_version": "1.2.0",
      "_view_name": "StyleView",
      "bar_color": null,
      "description_width": ""
     }
    },
    "05dfc071056b47a78917dc2806a530ee": {
     "model_module": "@jupyter-widgets/base",
     "model_module_version": "1.2.0",
     "model_name": "LayoutModel",
     "state": {
      "_model_module": "@jupyter-widgets/base",
      "_model_module_version": "1.2.0",
      "_model_name": "LayoutModel",
      "_view_count": null,
      "_view_module": "@jupyter-widgets/base",
      "_view_module_version": "1.2.0",
      "_view_name": "LayoutView",
      "align_content": null,
      "align_items": null,
      "align_self": null,
      "border": null,
      "bottom": null,
      "display": null,
      "flex": null,
      "flex_flow": null,
      "grid_area": null,
      "grid_auto_columns": null,
      "grid_auto_flow": null,
      "grid_auto_rows": null,
      "grid_column": null,
      "grid_gap": null,
      "grid_row": null,
      "grid_template_areas": null,
      "grid_template_columns": null,
      "grid_template_rows": null,
      "height": null,
      "justify_content": null,
      "justify_items": null,
      "left": null,
      "margin": null,
      "max_height": null,
      "max_width": null,
      "min_height": null,
      "min_width": null,
      "object_fit": null,
      "object_position": null,
      "order": null,
      "overflow": null,
      "overflow_x": null,
      "overflow_y": null,
      "padding": null,
      "right": null,
      "top": null,
      "visibility": null,
      "width": null
     }
    },
    "08b15fb91d5a4b309e51d7f139ffd36b": {
     "model_module": "@jupyter-widgets/base",
     "model_module_version": "1.2.0",
     "model_name": "LayoutModel",
     "state": {
      "_model_module": "@jupyter-widgets/base",
      "_model_module_version": "1.2.0",
      "_model_name": "LayoutModel",
      "_view_count": null,
      "_view_module": "@jupyter-widgets/base",
      "_view_module_version": "1.2.0",
      "_view_name": "LayoutView",
      "align_content": null,
      "align_items": "center",
      "align_self": null,
      "border": null,
      "bottom": null,
      "display": "flex",
      "flex": null,
      "flex_flow": "column",
      "grid_area": null,
      "grid_auto_columns": null,
      "grid_auto_flow": null,
      "grid_auto_rows": null,
      "grid_column": null,
      "grid_gap": null,
      "grid_row": null,
      "grid_template_areas": null,
      "grid_template_columns": null,
      "grid_template_rows": null,
      "height": null,
      "justify_content": null,
      "justify_items": null,
      "left": null,
      "margin": null,
      "max_height": null,
      "max_width": null,
      "min_height": null,
      "min_width": null,
      "object_fit": null,
      "object_position": null,
      "order": null,
      "overflow": null,
      "overflow_x": null,
      "overflow_y": null,
      "padding": null,
      "right": null,
      "top": null,
      "visibility": null,
      "width": "50%"
     }
    },
    "09596ab02ce445ffbfb403847961bff0": {
     "model_module": "@jupyter-widgets/base",
     "model_module_version": "1.2.0",
     "model_name": "LayoutModel",
     "state": {
      "_model_module": "@jupyter-widgets/base",
      "_model_module_version": "1.2.0",
      "_model_name": "LayoutModel",
      "_view_count": null,
      "_view_module": "@jupyter-widgets/base",
      "_view_module_version": "1.2.0",
      "_view_name": "LayoutView",
      "align_content": null,
      "align_items": null,
      "align_self": null,
      "border": null,
      "bottom": null,
      "display": null,
      "flex": null,
      "flex_flow": null,
      "grid_area": null,
      "grid_auto_columns": null,
      "grid_auto_flow": null,
      "grid_auto_rows": null,
      "grid_column": null,
      "grid_gap": null,
      "grid_row": null,
      "grid_template_areas": null,
      "grid_template_columns": null,
      "grid_template_rows": null,
      "height": null,
      "justify_content": null,
      "justify_items": null,
      "left": null,
      "margin": null,
      "max_height": null,
      "max_width": null,
      "min_height": null,
      "min_width": null,
      "object_fit": null,
      "object_position": null,
      "order": null,
      "overflow": null,
      "overflow_x": null,
      "overflow_y": null,
      "padding": null,
      "right": null,
      "top": null,
      "visibility": null,
      "width": null
     }
    },
    "15199c50662a4994ad3544897e15b0a8": {
     "model_module": "@jupyter-widgets/controls",
     "model_module_version": "1.5.0",
     "model_name": "LabelModel",
     "state": {
      "_dom_classes": [],
      "_model_module": "@jupyter-widgets/controls",
      "_model_module_version": "1.5.0",
      "_model_name": "LabelModel",
      "_view_count": null,
      "_view_module": "@jupyter-widgets/controls",
      "_view_module_version": "1.5.0",
      "_view_name": "LabelView",
      "description": "",
      "description_tooltip": null,
      "layout": "IPY_MODEL_ef4d78721ac64ef48aeceb79e15e9db9",
      "placeholder": "​",
      "style": "IPY_MODEL_f82e2ff6e5b048da9b01d0154b30b699",
      "value": "Your token has been saved to /root/.cache/huggingface/token"
     }
    },
    "1876ac0e3f694ebaa4b1b3810901cea1": {
     "model_module": "@jupyter-widgets/controls",
     "model_module_version": "1.5.0",
     "model_name": "DescriptionStyleModel",
     "state": {
      "_model_module": "@jupyter-widgets/controls",
      "_model_module_version": "1.5.0",
      "_model_name": "DescriptionStyleModel",
      "_view_count": null,
      "_view_module": "@jupyter-widgets/base",
      "_view_module_version": "1.2.0",
      "_view_name": "StyleView",
      "description_width": ""
     }
    },
    "1a05278708ec45619e25e70c77a05358": {
     "model_module": "@jupyter-widgets/controls",
     "model_module_version": "1.5.0",
     "model_name": "DescriptionStyleModel",
     "state": {
      "_model_module": "@jupyter-widgets/controls",
      "_model_module_version": "1.5.0",
      "_model_name": "DescriptionStyleModel",
      "_view_count": null,
      "_view_module": "@jupyter-widgets/base",
      "_view_module_version": "1.2.0",
      "_view_name": "StyleView",
      "description_width": ""
     }
    },
    "1afecbb791fc48e690a2d9d268258285": {
     "model_module": "@jupyter-widgets/base",
     "model_module_version": "1.2.0",
     "model_name": "LayoutModel",
     "state": {
      "_model_module": "@jupyter-widgets/base",
      "_model_module_version": "1.2.0",
      "_model_name": "LayoutModel",
      "_view_count": null,
      "_view_module": "@jupyter-widgets/base",
      "_view_module_version": "1.2.0",
      "_view_name": "LayoutView",
      "align_content": null,
      "align_items": null,
      "align_self": null,
      "border": null,
      "bottom": null,
      "display": null,
      "flex": null,
      "flex_flow": null,
      "grid_area": null,
      "grid_auto_columns": null,
      "grid_auto_flow": null,
      "grid_auto_rows": null,
      "grid_column": null,
      "grid_gap": null,
      "grid_row": null,
      "grid_template_areas": null,
      "grid_template_columns": null,
      "grid_template_rows": null,
      "height": null,
      "justify_content": null,
      "justify_items": null,
      "left": null,
      "margin": null,
      "max_height": null,
      "max_width": null,
      "min_height": null,
      "min_width": null,
      "object_fit": null,
      "object_position": null,
      "order": null,
      "overflow": null,
      "overflow_x": null,
      "overflow_y": null,
      "padding": null,
      "right": null,
      "top": null,
      "visibility": null,
      "width": null
     }
    },
    "1cc066ac9a664bd790e6c35e27fb2b7d": {
     "model_module": "@jupyter-widgets/controls",
     "model_module_version": "1.5.0",
     "model_name": "DescriptionStyleModel",
     "state": {
      "_model_module": "@jupyter-widgets/controls",
      "_model_module_version": "1.5.0",
      "_model_name": "DescriptionStyleModel",
      "_view_count": null,
      "_view_module": "@jupyter-widgets/base",
      "_view_module_version": "1.2.0",
      "_view_name": "StyleView",
      "description_width": ""
     }
    },
    "20bdb8229e8e40779b2dd0e6b585606c": {
     "model_module": "@jupyter-widgets/controls",
     "model_module_version": "1.5.0",
     "model_name": "HTMLModel",
     "state": {
      "_dom_classes": [],
      "_model_module": "@jupyter-widgets/controls",
      "_model_module_version": "1.5.0",
      "_model_name": "HTMLModel",
      "_view_count": null,
      "_view_module": "@jupyter-widgets/controls",
      "_view_module_version": "1.5.0",
      "_view_name": "HTMLView",
      "description": "",
      "description_tooltip": null,
      "layout": "IPY_MODEL_1afecbb791fc48e690a2d9d268258285",
      "placeholder": "​",
      "style": "IPY_MODEL_ed850e0f28ff479fb990f4c685e18b6f",
      "value": " 40/40 [00:00&lt;00:00, 77.48 examples/s]"
     }
    },
    "2622e17875dd4c93a482ca165eda2e4d": {
     "model_module": "@jupyter-widgets/controls",
     "model_module_version": "1.5.0",
     "model_name": "ProgressStyleModel",
     "state": {
      "_model_module": "@jupyter-widgets/controls",
      "_model_module_version": "1.5.0",
      "_model_name": "ProgressStyleModel",
      "_view_count": null,
      "_view_module": "@jupyter-widgets/base",
      "_view_module_version": "1.2.0",
      "_view_name": "StyleView",
      "bar_color": null,
      "description_width": ""
     }
    },
    "28fd7a681557450ab8791256f56f5a9f": {
     "model_module": "@jupyter-widgets/base",
     "model_module_version": "1.2.0",
     "model_name": "LayoutModel",
     "state": {
      "_model_module": "@jupyter-widgets/base",
      "_model_module_version": "1.2.0",
      "_model_name": "LayoutModel",
      "_view_count": null,
      "_view_module": "@jupyter-widgets/base",
      "_view_module_version": "1.2.0",
      "_view_name": "LayoutView",
      "align_content": null,
      "align_items": null,
      "align_self": null,
      "border": null,
      "bottom": null,
      "display": null,
      "flex": null,
      "flex_flow": null,
      "grid_area": null,
      "grid_auto_columns": null,
      "grid_auto_flow": null,
      "grid_auto_rows": null,
      "grid_column": null,
      "grid_gap": null,
      "grid_row": null,
      "grid_template_areas": null,
      "grid_template_columns": null,
      "grid_template_rows": null,
      "height": null,
      "justify_content": null,
      "justify_items": null,
      "left": null,
      "margin": null,
      "max_height": null,
      "max_width": null,
      "min_height": null,
      "min_width": null,
      "object_fit": null,
      "object_position": null,
      "order": null,
      "overflow": null,
      "overflow_x": null,
      "overflow_y": null,
      "padding": null,
      "right": null,
      "top": null,
      "visibility": null,
      "width": null
     }
    },
    "29feafd70b6e4a1a9a45762c6aa98baf": {
     "model_module": "@jupyter-widgets/base",
     "model_module_version": "1.2.0",
     "model_name": "LayoutModel",
     "state": {
      "_model_module": "@jupyter-widgets/base",
      "_model_module_version": "1.2.0",
      "_model_name": "LayoutModel",
      "_view_count": null,
      "_view_module": "@jupyter-widgets/base",
      "_view_module_version": "1.2.0",
      "_view_name": "LayoutView",
      "align_content": null,
      "align_items": null,
      "align_self": null,
      "border": null,
      "bottom": null,
      "display": null,
      "flex": null,
      "flex_flow": null,
      "grid_area": null,
      "grid_auto_columns": null,
      "grid_auto_flow": null,
      "grid_auto_rows": null,
      "grid_column": null,
      "grid_gap": null,
      "grid_row": null,
      "grid_template_areas": null,
      "grid_template_columns": null,
      "grid_template_rows": null,
      "height": null,
      "justify_content": null,
      "justify_items": null,
      "left": null,
      "margin": null,
      "max_height": null,
      "max_width": null,
      "min_height": null,
      "min_width": null,
      "object_fit": null,
      "object_position": null,
      "order": null,
      "overflow": null,
      "overflow_x": null,
      "overflow_y": null,
      "padding": null,
      "right": null,
      "top": null,
      "visibility": null,
      "width": null
     }
    },
    "2b91f2384a844e14b89552efc1dc2914": {
     "model_module": "@jupyter-widgets/controls",
     "model_module_version": "1.5.0",
     "model_name": "HTMLModel",
     "state": {
      "_dom_classes": [],
      "_model_module": "@jupyter-widgets/controls",
      "_model_module_version": "1.5.0",
      "_model_name": "HTMLModel",
      "_view_count": null,
      "_view_module": "@jupyter-widgets/controls",
      "_view_module_version": "1.5.0",
      "_view_name": "HTMLView",
      "description": "",
      "description_tooltip": null,
      "layout": "IPY_MODEL_47a081c1b44e445b90c380d5a161740e",
      "placeholder": "​",
      "style": "IPY_MODEL_8c9d750a514441dcbc8ec935005fbc91",
      "value": "Map: 100%"
     }
    },
    "2d74d857252347c7929349e64a0b023d": {
     "model_module": "@jupyter-widgets/controls",
     "model_module_version": "1.5.0",
     "model_name": "HBoxModel",
     "state": {
      "_dom_classes": [],
      "_model_module": "@jupyter-widgets/controls",
      "_model_module_version": "1.5.0",
      "_model_name": "HBoxModel",
      "_view_count": null,
      "_view_module": "@jupyter-widgets/controls",
      "_view_module_version": "1.5.0",
      "_view_name": "HBoxView",
      "box_style": "",
      "children": [
       "IPY_MODEL_bd87f688dddd4f3783d2e3a45d4bcf82",
       "IPY_MODEL_45f67a8c13fe4757b4d1fddf124b8c7f",
       "IPY_MODEL_20bdb8229e8e40779b2dd0e6b585606c"
      ],
      "layout": "IPY_MODEL_673b86a56cab48479bf61e0a5ea36b78"
     }
    },
    "2f30234df9614a4cba9efeb72092c04a": {
     "model_module": "@jupyter-widgets/controls",
     "model_module_version": "1.5.0",
     "model_name": "LabelModel",
     "state": {
      "_dom_classes": [],
      "_model_module": "@jupyter-widgets/controls",
      "_model_module_version": "1.5.0",
      "_model_name": "LabelModel",
      "_view_count": null,
      "_view_module": "@jupyter-widgets/controls",
      "_view_module_version": "1.5.0",
      "_view_name": "LabelView",
      "description": "",
      "description_tooltip": null,
      "layout": "IPY_MODEL_58cc42eba73a4fc6b724f4d2386c89a7",
      "placeholder": "​",
      "style": "IPY_MODEL_69d195c931ac47769f5fccf47a9fdfdf",
      "value": "Connecting..."
     }
    },
    "3569ad1535ed428c8165aa6521acafb5": {
     "model_module": "@jupyter-widgets/base",
     "model_module_version": "1.2.0",
     "model_name": "LayoutModel",
     "state": {
      "_model_module": "@jupyter-widgets/base",
      "_model_module_version": "1.2.0",
      "_model_name": "LayoutModel",
      "_view_count": null,
      "_view_module": "@jupyter-widgets/base",
      "_view_module_version": "1.2.0",
      "_view_name": "LayoutView",
      "align_content": null,
      "align_items": null,
      "align_self": null,
      "border": null,
      "bottom": null,
      "display": null,
      "flex": null,
      "flex_flow": null,
      "grid_area": null,
      "grid_auto_columns": null,
      "grid_auto_flow": null,
      "grid_auto_rows": null,
      "grid_column": null,
      "grid_gap": null,
      "grid_row": null,
      "grid_template_areas": null,
      "grid_template_columns": null,
      "grid_template_rows": null,
      "height": null,
      "justify_content": null,
      "justify_items": null,
      "left": null,
      "margin": null,
      "max_height": null,
      "max_width": null,
      "min_height": null,
      "min_width": null,
      "object_fit": null,
      "object_position": null,
      "order": null,
      "overflow": null,
      "overflow_x": null,
      "overflow_y": null,
      "padding": null,
      "right": null,
      "top": null,
      "visibility": null,
      "width": null
     }
    },
    "3f7385fcbb8745c2aa10c3e79ed5f927": {
     "model_module": "@jupyter-widgets/base",
     "model_module_version": "1.2.0",
     "model_name": "LayoutModel",
     "state": {
      "_model_module": "@jupyter-widgets/base",
      "_model_module_version": "1.2.0",
      "_model_name": "LayoutModel",
      "_view_count": null,
      "_view_module": "@jupyter-widgets/base",
      "_view_module_version": "1.2.0",
      "_view_name": "LayoutView",
      "align_content": null,
      "align_items": null,
      "align_self": null,
      "border": null,
      "bottom": null,
      "display": null,
      "flex": null,
      "flex_flow": null,
      "grid_area": null,
      "grid_auto_columns": null,
      "grid_auto_flow": null,
      "grid_auto_rows": null,
      "grid_column": null,
      "grid_gap": null,
      "grid_row": null,
      "grid_template_areas": null,
      "grid_template_columns": null,
      "grid_template_rows": null,
      "height": null,
      "justify_content": null,
      "justify_items": null,
      "left": null,
      "margin": null,
      "max_height": null,
      "max_width": null,
      "min_height": null,
      "min_width": null,
      "object_fit": null,
      "object_position": null,
      "order": null,
      "overflow": null,
      "overflow_x": null,
      "overflow_y": null,
      "padding": null,
      "right": null,
      "top": null,
      "visibility": null,
      "width": null
     }
    },
    "42f941b3bc3d4a6cbc22ba61f074f2ca": {
     "model_module": "@jupyter-widgets/controls",
     "model_module_version": "1.5.0",
     "model_name": "FloatProgressModel",
     "state": {
      "_dom_classes": [],
      "_model_module": "@jupyter-widgets/controls",
      "_model_module_version": "1.5.0",
      "_model_name": "FloatProgressModel",
      "_view_count": null,
      "_view_module": "@jupyter-widgets/controls",
      "_view_module_version": "1.5.0",
      "_view_name": "ProgressView",
      "bar_style": "success",
      "description": "",
      "description_tooltip": null,
      "layout": "IPY_MODEL_5f2e53e20a2c45049edc2c34c67429d6",
      "max": 2471,
      "min": 0,
      "orientation": "horizontal",
      "style": "IPY_MODEL_01f8cddceed7440eb343122d8e735461",
      "value": 2471
     }
    },
    "45f67a8c13fe4757b4d1fddf124b8c7f": {
     "model_module": "@jupyter-widgets/controls",
     "model_module_version": "1.5.0",
     "model_name": "FloatProgressModel",
     "state": {
      "_dom_classes": [],
      "_model_module": "@jupyter-widgets/controls",
      "_model_module_version": "1.5.0",
      "_model_name": "FloatProgressModel",
      "_view_count": null,
      "_view_module": "@jupyter-widgets/controls",
      "_view_module_version": "1.5.0",
      "_view_name": "ProgressView",
      "bar_style": "success",
      "description": "",
      "description_tooltip": null,
      "layout": "IPY_MODEL_879fe28de0cd487db729faea17efd46e",
      "max": 40,
      "min": 0,
      "orientation": "horizontal",
      "style": "IPY_MODEL_9f8d516e7bc54b0bbcd038568bea749c",
      "value": 40
     }
    },
    "47a081c1b44e445b90c380d5a161740e": {
     "model_module": "@jupyter-widgets/base",
     "model_module_version": "1.2.0",
     "model_name": "LayoutModel",
     "state": {
      "_model_module": "@jupyter-widgets/base",
      "_model_module_version": "1.2.0",
      "_model_name": "LayoutModel",
      "_view_count": null,
      "_view_module": "@jupyter-widgets/base",
      "_view_module_version": "1.2.0",
      "_view_name": "LayoutView",
      "align_content": null,
      "align_items": null,
      "align_self": null,
      "border": null,
      "bottom": null,
      "display": null,
      "flex": null,
      "flex_flow": null,
      "grid_area": null,
      "grid_auto_columns": null,
      "grid_auto_flow": null,
      "grid_auto_rows": null,
      "grid_column": null,
      "grid_gap": null,
      "grid_row": null,
      "grid_template_areas": null,
      "grid_template_columns": null,
      "grid_template_rows": null,
      "height": null,
      "justify_content": null,
      "justify_items": null,
      "left": null,
      "margin": null,
      "max_height": null,
      "max_width": null,
      "min_height": null,
      "min_width": null,
      "object_fit": null,
      "object_position": null,
      "order": null,
      "overflow": null,
      "overflow_x": null,
      "overflow_y": null,
      "padding": null,
      "right": null,
      "top": null,
      "visibility": null,
      "width": null
     }
    },
    "50eabed347964d778ed1a5672e531964": {
     "model_module": "@jupyter-widgets/controls",
     "model_module_version": "1.5.0",
     "model_name": "HTMLModel",
     "state": {
      "_dom_classes": [],
      "_model_module": "@jupyter-widgets/controls",
      "_model_module_version": "1.5.0",
      "_model_name": "HTMLModel",
      "_view_count": null,
      "_view_module": "@jupyter-widgets/controls",
      "_view_module_version": "1.5.0",
      "_view_name": "HTMLView",
      "description": "",
      "description_tooltip": null,
      "layout": "IPY_MODEL_6d5c3382b7e7424aa7160e8649cdd921",
      "placeholder": "​",
      "style": "IPY_MODEL_1cc066ac9a664bd790e6c35e27fb2b7d",
      "value": " 360/360 [00:02&lt;00:00, 137.60 examples/s]"
     }
    },
    "55a908a2a09240a68dd3e39835a9f322": {
     "model_module": "@jupyter-widgets/controls",
     "model_module_version": "1.5.0",
     "model_name": "LabelModel",
     "state": {
      "_dom_classes": [],
      "_model_module": "@jupyter-widgets/controls",
      "_model_module_version": "1.5.0",
      "_model_name": "LabelModel",
      "_view_count": null,
      "_view_module": "@jupyter-widgets/controls",
      "_view_module_version": "1.5.0",
      "_view_name": "LabelView",
      "description": "",
      "description_tooltip": null,
      "layout": "IPY_MODEL_b60b356523a6408899cc4cda9e130da2",
      "placeholder": "​",
      "style": "IPY_MODEL_d557b2f457e94d64ae63c697bacf248e",
      "value": "Login successful"
     }
    },
    "58cc42eba73a4fc6b724f4d2386c89a7": {
     "model_module": "@jupyter-widgets/base",
     "model_module_version": "1.2.0",
     "model_name": "LayoutModel",
     "state": {
      "_model_module": "@jupyter-widgets/base",
      "_model_module_version": "1.2.0",
      "_model_name": "LayoutModel",
      "_view_count": null,
      "_view_module": "@jupyter-widgets/base",
      "_view_module_version": "1.2.0",
      "_view_name": "LayoutView",
      "align_content": null,
      "align_items": null,
      "align_self": null,
      "border": null,
      "bottom": null,
      "display": null,
      "flex": null,
      "flex_flow": null,
      "grid_area": null,
      "grid_auto_columns": null,
      "grid_auto_flow": null,
      "grid_auto_rows": null,
      "grid_column": null,
      "grid_gap": null,
      "grid_row": null,
      "grid_template_areas": null,
      "grid_template_columns": null,
      "grid_template_rows": null,
      "height": null,
      "justify_content": null,
      "justify_items": null,
      "left": null,
      "margin": null,
      "max_height": null,
      "max_width": null,
      "min_height": null,
      "min_width": null,
      "object_fit": null,
      "object_position": null,
      "order": null,
      "overflow": null,
      "overflow_x": null,
      "overflow_y": null,
      "padding": null,
      "right": null,
      "top": null,
      "visibility": null,
      "width": null
     }
    },
    "5f2e53e20a2c45049edc2c34c67429d6": {
     "model_module": "@jupyter-widgets/base",
     "model_module_version": "1.2.0",
     "model_name": "LayoutModel",
     "state": {
      "_model_module": "@jupyter-widgets/base",
      "_model_module_version": "1.2.0",
      "_model_name": "LayoutModel",
      "_view_count": null,
      "_view_module": "@jupyter-widgets/base",
      "_view_module_version": "1.2.0",
      "_view_name": "LayoutView",
      "align_content": null,
      "align_items": null,
      "align_self": null,
      "border": null,
      "bottom": null,
      "display": null,
      "flex": null,
      "flex_flow": null,
      "grid_area": null,
      "grid_auto_columns": null,
      "grid_auto_flow": null,
      "grid_auto_rows": null,
      "grid_column": null,
      "grid_gap": null,
      "grid_row": null,
      "grid_template_areas": null,
      "grid_template_columns": null,
      "grid_template_rows": null,
      "height": null,
      "justify_content": null,
      "justify_items": null,
      "left": null,
      "margin": null,
      "max_height": null,
      "max_width": null,
      "min_height": null,
      "min_width": null,
      "object_fit": null,
      "object_position": null,
      "order": null,
      "overflow": null,
      "overflow_x": null,
      "overflow_y": null,
      "padding": null,
      "right": null,
      "top": null,
      "visibility": null,
      "width": null
     }
    },
    "64e6dcef92d44cf4b3a3dd1d5bda2545": {
     "model_module": "@jupyter-widgets/controls",
     "model_module_version": "1.5.0",
     "model_name": "HTMLModel",
     "state": {
      "_dom_classes": [],
      "_model_module": "@jupyter-widgets/controls",
      "_model_module_version": "1.5.0",
      "_model_name": "HTMLModel",
      "_view_count": null,
      "_view_module": "@jupyter-widgets/controls",
      "_view_module_version": "1.5.0",
      "_view_name": "HTMLView",
      "description": "",
      "description_tooltip": null,
      "layout": "IPY_MODEL_6f74b165f9bf4436a23ec902e8a9a0c3",
      "placeholder": "​",
      "style": "IPY_MODEL_de09892c62ca4665a9b8544ab15b6b0e",
      "value": "Map: 100%"
     }
    },
    "65474d8d88d14800b7304f326d4594b0": {
     "model_module": "@jupyter-widgets/controls",
     "model_module_version": "1.5.0",
     "model_name": "HTMLModel",
     "state": {
      "_dom_classes": [],
      "_model_module": "@jupyter-widgets/controls",
      "_model_module_version": "1.5.0",
      "_model_name": "HTMLModel",
      "_view_count": null,
      "_view_module": "@jupyter-widgets/controls",
      "_view_module_version": "1.5.0",
      "_view_name": "HTMLView",
      "description": "",
      "description_tooltip": null,
      "layout": "IPY_MODEL_29feafd70b6e4a1a9a45762c6aa98baf",
      "placeholder": "​",
      "style": "IPY_MODEL_89f5053da1974af4aa2f6363fa41d05d",
      "value": "\n<b>Pro Tip:</b> If you don't already have one, you can create a dedicated\n'notebooks' token with 'write' access, that you can then easily reuse for all\nnotebooks. </center>"
     }
    },
    "673b86a56cab48479bf61e0a5ea36b78": {
     "model_module": "@jupyter-widgets/base",
     "model_module_version": "1.2.0",
     "model_name": "LayoutModel",
     "state": {
      "_model_module": "@jupyter-widgets/base",
      "_model_module_version": "1.2.0",
      "_model_name": "LayoutModel",
      "_view_count": null,
      "_view_module": "@jupyter-widgets/base",
      "_view_module_version": "1.2.0",
      "_view_name": "LayoutView",
      "align_content": null,
      "align_items": null,
      "align_self": null,
      "border": null,
      "bottom": null,
      "display": null,
      "flex": null,
      "flex_flow": null,
      "grid_area": null,
      "grid_auto_columns": null,
      "grid_auto_flow": null,
      "grid_auto_rows": null,
      "grid_column": null,
      "grid_gap": null,
      "grid_row": null,
      "grid_template_areas": null,
      "grid_template_columns": null,
      "grid_template_rows": null,
      "height": null,
      "justify_content": null,
      "justify_items": null,
      "left": null,
      "margin": null,
      "max_height": null,
      "max_width": null,
      "min_height": null,
      "min_width": null,
      "object_fit": null,
      "object_position": null,
      "order": null,
      "overflow": null,
      "overflow_x": null,
      "overflow_y": null,
      "padding": null,
      "right": null,
      "top": null,
      "visibility": null,
      "width": null
     }
    },
    "69d195c931ac47769f5fccf47a9fdfdf": {
     "model_module": "@jupyter-widgets/controls",
     "model_module_version": "1.5.0",
     "model_name": "DescriptionStyleModel",
     "state": {
      "_model_module": "@jupyter-widgets/controls",
      "_model_module_version": "1.5.0",
      "_model_name": "DescriptionStyleModel",
      "_view_count": null,
      "_view_module": "@jupyter-widgets/base",
      "_view_module_version": "1.2.0",
      "_view_name": "StyleView",
      "description_width": ""
     }
    },
    "6bc3425de81d485692a0cf724aba1c21": {
     "model_module": "@jupyter-widgets/controls",
     "model_module_version": "1.5.0",
     "model_name": "HTMLModel",
     "state": {
      "_dom_classes": [],
      "_model_module": "@jupyter-widgets/controls",
      "_model_module_version": "1.5.0",
      "_model_name": "HTMLModel",
      "_view_count": null,
      "_view_module": "@jupyter-widgets/controls",
      "_view_module_version": "1.5.0",
      "_view_name": "HTMLView",
      "description": "",
      "description_tooltip": null,
      "layout": "IPY_MODEL_00fd1cc504e6458facd680c7c8c31312",
      "placeholder": "​",
      "style": "IPY_MODEL_fb886dd7dea64666963734b1829d3ee5",
      "value": " 6.33k/? [00:00&lt;00:00, 142kB/s]"
     }
    },
    "6d477a82d9524cadbd1e449af1cb30fa": {
     "model_module": "@jupyter-widgets/controls",
     "model_module_version": "1.5.0",
     "model_name": "HTMLModel",
     "state": {
      "_dom_classes": [],
      "_model_module": "@jupyter-widgets/controls",
      "_model_module_version": "1.5.0",
      "_model_name": "HTMLModel",
      "_view_count": null,
      "_view_module": "@jupyter-widgets/controls",
      "_view_module_version": "1.5.0",
      "_view_name": "HTMLView",
      "description": "",
      "description_tooltip": null,
      "layout": "IPY_MODEL_88387d41042d497ebc4b5177909cbf22",
      "placeholder": "​",
      "style": "IPY_MODEL_d06e2c119c1c445787bd84c131e5f6f6",
      "value": "Map: 100%"
     }
    },
    "6d5c3382b7e7424aa7160e8649cdd921": {
     "model_module": "@jupyter-widgets/base",
     "model_module_version": "1.2.0",
     "model_name": "LayoutModel",
     "state": {
      "_model_module": "@jupyter-widgets/base",
      "_model_module_version": "1.2.0",
      "_model_name": "LayoutModel",
      "_view_count": null,
      "_view_module": "@jupyter-widgets/base",
      "_view_module_version": "1.2.0",
      "_view_name": "LayoutView",
      "align_content": null,
      "align_items": null,
      "align_self": null,
      "border": null,
      "bottom": null,
      "display": null,
      "flex": null,
      "flex_flow": null,
      "grid_area": null,
      "grid_auto_columns": null,
      "grid_auto_flow": null,
      "grid_auto_rows": null,
      "grid_column": null,
      "grid_gap": null,
      "grid_row": null,
      "grid_template_areas": null,
      "grid_template_columns": null,
      "grid_template_rows": null,
      "height": null,
      "justify_content": null,
      "justify_items": null,
      "left": null,
      "margin": null,
      "max_height": null,
      "max_width": null,
      "min_height": null,
      "min_width": null,
      "object_fit": null,
      "object_position": null,
      "order": null,
      "overflow": null,
      "overflow_x": null,
      "overflow_y": null,
      "padding": null,
      "right": null,
      "top": null,
      "visibility": null,
      "width": null
     }
    },
    "6f74b165f9bf4436a23ec902e8a9a0c3": {
     "model_module": "@jupyter-widgets/base",
     "model_module_version": "1.2.0",
     "model_name": "LayoutModel",
     "state": {
      "_model_module": "@jupyter-widgets/base",
      "_model_module_version": "1.2.0",
      "_model_name": "LayoutModel",
      "_view_count": null,
      "_view_module": "@jupyter-widgets/base",
      "_view_module_version": "1.2.0",
      "_view_name": "LayoutView",
      "align_content": null,
      "align_items": null,
      "align_self": null,
      "border": null,
      "bottom": null,
      "display": null,
      "flex": null,
      "flex_flow": null,
      "grid_area": null,
      "grid_auto_columns": null,
      "grid_auto_flow": null,
      "grid_auto_rows": null,
      "grid_column": null,
      "grid_gap": null,
      "grid_row": null,
      "grid_template_areas": null,
      "grid_template_columns": null,
      "grid_template_rows": null,
      "height": null,
      "justify_content": null,
      "justify_items": null,
      "left": null,
      "margin": null,
      "max_height": null,
      "max_width": null,
      "min_height": null,
      "min_width": null,
      "object_fit": null,
      "object_position": null,
      "order": null,
      "overflow": null,
      "overflow_x": null,
      "overflow_y": null,
      "padding": null,
      "right": null,
      "top": null,
      "visibility": null,
      "width": null
     }
    },
    "73f31cb2d6d540fb849cc1fa72be56bd": {
     "model_module": "@jupyter-widgets/controls",
     "model_module_version": "1.5.0",
     "model_name": "DescriptionStyleModel",
     "state": {
      "_model_module": "@jupyter-widgets/controls",
      "_model_module_version": "1.5.0",
      "_model_name": "DescriptionStyleModel",
      "_view_count": null,
      "_view_module": "@jupyter-widgets/base",
      "_view_module_version": "1.2.0",
      "_view_name": "StyleView",
      "description_width": ""
     }
    },
    "7594ba1d6bdc4ce3a02ddea99df12c33": {
     "model_module": "@jupyter-widgets/controls",
     "model_module_version": "1.5.0",
     "model_name": "PasswordModel",
     "state": {
      "_dom_classes": [],
      "_model_module": "@jupyter-widgets/controls",
      "_model_module_version": "1.5.0",
      "_model_name": "PasswordModel",
      "_view_count": null,
      "_view_module": "@jupyter-widgets/controls",
      "_view_module_version": "1.5.0",
      "_view_name": "PasswordView",
      "continuous_update": true,
      "description": "Token:",
      "description_tooltip": null,
      "disabled": false,
      "layout": "IPY_MODEL_3f7385fcbb8745c2aa10c3e79ed5f927",
      "placeholder": "​",
      "style": "IPY_MODEL_e01fc619e2f64b8eb25615d7a630a006",
      "value": ""
     }
    },
    "7a6d36d7edd646d8b47fd8e7bb21a945": {
     "model_module": "@jupyter-widgets/controls",
     "model_module_version": "1.5.0",
     "model_name": "HTMLModel",
     "state": {
      "_dom_classes": [],
      "_model_module": "@jupyter-widgets/controls",
      "_model_module_version": "1.5.0",
      "_model_name": "HTMLModel",
      "_view_count": null,
      "_view_module": "@jupyter-widgets/controls",
      "_view_module_version": "1.5.0",
      "_view_name": "HTMLView",
      "description": "",
      "description_tooltip": null,
      "layout": "IPY_MODEL_05dfc071056b47a78917dc2806a530ee",
      "placeholder": "​",
      "style": "IPY_MODEL_1a05278708ec45619e25e70c77a05358",
      "value": " 360/360 [00:01&lt;00:00, 255.58 examples/s]"
     }
    },
    "7cd08ffb79e14fba85e2fc9966eb9bcc": {
     "model_module": "@jupyter-widgets/controls",
     "model_module_version": "1.5.0",
     "model_name": "HBoxModel",
     "state": {
      "_dom_classes": [],
      "_model_module": "@jupyter-widgets/controls",
      "_model_module_version": "1.5.0",
      "_model_name": "HBoxModel",
      "_view_count": null,
      "_view_module": "@jupyter-widgets/controls",
      "_view_module_version": "1.5.0",
      "_view_name": "HBoxView",
      "box_style": "",
      "children": [
       "IPY_MODEL_2b91f2384a844e14b89552efc1dc2914",
       "IPY_MODEL_df73eafb812344a7b470123003a652fc",
       "IPY_MODEL_7a6d36d7edd646d8b47fd8e7bb21a945"
      ],
      "layout": "IPY_MODEL_09596ab02ce445ffbfb403847961bff0"
     }
    },
    "879fe28de0cd487db729faea17efd46e": {
     "model_module": "@jupyter-widgets/base",
     "model_module_version": "1.2.0",
     "model_name": "LayoutModel",
     "state": {
      "_model_module": "@jupyter-widgets/base",
      "_model_module_version": "1.2.0",
      "_model_name": "LayoutModel",
      "_view_count": null,
      "_view_module": "@jupyter-widgets/base",
      "_view_module_version": "1.2.0",
      "_view_name": "LayoutView",
      "align_content": null,
      "align_items": null,
      "align_self": null,
      "border": null,
      "bottom": null,
      "display": null,
      "flex": null,
      "flex_flow": null,
      "grid_area": null,
      "grid_auto_columns": null,
      "grid_auto_flow": null,
      "grid_auto_rows": null,
      "grid_column": null,
      "grid_gap": null,
      "grid_row": null,
      "grid_template_areas": null,
      "grid_template_columns": null,
      "grid_template_rows": null,
      "height": null,
      "justify_content": null,
      "justify_items": null,
      "left": null,
      "margin": null,
      "max_height": null,
      "max_width": null,
      "min_height": null,
      "min_width": null,
      "object_fit": null,
      "object_position": null,
      "order": null,
      "overflow": null,
      "overflow_x": null,
      "overflow_y": null,
      "padding": null,
      "right": null,
      "top": null,
      "visibility": null,
      "width": null
     }
    },
    "88387d41042d497ebc4b5177909cbf22": {
     "model_module": "@jupyter-widgets/base",
     "model_module_version": "1.2.0",
     "model_name": "LayoutModel",
     "state": {
      "_model_module": "@jupyter-widgets/base",
      "_model_module_version": "1.2.0",
      "_model_name": "LayoutModel",
      "_view_count": null,
      "_view_module": "@jupyter-widgets/base",
      "_view_module_version": "1.2.0",
      "_view_name": "LayoutView",
      "align_content": null,
      "align_items": null,
      "align_self": null,
      "border": null,
      "bottom": null,
      "display": null,
      "flex": null,
      "flex_flow": null,
      "grid_area": null,
      "grid_auto_columns": null,
      "grid_auto_flow": null,
      "grid_auto_rows": null,
      "grid_column": null,
      "grid_gap": null,
      "grid_row": null,
      "grid_template_areas": null,
      "grid_template_columns": null,
      "grid_template_rows": null,
      "height": null,
      "justify_content": null,
      "justify_items": null,
      "left": null,
      "margin": null,
      "max_height": null,
      "max_width": null,
      "min_height": null,
      "min_width": null,
      "object_fit": null,
      "object_position": null,
      "order": null,
      "overflow": null,
      "overflow_x": null,
      "overflow_y": null,
      "padding": null,
      "right": null,
      "top": null,
      "visibility": null,
      "width": null
     }
    },
    "89a4c7da21a64f2ca4ed234f18c2b0c2": {
     "model_module": "@jupyter-widgets/controls",
     "model_module_version": "1.5.0",
     "model_name": "DescriptionStyleModel",
     "state": {
      "_model_module": "@jupyter-widgets/controls",
      "_model_module_version": "1.5.0",
      "_model_name": "DescriptionStyleModel",
      "_view_count": null,
      "_view_module": "@jupyter-widgets/base",
      "_view_module_version": "1.2.0",
      "_view_name": "StyleView",
      "description_width": ""
     }
    },
    "89f5053da1974af4aa2f6363fa41d05d": {
     "model_module": "@jupyter-widgets/controls",
     "model_module_version": "1.5.0",
     "model_name": "DescriptionStyleModel",
     "state": {
      "_model_module": "@jupyter-widgets/controls",
      "_model_module_version": "1.5.0",
      "_model_name": "DescriptionStyleModel",
      "_view_count": null,
      "_view_module": "@jupyter-widgets/base",
      "_view_module_version": "1.2.0",
      "_view_name": "StyleView",
      "description_width": ""
     }
    },
    "8c5cf660ca2b42569a360e4a19634c3f": {
     "model_module": "@jupyter-widgets/base",
     "model_module_version": "1.2.0",
     "model_name": "LayoutModel",
     "state": {
      "_model_module": "@jupyter-widgets/base",
      "_model_module_version": "1.2.0",
      "_model_name": "LayoutModel",
      "_view_count": null,
      "_view_module": "@jupyter-widgets/base",
      "_view_module_version": "1.2.0",
      "_view_name": "LayoutView",
      "align_content": null,
      "align_items": null,
      "align_self": null,
      "border": null,
      "bottom": null,
      "display": null,
      "flex": null,
      "flex_flow": null,
      "grid_area": null,
      "grid_auto_columns": null,
      "grid_auto_flow": null,
      "grid_auto_rows": null,
      "grid_column": null,
      "grid_gap": null,
      "grid_row": null,
      "grid_template_areas": null,
      "grid_template_columns": null,
      "grid_template_rows": null,
      "height": null,
      "justify_content": null,
      "justify_items": null,
      "left": null,
      "margin": null,
      "max_height": null,
      "max_width": null,
      "min_height": null,
      "min_width": null,
      "object_fit": null,
      "object_position": null,
      "order": null,
      "overflow": null,
      "overflow_x": null,
      "overflow_y": null,
      "padding": null,
      "right": null,
      "top": null,
      "visibility": null,
      "width": null
     }
    },
    "8c9d750a514441dcbc8ec935005fbc91": {
     "model_module": "@jupyter-widgets/controls",
     "model_module_version": "1.5.0",
     "model_name": "DescriptionStyleModel",
     "state": {
      "_model_module": "@jupyter-widgets/controls",
      "_model_module_version": "1.5.0",
      "_model_name": "DescriptionStyleModel",
      "_view_count": null,
      "_view_module": "@jupyter-widgets/base",
      "_view_module_version": "1.2.0",
      "_view_name": "StyleView",
      "description_width": ""
     }
    },
    "8cb2007f327c47a7a14e9fa7607571f8": {
     "model_module": "@jupyter-widgets/controls",
     "model_module_version": "1.5.0",
     "model_name": "HTMLModel",
     "state": {
      "_dom_classes": [],
      "_model_module": "@jupyter-widgets/controls",
      "_model_module_version": "1.5.0",
      "_model_name": "HTMLModel",
      "_view_count": null,
      "_view_module": "@jupyter-widgets/controls",
      "_view_module_version": "1.5.0",
      "_view_name": "HTMLView",
      "description": "",
      "description_tooltip": null,
      "layout": "IPY_MODEL_3569ad1535ed428c8165aa6521acafb5",
      "placeholder": "​",
      "style": "IPY_MODEL_a469c7e29eef4385a7e39f20701ae3df",
      "value": " 40/40 [00:00&lt;00:00, 196.26 examples/s]"
     }
    },
    "90e116a62c754893b27b8a1baa8a7403": {
     "model_module": "@jupyter-widgets/base",
     "model_module_version": "1.2.0",
     "model_name": "LayoutModel",
     "state": {
      "_model_module": "@jupyter-widgets/base",
      "_model_module_version": "1.2.0",
      "_model_name": "LayoutModel",
      "_view_count": null,
      "_view_module": "@jupyter-widgets/base",
      "_view_module_version": "1.2.0",
      "_view_name": "LayoutView",
      "align_content": null,
      "align_items": null,
      "align_self": null,
      "border": null,
      "bottom": null,
      "display": null,
      "flex": null,
      "flex_flow": null,
      "grid_area": null,
      "grid_auto_columns": null,
      "grid_auto_flow": null,
      "grid_auto_rows": null,
      "grid_column": null,
      "grid_gap": null,
      "grid_row": null,
      "grid_template_areas": null,
      "grid_template_columns": null,
      "grid_template_rows": null,
      "height": null,
      "justify_content": null,
      "justify_items": null,
      "left": null,
      "margin": null,
      "max_height": null,
      "max_width": null,
      "min_height": null,
      "min_width": null,
      "object_fit": null,
      "object_position": null,
      "order": null,
      "overflow": null,
      "overflow_x": null,
      "overflow_y": null,
      "padding": null,
      "right": null,
      "top": null,
      "visibility": null,
      "width": null
     }
    },
    "9e7c2008898e462a9d5668ee064f153f": {
     "model_module": "@jupyter-widgets/controls",
     "model_module_version": "1.5.0",
     "model_name": "ProgressStyleModel",
     "state": {
      "_model_module": "@jupyter-widgets/controls",
      "_model_module_version": "1.5.0",
      "_model_name": "ProgressStyleModel",
      "_view_count": null,
      "_view_module": "@jupyter-widgets/base",
      "_view_module_version": "1.2.0",
      "_view_name": "StyleView",
      "bar_color": null,
      "description_width": ""
     }
    },
    "9f8d516e7bc54b0bbcd038568bea749c": {
     "model_module": "@jupyter-widgets/controls",
     "model_module_version": "1.5.0",
     "model_name": "ProgressStyleModel",
     "state": {
      "_model_module": "@jupyter-widgets/controls",
      "_model_module_version": "1.5.0",
      "_model_name": "ProgressStyleModel",
      "_view_count": null,
      "_view_module": "@jupyter-widgets/base",
      "_view_module_version": "1.2.0",
      "_view_name": "StyleView",
      "bar_color": null,
      "description_width": ""
     }
    },
    "a469c7e29eef4385a7e39f20701ae3df": {
     "model_module": "@jupyter-widgets/controls",
     "model_module_version": "1.5.0",
     "model_name": "DescriptionStyleModel",
     "state": {
      "_model_module": "@jupyter-widgets/controls",
      "_model_module_version": "1.5.0",
      "_model_name": "DescriptionStyleModel",
      "_view_count": null,
      "_view_module": "@jupyter-widgets/base",
      "_view_module_version": "1.2.0",
      "_view_name": "StyleView",
      "description_width": ""
     }
    },
    "a5ddbfc90f2f49deb523a8570ddbcbe4": {
     "model_module": "@jupyter-widgets/controls",
     "model_module_version": "1.5.0",
     "model_name": "HBoxModel",
     "state": {
      "_dom_classes": [],
      "_model_module": "@jupyter-widgets/controls",
      "_model_module_version": "1.5.0",
      "_model_name": "HBoxModel",
      "_view_count": null,
      "_view_module": "@jupyter-widgets/controls",
      "_view_module_version": "1.5.0",
      "_view_name": "HBoxView",
      "box_style": "",
      "children": [
       "IPY_MODEL_6d477a82d9524cadbd1e449af1cb30fa",
       "IPY_MODEL_e0a67762551347699c91d17fac2d6e18",
       "IPY_MODEL_8cb2007f327c47a7a14e9fa7607571f8"
      ],
      "layout": "IPY_MODEL_28fd7a681557450ab8791256f56f5a9f"
     }
    },
    "a780aef7bbb0472e8f0f51e2c71b3463": {
     "model_module": "@jupyter-widgets/base",
     "model_module_version": "1.2.0",
     "model_name": "LayoutModel",
     "state": {
      "_model_module": "@jupyter-widgets/base",
      "_model_module_version": "1.2.0",
      "_model_name": "LayoutModel",
      "_view_count": null,
      "_view_module": "@jupyter-widgets/base",
      "_view_module_version": "1.2.0",
      "_view_name": "LayoutView",
      "align_content": null,
      "align_items": null,
      "align_self": null,
      "border": null,
      "bottom": null,
      "display": null,
      "flex": null,
      "flex_flow": null,
      "grid_area": null,
      "grid_auto_columns": null,
      "grid_auto_flow": null,
      "grid_auto_rows": null,
      "grid_column": null,
      "grid_gap": null,
      "grid_row": null,
      "grid_template_areas": null,
      "grid_template_columns": null,
      "grid_template_rows": null,
      "height": null,
      "justify_content": null,
      "justify_items": null,
      "left": null,
      "margin": null,
      "max_height": null,
      "max_width": null,
      "min_height": null,
      "min_width": null,
      "object_fit": null,
      "object_position": null,
      "order": null,
      "overflow": null,
      "overflow_x": null,
      "overflow_y": null,
      "padding": null,
      "right": null,
      "top": null,
      "visibility": null,
      "width": null
     }
    },
    "a799f868e7f947b1b27b1a72a2b65d85": {
     "model_module": "@jupyter-widgets/controls",
     "model_module_version": "1.5.0",
     "model_name": "HBoxModel",
     "state": {
      "_dom_classes": [],
      "_model_module": "@jupyter-widgets/controls",
      "_model_module_version": "1.5.0",
      "_model_name": "HBoxModel",
      "_view_count": null,
      "_view_module": "@jupyter-widgets/controls",
      "_view_module_version": "1.5.0",
      "_view_name": "HBoxView",
      "box_style": "",
      "children": [
       "IPY_MODEL_64e6dcef92d44cf4b3a3dd1d5bda2545",
       "IPY_MODEL_fd9681d8c0904d6cba983dde8dcbeee2",
       "IPY_MODEL_50eabed347964d778ed1a5672e531964"
      ],
      "layout": "IPY_MODEL_c389ff825c9547c18ae7dafe85df8427"
     }
    },
    "b0a8dc6edec94085b1f5a2929351f1f0": {
     "model_module": "@jupyter-widgets/controls",
     "model_module_version": "1.5.0",
     "model_name": "DescriptionStyleModel",
     "state": {
      "_model_module": "@jupyter-widgets/controls",
      "_model_module_version": "1.5.0",
      "_model_name": "DescriptionStyleModel",
      "_view_count": null,
      "_view_module": "@jupyter-widgets/base",
      "_view_module_version": "1.2.0",
      "_view_name": "StyleView",
      "description_width": ""
     }
    },
    "b60b356523a6408899cc4cda9e130da2": {
     "model_module": "@jupyter-widgets/base",
     "model_module_version": "1.2.0",
     "model_name": "LayoutModel",
     "state": {
      "_model_module": "@jupyter-widgets/base",
      "_model_module_version": "1.2.0",
      "_model_name": "LayoutModel",
      "_view_count": null,
      "_view_module": "@jupyter-widgets/base",
      "_view_module_version": "1.2.0",
      "_view_name": "LayoutView",
      "align_content": null,
      "align_items": null,
      "align_self": null,
      "border": null,
      "bottom": null,
      "display": null,
      "flex": null,
      "flex_flow": null,
      "grid_area": null,
      "grid_auto_columns": null,
      "grid_auto_flow": null,
      "grid_auto_rows": null,
      "grid_column": null,
      "grid_gap": null,
      "grid_row": null,
      "grid_template_areas": null,
      "grid_template_columns": null,
      "grid_template_rows": null,
      "height": null,
      "justify_content": null,
      "justify_items": null,
      "left": null,
      "margin": null,
      "max_height": null,
      "max_width": null,
      "min_height": null,
      "min_width": null,
      "object_fit": null,
      "object_position": null,
      "order": null,
      "overflow": null,
      "overflow_x": null,
      "overflow_y": null,
      "padding": null,
      "right": null,
      "top": null,
      "visibility": null,
      "width": null
     }
    },
    "b73769c0d40444f297ae102dc4e67bb1": {
     "model_module": "@jupyter-widgets/base",
     "model_module_version": "1.2.0",
     "model_name": "LayoutModel",
     "state": {
      "_model_module": "@jupyter-widgets/base",
      "_model_module_version": "1.2.0",
      "_model_name": "LayoutModel",
      "_view_count": null,
      "_view_module": "@jupyter-widgets/base",
      "_view_module_version": "1.2.0",
      "_view_name": "LayoutView",
      "align_content": null,
      "align_items": null,
      "align_self": null,
      "border": null,
      "bottom": null,
      "display": null,
      "flex": null,
      "flex_flow": null,
      "grid_area": null,
      "grid_auto_columns": null,
      "grid_auto_flow": null,
      "grid_auto_rows": null,
      "grid_column": null,
      "grid_gap": null,
      "grid_row": null,
      "grid_template_areas": null,
      "grid_template_columns": null,
      "grid_template_rows": null,
      "height": null,
      "justify_content": null,
      "justify_items": null,
      "left": null,
      "margin": null,
      "max_height": null,
      "max_width": null,
      "min_height": null,
      "min_width": null,
      "object_fit": null,
      "object_position": null,
      "order": null,
      "overflow": null,
      "overflow_x": null,
      "overflow_y": null,
      "padding": null,
      "right": null,
      "top": null,
      "visibility": null,
      "width": null
     }
    },
    "bc93bdcba66e4ff5b32ed3b959720858": {
     "model_module": "@jupyter-widgets/base",
     "model_module_version": "1.2.0",
     "model_name": "LayoutModel",
     "state": {
      "_model_module": "@jupyter-widgets/base",
      "_model_module_version": "1.2.0",
      "_model_name": "LayoutModel",
      "_view_count": null,
      "_view_module": "@jupyter-widgets/base",
      "_view_module_version": "1.2.0",
      "_view_name": "LayoutView",
      "align_content": null,
      "align_items": null,
      "align_self": null,
      "border": null,
      "bottom": null,
      "display": null,
      "flex": null,
      "flex_flow": null,
      "grid_area": null,
      "grid_auto_columns": null,
      "grid_auto_flow": null,
      "grid_auto_rows": null,
      "grid_column": null,
      "grid_gap": null,
      "grid_row": null,
      "grid_template_areas": null,
      "grid_template_columns": null,
      "grid_template_rows": null,
      "height": null,
      "justify_content": null,
      "justify_items": null,
      "left": null,
      "margin": null,
      "max_height": null,
      "max_width": null,
      "min_height": null,
      "min_width": null,
      "object_fit": null,
      "object_position": null,
      "order": null,
      "overflow": null,
      "overflow_x": null,
      "overflow_y": null,
      "padding": null,
      "right": null,
      "top": null,
      "visibility": null,
      "width": null
     }
    },
    "bd87f688dddd4f3783d2e3a45d4bcf82": {
     "model_module": "@jupyter-widgets/controls",
     "model_module_version": "1.5.0",
     "model_name": "HTMLModel",
     "state": {
      "_dom_classes": [],
      "_model_module": "@jupyter-widgets/controls",
      "_model_module_version": "1.5.0",
      "_model_name": "HTMLModel",
      "_view_count": null,
      "_view_module": "@jupyter-widgets/controls",
      "_view_module_version": "1.5.0",
      "_view_name": "HTMLView",
      "description": "",
      "description_tooltip": null,
      "layout": "IPY_MODEL_0019e6781b344ac18d7d244151c44a0e",
      "placeholder": "​",
      "style": "IPY_MODEL_1876ac0e3f694ebaa4b1b3810901cea1",
      "value": "Map: 100%"
     }
    },
    "c389ff825c9547c18ae7dafe85df8427": {
     "model_module": "@jupyter-widgets/base",
     "model_module_version": "1.2.0",
     "model_name": "LayoutModel",
     "state": {
      "_model_module": "@jupyter-widgets/base",
      "_model_module_version": "1.2.0",
      "_model_name": "LayoutModel",
      "_view_count": null,
      "_view_module": "@jupyter-widgets/base",
      "_view_module_version": "1.2.0",
      "_view_name": "LayoutView",
      "align_content": null,
      "align_items": null,
      "align_self": null,
      "border": null,
      "bottom": null,
      "display": null,
      "flex": null,
      "flex_flow": null,
      "grid_area": null,
      "grid_auto_columns": null,
      "grid_auto_flow": null,
      "grid_auto_rows": null,
      "grid_column": null,
      "grid_gap": null,
      "grid_row": null,
      "grid_template_areas": null,
      "grid_template_columns": null,
      "grid_template_rows": null,
      "height": null,
      "justify_content": null,
      "justify_items": null,
      "left": null,
      "margin": null,
      "max_height": null,
      "max_width": null,
      "min_height": null,
      "min_width": null,
      "object_fit": null,
      "object_position": null,
      "order": null,
      "overflow": null,
      "overflow_x": null,
      "overflow_y": null,
      "padding": null,
      "right": null,
      "top": null,
      "visibility": null,
      "width": null
     }
    },
    "c7833dd508b7410b81a69cc72daa9469": {
     "model_module": "@jupyter-widgets/base",
     "model_module_version": "1.2.0",
     "model_name": "LayoutModel",
     "state": {
      "_model_module": "@jupyter-widgets/base",
      "_model_module_version": "1.2.0",
      "_model_name": "LayoutModel",
      "_view_count": null,
      "_view_module": "@jupyter-widgets/base",
      "_view_module_version": "1.2.0",
      "_view_name": "LayoutView",
      "align_content": null,
      "align_items": null,
      "align_self": null,
      "border": null,
      "bottom": null,
      "display": null,
      "flex": null,
      "flex_flow": null,
      "grid_area": null,
      "grid_auto_columns": null,
      "grid_auto_flow": null,
      "grid_auto_rows": null,
      "grid_column": null,
      "grid_gap": null,
      "grid_row": null,
      "grid_template_areas": null,
      "grid_template_columns": null,
      "grid_template_rows": null,
      "height": null,
      "justify_content": null,
      "justify_items": null,
      "left": null,
      "margin": null,
      "max_height": null,
      "max_width": null,
      "min_height": null,
      "min_width": null,
      "object_fit": null,
      "object_position": null,
      "order": null,
      "overflow": null,
      "overflow_x": null,
      "overflow_y": null,
      "padding": null,
      "right": null,
      "top": null,
      "visibility": null,
      "width": null
     }
    },
    "cf100cca6ccc440797b8b602c0c45b18": {
     "model_module": "@jupyter-widgets/base",
     "model_module_version": "1.2.0",
     "model_name": "LayoutModel",
     "state": {
      "_model_module": "@jupyter-widgets/base",
      "_model_module_version": "1.2.0",
      "_model_name": "LayoutModel",
      "_view_count": null,
      "_view_module": "@jupyter-widgets/base",
      "_view_module_version": "1.2.0",
      "_view_name": "LayoutView",
      "align_content": null,
      "align_items": null,
      "align_self": null,
      "border": null,
      "bottom": null,
      "display": null,
      "flex": null,
      "flex_flow": null,
      "grid_area": null,
      "grid_auto_columns": null,
      "grid_auto_flow": null,
      "grid_auto_rows": null,
      "grid_column": null,
      "grid_gap": null,
      "grid_row": null,
      "grid_template_areas": null,
      "grid_template_columns": null,
      "grid_template_rows": null,
      "height": null,
      "justify_content": null,
      "justify_items": null,
      "left": null,
      "margin": null,
      "max_height": null,
      "max_width": null,
      "min_height": null,
      "min_width": null,
      "object_fit": null,
      "object_position": null,
      "order": null,
      "overflow": null,
      "overflow_x": null,
      "overflow_y": null,
      "padding": null,
      "right": null,
      "top": null,
      "visibility": null,
      "width": null
     }
    },
    "d06e2c119c1c445787bd84c131e5f6f6": {
     "model_module": "@jupyter-widgets/controls",
     "model_module_version": "1.5.0",
     "model_name": "DescriptionStyleModel",
     "state": {
      "_model_module": "@jupyter-widgets/controls",
      "_model_module_version": "1.5.0",
      "_model_name": "DescriptionStyleModel",
      "_view_count": null,
      "_view_module": "@jupyter-widgets/base",
      "_view_module_version": "1.2.0",
      "_view_name": "StyleView",
      "description_width": ""
     }
    },
    "d46d2ba7264f49f8a394c8c2b24409b1": {
     "model_module": "@jupyter-widgets/controls",
     "model_module_version": "1.5.0",
     "model_name": "VBoxModel",
     "state": {
      "_dom_classes": [],
      "_model_module": "@jupyter-widgets/controls",
      "_model_module_version": "1.5.0",
      "_model_name": "VBoxModel",
      "_view_count": null,
      "_view_module": "@jupyter-widgets/controls",
      "_view_module_version": "1.5.0",
      "_view_name": "VBoxView",
      "box_style": "",
      "children": [
       "IPY_MODEL_ff473db6120a4dd996851d4628387a4a",
       "IPY_MODEL_15199c50662a4994ad3544897e15b0a8",
       "IPY_MODEL_55a908a2a09240a68dd3e39835a9f322"
      ],
      "layout": "IPY_MODEL_08b15fb91d5a4b309e51d7f139ffd36b"
     }
    },
    "d557b2f457e94d64ae63c697bacf248e": {
     "model_module": "@jupyter-widgets/controls",
     "model_module_version": "1.5.0",
     "model_name": "DescriptionStyleModel",
     "state": {
      "_model_module": "@jupyter-widgets/controls",
      "_model_module_version": "1.5.0",
      "_model_name": "DescriptionStyleModel",
      "_view_count": null,
      "_view_module": "@jupyter-widgets/base",
      "_view_module_version": "1.2.0",
      "_view_name": "StyleView",
      "description_width": ""
     }
    },
    "d967bae7ced44bf1a5e6aece5028d0cd": {
     "model_module": "@jupyter-widgets/controls",
     "model_module_version": "1.5.0",
     "model_name": "ButtonStyleModel",
     "state": {
      "_model_module": "@jupyter-widgets/controls",
      "_model_module_version": "1.5.0",
      "_model_name": "ButtonStyleModel",
      "_view_count": null,
      "_view_module": "@jupyter-widgets/base",
      "_view_module_version": "1.2.0",
      "_view_name": "StyleView",
      "button_color": null,
      "font_weight": ""
     }
    },
    "da724090206f423abb9e37da56d2c17b": {
     "model_module": "@jupyter-widgets/controls",
     "model_module_version": "1.5.0",
     "model_name": "ProgressStyleModel",
     "state": {
      "_model_module": "@jupyter-widgets/controls",
      "_model_module_version": "1.5.0",
      "_model_name": "ProgressStyleModel",
      "_view_count": null,
      "_view_module": "@jupyter-widgets/base",
      "_view_module_version": "1.2.0",
      "_view_name": "StyleView",
      "bar_color": null,
      "description_width": ""
     }
    },
    "dbbc472a488f446e96b3a026971da391": {
     "model_module": "@jupyter-widgets/controls",
     "model_module_version": "1.5.0",
     "model_name": "ButtonModel",
     "state": {
      "_dom_classes": [],
      "_model_module": "@jupyter-widgets/controls",
      "_model_module_version": "1.5.0",
      "_model_name": "ButtonModel",
      "_view_count": null,
      "_view_module": "@jupyter-widgets/controls",
      "_view_module_version": "1.5.0",
      "_view_name": "ButtonView",
      "button_style": "",
      "description": "Login",
      "disabled": false,
      "icon": "",
      "layout": "IPY_MODEL_cf100cca6ccc440797b8b602c0c45b18",
      "style": "IPY_MODEL_d967bae7ced44bf1a5e6aece5028d0cd",
      "tooltip": ""
     }
    },
    "dbf7c9f3a72c431995530cf346790cea": {
     "model_module": "@jupyter-widgets/controls",
     "model_module_version": "1.5.0",
     "model_name": "CheckboxModel",
     "state": {
      "_dom_classes": [],
      "_model_module": "@jupyter-widgets/controls",
      "_model_module_version": "1.5.0",
      "_model_name": "CheckboxModel",
      "_view_count": null,
      "_view_module": "@jupyter-widgets/controls",
      "_view_module_version": "1.5.0",
      "_view_name": "CheckboxView",
      "description": "Add token as git credential?",
      "description_tooltip": null,
      "disabled": false,
      "indent": true,
      "layout": "IPY_MODEL_a780aef7bbb0472e8f0f51e2c71b3463",
      "style": "IPY_MODEL_b0a8dc6edec94085b1f5a2929351f1f0",
      "value": false
     }
    },
    "de09892c62ca4665a9b8544ab15b6b0e": {
     "model_module": "@jupyter-widgets/controls",
     "model_module_version": "1.5.0",
     "model_name": "DescriptionStyleModel",
     "state": {
      "_model_module": "@jupyter-widgets/controls",
      "_model_module_version": "1.5.0",
      "_model_name": "DescriptionStyleModel",
      "_view_count": null,
      "_view_module": "@jupyter-widgets/base",
      "_view_module_version": "1.2.0",
      "_view_name": "StyleView",
      "description_width": ""
     }
    },
    "df73eafb812344a7b470123003a652fc": {
     "model_module": "@jupyter-widgets/controls",
     "model_module_version": "1.5.0",
     "model_name": "FloatProgressModel",
     "state": {
      "_dom_classes": [],
      "_model_module": "@jupyter-widgets/controls",
      "_model_module_version": "1.5.0",
      "_model_name": "FloatProgressModel",
      "_view_count": null,
      "_view_module": "@jupyter-widgets/controls",
      "_view_module_version": "1.5.0",
      "_view_name": "ProgressView",
      "bar_style": "success",
      "description": "",
      "description_tooltip": null,
      "layout": "IPY_MODEL_b73769c0d40444f297ae102dc4e67bb1",
      "max": 360,
      "min": 0,
      "orientation": "horizontal",
      "style": "IPY_MODEL_2622e17875dd4c93a482ca165eda2e4d",
      "value": 360
     }
    },
    "e01fc619e2f64b8eb25615d7a630a006": {
     "model_module": "@jupyter-widgets/controls",
     "model_module_version": "1.5.0",
     "model_name": "DescriptionStyleModel",
     "state": {
      "_model_module": "@jupyter-widgets/controls",
      "_model_module_version": "1.5.0",
      "_model_name": "DescriptionStyleModel",
      "_view_count": null,
      "_view_module": "@jupyter-widgets/base",
      "_view_module_version": "1.2.0",
      "_view_name": "StyleView",
      "description_width": ""
     }
    },
    "e0a67762551347699c91d17fac2d6e18": {
     "model_module": "@jupyter-widgets/controls",
     "model_module_version": "1.5.0",
     "model_name": "FloatProgressModel",
     "state": {
      "_dom_classes": [],
      "_model_module": "@jupyter-widgets/controls",
      "_model_module_version": "1.5.0",
      "_model_name": "FloatProgressModel",
      "_view_count": null,
      "_view_module": "@jupyter-widgets/controls",
      "_view_module_version": "1.5.0",
      "_view_name": "ProgressView",
      "bar_style": "success",
      "description": "",
      "description_tooltip": null,
      "layout": "IPY_MODEL_f8706aea70c74c9d971f0117d541f21c",
      "max": 40,
      "min": 0,
      "orientation": "horizontal",
      "style": "IPY_MODEL_9e7c2008898e462a9d5668ee064f153f",
      "value": 40
     }
    },
    "e95b8fd69d5849adaf75145d6fb9ee42": {
     "model_module": "@jupyter-widgets/controls",
     "model_module_version": "1.5.0",
     "model_name": "DescriptionStyleModel",
     "state": {
      "_model_module": "@jupyter-widgets/controls",
      "_model_module_version": "1.5.0",
      "_model_name": "DescriptionStyleModel",
      "_view_count": null,
      "_view_module": "@jupyter-widgets/base",
      "_view_module_version": "1.2.0",
      "_view_name": "StyleView",
      "description_width": ""
     }
    },
    "ed850e0f28ff479fb990f4c685e18b6f": {
     "model_module": "@jupyter-widgets/controls",
     "model_module_version": "1.5.0",
     "model_name": "DescriptionStyleModel",
     "state": {
      "_model_module": "@jupyter-widgets/controls",
      "_model_module_version": "1.5.0",
      "_model_name": "DescriptionStyleModel",
      "_view_count": null,
      "_view_module": "@jupyter-widgets/base",
      "_view_module_version": "1.2.0",
      "_view_name": "StyleView",
      "description_width": ""
     }
    },
    "ef4d78721ac64ef48aeceb79e15e9db9": {
     "model_module": "@jupyter-widgets/base",
     "model_module_version": "1.2.0",
     "model_name": "LayoutModel",
     "state": {
      "_model_module": "@jupyter-widgets/base",
      "_model_module_version": "1.2.0",
      "_model_name": "LayoutModel",
      "_view_count": null,
      "_view_module": "@jupyter-widgets/base",
      "_view_module_version": "1.2.0",
      "_view_name": "LayoutView",
      "align_content": null,
      "align_items": null,
      "align_self": null,
      "border": null,
      "bottom": null,
      "display": null,
      "flex": null,
      "flex_flow": null,
      "grid_area": null,
      "grid_auto_columns": null,
      "grid_auto_flow": null,
      "grid_auto_rows": null,
      "grid_column": null,
      "grid_gap": null,
      "grid_row": null,
      "grid_template_areas": null,
      "grid_template_columns": null,
      "grid_template_rows": null,
      "height": null,
      "justify_content": null,
      "justify_items": null,
      "left": null,
      "margin": null,
      "max_height": null,
      "max_width": null,
      "min_height": null,
      "min_width": null,
      "object_fit": null,
      "object_position": null,
      "order": null,
      "overflow": null,
      "overflow_x": null,
      "overflow_y": null,
      "padding": null,
      "right": null,
      "top": null,
      "visibility": null,
      "width": null
     }
    },
    "f5f9f4de7a7446e1a6ad277e089b1a2a": {
     "model_module": "@jupyter-widgets/base",
     "model_module_version": "1.2.0",
     "model_name": "LayoutModel",
     "state": {
      "_model_module": "@jupyter-widgets/base",
      "_model_module_version": "1.2.0",
      "_model_name": "LayoutModel",
      "_view_count": null,
      "_view_module": "@jupyter-widgets/base",
      "_view_module_version": "1.2.0",
      "_view_name": "LayoutView",
      "align_content": null,
      "align_items": null,
      "align_self": null,
      "border": null,
      "bottom": null,
      "display": null,
      "flex": null,
      "flex_flow": null,
      "grid_area": null,
      "grid_auto_columns": null,
      "grid_auto_flow": null,
      "grid_auto_rows": null,
      "grid_column": null,
      "grid_gap": null,
      "grid_row": null,
      "grid_template_areas": null,
      "grid_template_columns": null,
      "grid_template_rows": null,
      "height": null,
      "justify_content": null,
      "justify_items": null,
      "left": null,
      "margin": null,
      "max_height": null,
      "max_width": null,
      "min_height": null,
      "min_width": null,
      "object_fit": null,
      "object_position": null,
      "order": null,
      "overflow": null,
      "overflow_x": null,
      "overflow_y": null,
      "padding": null,
      "right": null,
      "top": null,
      "visibility": null,
      "width": null
     }
    },
    "f667eba47bb04f7584d8c285763df760": {
     "model_module": "@jupyter-widgets/controls",
     "model_module_version": "1.5.0",
     "model_name": "HBoxModel",
     "state": {
      "_dom_classes": [],
      "_model_module": "@jupyter-widgets/controls",
      "_model_module_version": "1.5.0",
      "_model_name": "HBoxModel",
      "_view_count": null,
      "_view_module": "@jupyter-widgets/controls",
      "_view_module_version": "1.5.0",
      "_view_name": "HBoxView",
      "box_style": "",
      "children": [
       "IPY_MODEL_fe109d2b99964fbab6dcd0a4e7d47643",
       "IPY_MODEL_42f941b3bc3d4a6cbc22ba61f074f2ca",
       "IPY_MODEL_6bc3425de81d485692a0cf724aba1c21"
      ],
      "layout": "IPY_MODEL_bc93bdcba66e4ff5b32ed3b959720858"
     }
    },
    "f82e2ff6e5b048da9b01d0154b30b699": {
     "model_module": "@jupyter-widgets/controls",
     "model_module_version": "1.5.0",
     "model_name": "DescriptionStyleModel",
     "state": {
      "_model_module": "@jupyter-widgets/controls",
      "_model_module_version": "1.5.0",
      "_model_name": "DescriptionStyleModel",
      "_view_count": null,
      "_view_module": "@jupyter-widgets/base",
      "_view_module_version": "1.2.0",
      "_view_name": "StyleView",
      "description_width": ""
     }
    },
    "f8706aea70c74c9d971f0117d541f21c": {
     "model_module": "@jupyter-widgets/base",
     "model_module_version": "1.2.0",
     "model_name": "LayoutModel",
     "state": {
      "_model_module": "@jupyter-widgets/base",
      "_model_module_version": "1.2.0",
      "_model_name": "LayoutModel",
      "_view_count": null,
      "_view_module": "@jupyter-widgets/base",
      "_view_module_version": "1.2.0",
      "_view_name": "LayoutView",
      "align_content": null,
      "align_items": null,
      "align_self": null,
      "border": null,
      "bottom": null,
      "display": null,
      "flex": null,
      "flex_flow": null,
      "grid_area": null,
      "grid_auto_columns": null,
      "grid_auto_flow": null,
      "grid_auto_rows": null,
      "grid_column": null,
      "grid_gap": null,
      "grid_row": null,
      "grid_template_areas": null,
      "grid_template_columns": null,
      "grid_template_rows": null,
      "height": null,
      "justify_content": null,
      "justify_items": null,
      "left": null,
      "margin": null,
      "max_height": null,
      "max_width": null,
      "min_height": null,
      "min_width": null,
      "object_fit": null,
      "object_position": null,
      "order": null,
      "overflow": null,
      "overflow_x": null,
      "overflow_y": null,
      "padding": null,
      "right": null,
      "top": null,
      "visibility": null,
      "width": null
     }
    },
    "fb886dd7dea64666963734b1829d3ee5": {
     "model_module": "@jupyter-widgets/controls",
     "model_module_version": "1.5.0",
     "model_name": "DescriptionStyleModel",
     "state": {
      "_model_module": "@jupyter-widgets/controls",
      "_model_module_version": "1.5.0",
      "_model_name": "DescriptionStyleModel",
      "_view_count": null,
      "_view_module": "@jupyter-widgets/base",
      "_view_module_version": "1.2.0",
      "_view_name": "StyleView",
      "description_width": ""
     }
    },
    "fd9681d8c0904d6cba983dde8dcbeee2": {
     "model_module": "@jupyter-widgets/controls",
     "model_module_version": "1.5.0",
     "model_name": "FloatProgressModel",
     "state": {
      "_dom_classes": [],
      "_model_module": "@jupyter-widgets/controls",
      "_model_module_version": "1.5.0",
      "_model_name": "FloatProgressModel",
      "_view_count": null,
      "_view_module": "@jupyter-widgets/controls",
      "_view_module_version": "1.5.0",
      "_view_name": "ProgressView",
      "bar_style": "success",
      "description": "",
      "description_tooltip": null,
      "layout": "IPY_MODEL_f5f9f4de7a7446e1a6ad277e089b1a2a",
      "max": 360,
      "min": 0,
      "orientation": "horizontal",
      "style": "IPY_MODEL_da724090206f423abb9e37da56d2c17b",
      "value": 360
     }
    },
    "fe109d2b99964fbab6dcd0a4e7d47643": {
     "model_module": "@jupyter-widgets/controls",
     "model_module_version": "1.5.0",
     "model_name": "HTMLModel",
     "state": {
      "_dom_classes": [],
      "_model_module": "@jupyter-widgets/controls",
      "_model_module_version": "1.5.0",
      "_model_name": "HTMLModel",
      "_view_count": null,
      "_view_module": "@jupyter-widgets/controls",
      "_view_module_version": "1.5.0",
      "_view_name": "HTMLView",
      "description": "",
      "description_tooltip": null,
      "layout": "IPY_MODEL_90e116a62c754893b27b8a1baa8a7403",
      "placeholder": "​",
      "style": "IPY_MODEL_73f31cb2d6d540fb849cc1fa72be56bd",
      "value": "Downloading builder script: "
     }
    },
    "ff473db6120a4dd996851d4628387a4a": {
     "model_module": "@jupyter-widgets/controls",
     "model_module_version": "1.5.0",
     "model_name": "LabelModel",
     "state": {
      "_dom_classes": [],
      "_model_module": "@jupyter-widgets/controls",
      "_model_module_version": "1.5.0",
      "_model_name": "LabelModel",
      "_view_count": null,
      "_view_module": "@jupyter-widgets/controls",
      "_view_module_version": "1.5.0",
      "_view_name": "LabelView",
      "description": "",
      "description_tooltip": null,
      "layout": "IPY_MODEL_c7833dd508b7410b81a69cc72daa9469",
      "placeholder": "​",
      "style": "IPY_MODEL_e95b8fd69d5849adaf75145d6fb9ee42",
      "value": "Token is valid (permission: write)."
     }
    }
   }
  }
 },
 "nbformat": 4,
 "nbformat_minor": 1
}
